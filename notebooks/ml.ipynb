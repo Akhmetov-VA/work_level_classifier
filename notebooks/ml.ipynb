{
 "cells": [
  {
   "cell_type": "code",
   "execution_count": 1,
   "metadata": {},
   "outputs": [
    {
     "name": "stderr",
     "output_type": "stream",
     "text": [
      "/home/admin01/vadim/classifier/.venv/lib/python3.10/site-packages/tqdm/auto.py:21: TqdmWarning: IProgress not found. Please update jupyter and ipywidgets. See https://ipywidgets.readthedocs.io/en/stable/user_install.html\n",
      "  from .autonotebook import tqdm as notebook_tqdm\n"
     ]
    }
   ],
   "source": [
    "import re\n",
    "import numpy as np\n",
    "import pandas as pd\n",
    "from tqdm import tqdm\n",
    "\n",
    "from sklearn.preprocessing import LabelEncoder, OrdinalEncoder\n",
    "from sklearn.pipeline import Pipeline\n",
    "from sklearn.compose import ColumnTransformer\n",
    "from sklearn.decomposition import PCA\n",
    "\n",
    "from sklearn.model_selection import train_test_split, cross_val_score\n",
    "from sklearn.metrics import classification_report\n",
    "from sklearn.metrics import ConfusionMatrixDisplay\n",
    "\n",
    "import torch\n",
    "from transformers import AutoTokenizer, AutoModel\n",
    "\n",
    "tqdm.pandas()\n",
    "\n",
    "device = torch.device('cuda')"
   ]
  },
  {
   "cell_type": "code",
   "execution_count": 2,
   "metadata": {},
   "outputs": [],
   "source": [
    "data = pd.read_excel('../Выгрузка_Классификатор_для передачи_1 заход.xlsx')"
   ]
  },
  {
   "cell_type": "code",
   "execution_count": 3,
   "metadata": {},
   "outputs": [
    {
     "data": {
      "text/html": [
       "<div>\n",
       "<style scoped>\n",
       "    .dataframe tbody tr th:only-of-type {\n",
       "        vertical-align: middle;\n",
       "    }\n",
       "\n",
       "    .dataframe tbody tr th {\n",
       "        vertical-align: top;\n",
       "    }\n",
       "\n",
       "    .dataframe thead th {\n",
       "        text-align: right;\n",
       "    }\n",
       "</style>\n",
       "<table border=\"1\" class=\"dataframe\">\n",
       "  <thead>\n",
       "    <tr style=\"text-align: right;\">\n",
       "      <th></th>\n",
       "      <th>Номер</th>\n",
       "      <th>Пол</th>\n",
       "      <th>Дата рождения</th>\n",
       "      <th>Федеральный округ</th>\n",
       "      <th>Регион</th>\n",
       "      <th>Страна проживания</th>\n",
       "      <th>Место работы</th>\n",
       "      <th>Наименование текущей должности</th>\n",
       "      <th>Уровень образования</th>\n",
       "      <th>Карьерная ступень по Классификатору ФОИР</th>\n",
       "      <th>Наименование выбранной типовой должности</th>\n",
       "      <th>Сфера деятельности по Классификатору ФОИР</th>\n",
       "      <th>Соответствует ли выбранная типовая текущей должности</th>\n",
       "      <th>Ручная проверка карьерной ступени</th>\n",
       "      <th>Разница по итогам проверки</th>\n",
       "    </tr>\n",
       "  </thead>\n",
       "  <tbody>\n",
       "    <tr>\n",
       "      <th>0</th>\n",
       "      <td>9886272994</td>\n",
       "      <td>Мужской</td>\n",
       "      <td>28.05.1980</td>\n",
       "      <td>Центральный ФО</td>\n",
       "      <td>Московская</td>\n",
       "      <td>Россия</td>\n",
       "      <td>ООО \"РЖД-Технологии\"</td>\n",
       "      <td>Директор по стратегии</td>\n",
       "      <td>Кандидат наук</td>\n",
       "      <td>1</td>\n",
       "      <td>Руководитель подразделения/группы/команды на м...</td>\n",
       "      <td>Коммерческие компании, государственные/муницип...</td>\n",
       "      <td>Можно считать аналогом с очень большой натяжкой</td>\n",
       "      <td>NaN</td>\n",
       "      <td>NaN</td>\n",
       "    </tr>\n",
       "    <tr>\n",
       "      <th>1</th>\n",
       "      <td>8010695393</td>\n",
       "      <td>Мужской</td>\n",
       "      <td>09.10.1977</td>\n",
       "      <td>Центральный ФО</td>\n",
       "      <td>Орловская</td>\n",
       "      <td>Россия</td>\n",
       "      <td>ПАО МегаФон</td>\n",
       "      <td>начальник</td>\n",
       "      <td>Два и более высших образований</td>\n",
       "      <td>3</td>\n",
       "      <td>Руководитель проекта в крупной/средней компании</td>\n",
       "      <td>Коммерческие компании, государственные/муницип...</td>\n",
       "      <td>Очень близкий аналог</td>\n",
       "      <td>NaN</td>\n",
       "      <td>NaN</td>\n",
       "    </tr>\n",
       "    <tr>\n",
       "      <th>2</th>\n",
       "      <td>4851605917</td>\n",
       "      <td>Мужской</td>\n",
       "      <td>08.12.1991</td>\n",
       "      <td>Уральский ФО</td>\n",
       "      <td>Свердловская</td>\n",
       "      <td>Россия</td>\n",
       "      <td>ООО \"Генная Хирургия\"</td>\n",
       "      <td>Исполнительный директор</td>\n",
       "      <td>Два и более высших образований</td>\n",
       "      <td>5</td>\n",
       "      <td>Генеральный директор, управляющий директор мал...</td>\n",
       "      <td>Коммерческие компании, государственные/муницип...</td>\n",
       "      <td>Полный аналог</td>\n",
       "      <td>NaN</td>\n",
       "      <td>NaN</td>\n",
       "    </tr>\n",
       "    <tr>\n",
       "      <th>3</th>\n",
       "      <td>4093896163</td>\n",
       "      <td>Мужской</td>\n",
       "      <td>18.07.1973</td>\n",
       "      <td>Северо-Западный ФО</td>\n",
       "      <td>Санкт-Петербург</td>\n",
       "      <td>Россия</td>\n",
       "      <td>ООО \"Спецстроймонтаж\"; ООО \"СЕРВИС ТИМ\"; ООО \"...</td>\n",
       "      <td>Исполнительный директор; Генеральный директор;...</td>\n",
       "      <td>Два и более высших образований</td>\n",
       "      <td>2</td>\n",
       "      <td>Директор малого предприятия</td>\n",
       "      <td>Коммерческие компании, государственные/муницип...</td>\n",
       "      <td>Полный аналог</td>\n",
       "      <td>NaN</td>\n",
       "      <td>NaN</td>\n",
       "    </tr>\n",
       "    <tr>\n",
       "      <th>4</th>\n",
       "      <td>7512508692</td>\n",
       "      <td>Мужской</td>\n",
       "      <td>19.01.1980</td>\n",
       "      <td>Центральный ФО</td>\n",
       "      <td>Москва</td>\n",
       "      <td>Россия</td>\n",
       "      <td>ПАО «Вымпелком»</td>\n",
       "      <td>Директор по стратегии и долгосрочному планиров...</td>\n",
       "      <td>Высшее, специалитет, магистратура</td>\n",
       "      <td>4</td>\n",
       "      <td>Руководитель управления корпоративной функции ...</td>\n",
       "      <td>Коммерческие компании, государственные/муницип...</td>\n",
       "      <td>Очень близкий аналог</td>\n",
       "      <td>NaN</td>\n",
       "      <td>NaN</td>\n",
       "    </tr>\n",
       "    <tr>\n",
       "      <th>...</th>\n",
       "      <td>...</td>\n",
       "      <td>...</td>\n",
       "      <td>...</td>\n",
       "      <td>...</td>\n",
       "      <td>...</td>\n",
       "      <td>...</td>\n",
       "      <td>...</td>\n",
       "      <td>...</td>\n",
       "      <td>...</td>\n",
       "      <td>...</td>\n",
       "      <td>...</td>\n",
       "      <td>...</td>\n",
       "      <td>...</td>\n",
       "      <td>...</td>\n",
       "      <td>...</td>\n",
       "    </tr>\n",
       "    <tr>\n",
       "      <th>75234</th>\n",
       "      <td>5143980152</td>\n",
       "      <td>Мужской</td>\n",
       "      <td>03.09.1967</td>\n",
       "      <td>NaN</td>\n",
       "      <td>NaN</td>\n",
       "      <td>Эстония</td>\n",
       "      <td>ООО Стивтранс</td>\n",
       "      <td>Член правления</td>\n",
       "      <td>Два и более высших образований</td>\n",
       "      <td>2</td>\n",
       "      <td>Директор малого предприятия</td>\n",
       "      <td>Коммерческие компании, государственные/муницип...</td>\n",
       "      <td>Очень близкий аналог</td>\n",
       "      <td>NaN</td>\n",
       "      <td>NaN</td>\n",
       "    </tr>\n",
       "    <tr>\n",
       "      <th>75235</th>\n",
       "      <td>7339537870</td>\n",
       "      <td>Мужской</td>\n",
       "      <td>17.03.1995</td>\n",
       "      <td>Центральный ФО</td>\n",
       "      <td>Белгородская</td>\n",
       "      <td>Россия</td>\n",
       "      <td>NaN</td>\n",
       "      <td>NaN</td>\n",
       "      <td>Два и более высших образований</td>\n",
       "      <td>12</td>\n",
       "      <td>Не работаю</td>\n",
       "      <td>Не работаю</td>\n",
       "      <td>Не работаю</td>\n",
       "      <td>NaN</td>\n",
       "      <td>NaN</td>\n",
       "    </tr>\n",
       "    <tr>\n",
       "      <th>75236</th>\n",
       "      <td>3799741744</td>\n",
       "      <td>Мужской</td>\n",
       "      <td>12.08.1995</td>\n",
       "      <td>NaN</td>\n",
       "      <td>NaN</td>\n",
       "      <td>Таджикистан</td>\n",
       "      <td>РУДН</td>\n",
       "      <td>Врач-ординатор РУДН</td>\n",
       "      <td>Два и более высших образований</td>\n",
       "      <td>12</td>\n",
       "      <td>Не работаю</td>\n",
       "      <td>Не работаю</td>\n",
       "      <td>Полный аналог</td>\n",
       "      <td>NaN</td>\n",
       "      <td>NaN</td>\n",
       "    </tr>\n",
       "    <tr>\n",
       "      <th>75237</th>\n",
       "      <td>9663315939</td>\n",
       "      <td>Мужской</td>\n",
       "      <td>11.01.1982</td>\n",
       "      <td>NaN</td>\n",
       "      <td>NaN</td>\n",
       "      <td>Казахстан</td>\n",
       "      <td>Группа инженерных компаний Интерконд</td>\n",
       "      <td>Управляющий партнер</td>\n",
       "      <td>Высшее, специалитет, магистратура</td>\n",
       "      <td>5</td>\n",
       "      <td>Генеральный директор, управляющий директор мал...</td>\n",
       "      <td>Коммерческие компании, государственные/муницип...</td>\n",
       "      <td>Полный аналог</td>\n",
       "      <td>NaN</td>\n",
       "      <td>NaN</td>\n",
       "    </tr>\n",
       "    <tr>\n",
       "      <th>75238</th>\n",
       "      <td>8793782941</td>\n",
       "      <td>Мужской</td>\n",
       "      <td>10.06.1989</td>\n",
       "      <td>Приволжский ФО</td>\n",
       "      <td>Мордовия</td>\n",
       "      <td>Россия</td>\n",
       "      <td>ИП Адушкин С.А.</td>\n",
       "      <td>Заместитель руководителя</td>\n",
       "      <td>Высшее, специалитет, магистратура</td>\n",
       "      <td>1</td>\n",
       "      <td>Заместитель руководителя малого предприятия/ор...</td>\n",
       "      <td>Коммерческие компании, государственные/муницип...</td>\n",
       "      <td>Очень близкий аналог</td>\n",
       "      <td>NaN</td>\n",
       "      <td>NaN</td>\n",
       "    </tr>\n",
       "  </tbody>\n",
       "</table>\n",
       "<p>75239 rows × 15 columns</p>\n",
       "</div>"
      ],
      "text/plain": [
       "            Номер      Пол Дата рождения   Федеральный округ           Регион  \\\n",
       "0      9886272994  Мужской    28.05.1980      Центральный ФО       Московская   \n",
       "1      8010695393  Мужской    09.10.1977      Центральный ФО        Орловская   \n",
       "2      4851605917  Мужской    08.12.1991        Уральский ФО     Свердловская   \n",
       "3      4093896163  Мужской    18.07.1973  Северо-Западный ФО  Санкт-Петербург   \n",
       "4      7512508692  Мужской    19.01.1980      Центральный ФО           Москва   \n",
       "...           ...      ...           ...                 ...              ...   \n",
       "75234  5143980152  Мужской    03.09.1967                 NaN              NaN   \n",
       "75235  7339537870  Мужской    17.03.1995      Центральный ФО     Белгородская   \n",
       "75236  3799741744  Мужской    12.08.1995                 NaN              NaN   \n",
       "75237  9663315939  Мужской    11.01.1982                 NaN              NaN   \n",
       "75238  8793782941  Мужской    10.06.1989      Приволжский ФО         Мордовия   \n",
       "\n",
       "      Страна проживания                                       Место работы  \\\n",
       "0                Россия                               ООО \"РЖД-Технологии\"   \n",
       "1                Россия                                        ПАО МегаФон   \n",
       "2                Россия                              ООО \"Генная Хирургия\"   \n",
       "3                Россия  ООО \"Спецстроймонтаж\"; ООО \"СЕРВИС ТИМ\"; ООО \"...   \n",
       "4                Россия                                    ПАО «Вымпелком»   \n",
       "...                 ...                                                ...   \n",
       "75234           Эстония                                      ООО Стивтранс   \n",
       "75235            Россия                                                NaN   \n",
       "75236       Таджикистан                                               РУДН   \n",
       "75237         Казахстан               Группа инженерных компаний Интерконд   \n",
       "75238            Россия                                    ИП Адушкин С.А.   \n",
       "\n",
       "                          Наименование текущей должности  \\\n",
       "0                                  Директор по стратегии   \n",
       "1                                              начальник   \n",
       "2                                Исполнительный директор   \n",
       "3      Исполнительный директор; Генеральный директор;...   \n",
       "4      Директор по стратегии и долгосрочному планиров...   \n",
       "...                                                  ...   \n",
       "75234                                     Член правления   \n",
       "75235                                                NaN   \n",
       "75236                                Врач-ординатор РУДН   \n",
       "75237                                Управляющий партнер   \n",
       "75238                           Заместитель руководителя   \n",
       "\n",
       "                     Уровень образования  \\\n",
       "0                          Кандидат наук   \n",
       "1         Два и более высших образований   \n",
       "2         Два и более высших образований   \n",
       "3         Два и более высших образований   \n",
       "4      Высшее, специалитет, магистратура   \n",
       "...                                  ...   \n",
       "75234     Два и более высших образований   \n",
       "75235     Два и более высших образований   \n",
       "75236     Два и более высших образований   \n",
       "75237  Высшее, специалитет, магистратура   \n",
       "75238  Высшее, специалитет, магистратура   \n",
       "\n",
       "       Карьерная ступень по Классификатору ФОИР  \\\n",
       "0                                             1   \n",
       "1                                             3   \n",
       "2                                             5   \n",
       "3                                             2   \n",
       "4                                             4   \n",
       "...                                         ...   \n",
       "75234                                         2   \n",
       "75235                                        12   \n",
       "75236                                        12   \n",
       "75237                                         5   \n",
       "75238                                         1   \n",
       "\n",
       "                Наименование выбранной типовой должности  \\\n",
       "0      Руководитель подразделения/группы/команды на м...   \n",
       "1        Руководитель проекта в крупной/средней компании   \n",
       "2      Генеральный директор, управляющий директор мал...   \n",
       "3                            Директор малого предприятия   \n",
       "4      Руководитель управления корпоративной функции ...   \n",
       "...                                                  ...   \n",
       "75234                        Директор малого предприятия   \n",
       "75235                                         Не работаю   \n",
       "75236                                         Не работаю   \n",
       "75237  Генеральный директор, управляющий директор мал...   \n",
       "75238  Заместитель руководителя малого предприятия/ор...   \n",
       "\n",
       "               Сфера деятельности по Классификатору ФОИР  \\\n",
       "0      Коммерческие компании, государственные/муницип...   \n",
       "1      Коммерческие компании, государственные/муницип...   \n",
       "2      Коммерческие компании, государственные/муницип...   \n",
       "3      Коммерческие компании, государственные/муницип...   \n",
       "4      Коммерческие компании, государственные/муницип...   \n",
       "...                                                  ...   \n",
       "75234  Коммерческие компании, государственные/муницип...   \n",
       "75235                                         Не работаю   \n",
       "75236                                         Не работаю   \n",
       "75237  Коммерческие компании, государственные/муницип...   \n",
       "75238  Коммерческие компании, государственные/муницип...   \n",
       "\n",
       "      Соответствует ли выбранная типовая текущей должности  \\\n",
       "0        Можно считать аналогом с очень большой натяжкой     \n",
       "1                                   Очень близкий аналог     \n",
       "2                                          Полный аналог     \n",
       "3                                          Полный аналог     \n",
       "4                                   Очень близкий аналог     \n",
       "...                                                  ...     \n",
       "75234                               Очень близкий аналог     \n",
       "75235                                         Не работаю     \n",
       "75236                                      Полный аналог     \n",
       "75237                                      Полный аналог     \n",
       "75238                               Очень близкий аналог     \n",
       "\n",
       "       Ручная проверка карьерной ступени  Разница по итогам проверки  \n",
       "0                                    NaN                         NaN  \n",
       "1                                    NaN                         NaN  \n",
       "2                                    NaN                         NaN  \n",
       "3                                    NaN                         NaN  \n",
       "4                                    NaN                         NaN  \n",
       "...                                  ...                         ...  \n",
       "75234                                NaN                         NaN  \n",
       "75235                                NaN                         NaN  \n",
       "75236                                NaN                         NaN  \n",
       "75237                                NaN                         NaN  \n",
       "75238                                NaN                         NaN  \n",
       "\n",
       "[75239 rows x 15 columns]"
      ]
     },
     "execution_count": 3,
     "metadata": {},
     "output_type": "execute_result"
    }
   ],
   "source": [
    "data"
   ]
  },
  {
   "cell_type": "code",
   "execution_count": 4,
   "metadata": {},
   "outputs": [
    {
     "data": {
      "text/plain": [
       "Номер                                                   75239\n",
       "Пол                                                         2\n",
       "Дата рождения                                           12930\n",
       "Федеральный округ                                           8\n",
       "Регион                                                     86\n",
       "Страна проживания                                         131\n",
       "Место работы                                            52556\n",
       "Наименование текущей должности                          33351\n",
       "Уровень образования                                        10\n",
       "Карьерная ступень по Классификатору ФОИР                   12\n",
       "Наименование выбранной типовой должности                  169\n",
       "Сфера деятельности по Классификатору ФОИР                   8\n",
       "Соответствует ли выбранная типовая текущей должности        5\n",
       "Ручная проверка карьерной ступени                          11\n",
       "Разница по итогам проверки                                 12\n",
       "dtype: int64"
      ]
     },
     "execution_count": 4,
     "metadata": {},
     "output_type": "execute_result"
    }
   ],
   "source": [
    "data.nunique()"
   ]
  },
  {
   "cell_type": "code",
   "execution_count": 5,
   "metadata": {},
   "outputs": [
    {
     "data": {
      "text/plain": [
       "Наименование выбранной типовой должности\n",
       "Не работаю                                                                                                                                           6250\n",
       "Руководитель подразделения/группы/команды на малом предприятии/организации (малый бизнес)                                                            6248\n",
       "Руководитель структурного подразделения (начальник отдела)/группы/команды на крупном предприятии/организации (федеральный уровень/крупный бизнес)    6165\n",
       "Руководитель подразделения (начальник отдела) на среднем предприятии/организации (региональный уровень/средний бизнес)                               5306\n",
       "Руководитель проекта в крупной/средней компании                                                                                                      4822\n",
       "                                                                                                                                                     ... \n",
       "Руководитель администрации субъекта РФ (без статуса вице-губернатора, заместителя губернатора)                                                          3\n",
       "Зам председателя комитета ГД и СФ                                                                                                                       2\n",
       "Председатель комитета в ГД и СФ                                                                                                                         2\n",
       "Председатель представительного органа власти в субъекте РФ (законодательного собрания, областной думы)                                                  1\n",
       "Первый заместитель главы субъекта РФ                                                                                                                    1\n",
       "Name: count, Length: 169, dtype: int64"
      ]
     },
     "execution_count": 5,
     "metadata": {},
     "output_type": "execute_result"
    }
   ],
   "source": [
    "data['Наименование выбранной типовой должности'].value_counts()"
   ]
  },
  {
   "cell_type": "code",
   "execution_count": null,
   "metadata": {},
   "outputs": [],
   "source": []
  },
  {
   "cell_type": "code",
   "execution_count": 6,
   "metadata": {},
   "outputs": [
    {
     "data": {
      "text/plain": [
       "Место работы\n",
       "ПАО Сбербанк                                               617\n",
       "Сбербанк                                                   165\n",
       "Индивидуальный предприниматель                             156\n",
       "ИП                                                         128\n",
       "ОАО \"РЖД\"                                                  127\n",
       "                                                          ... \n",
       "ЗАО «АМ СПб»                                                 1\n",
       "Fresh Auto                                                   1\n",
       "АО РНПК                                                      1\n",
       "Отделение-НБ Республика Дагестан Южного ГУ Банка России      1\n",
       "ИП Адушкин С.А.                                              1\n",
       "Name: count, Length: 52556, dtype: int64"
      ]
     },
     "execution_count": 6,
     "metadata": {},
     "output_type": "execute_result"
    }
   ],
   "source": [
    "data['Место работы'].value_counts()"
   ]
  },
  {
   "cell_type": "code",
   "execution_count": 11,
   "metadata": {},
   "outputs": [
    {
     "data": {
      "text/plain": [
       "1984.5057188554224"
      ]
     },
     "execution_count": 11,
     "metadata": {},
     "output_type": "execute_result"
    }
   ],
   "source": [
    "pd.Timestamp('now').year - data['age'].mean()"
   ]
  },
  {
   "cell_type": "code",
   "execution_count": 7,
   "metadata": {},
   "outputs": [],
   "source": [
    "data['Дата рождения'] = pd.to_datetime(data['Дата рождения'], format=\"%d.%m.%Y\")\n",
    "data['age'] = pd.Timestamp('now').year - data['Дата рождения'].dt.year\n",
    "\n",
    "\n",
    "\n",
    "LE = LabelEncoder()\n",
    "data['label'] = LE.fit_transform(data['Сфера деятельности по Классификатору ФОИР'])\n",
    "# data['label'] = LE.fit_transform(data['Карьерная ступень по Классификатору ФОИР'])\n",
    "\n",
    "text_cols  = ['Место работы', 'Наименование текущей должности', 'Наименование выбранной типовой должности',]\n",
    "cat_cols = ['age', 'Пол', 'Регион', 'Страна проживания', 'Уровень образования', 'Соответствует ли выбранная типовая текущей должности']\n",
    "data[text_cols] = data[text_cols].fillna('Пропущенное значение')"
   ]
  },
  {
   "cell_type": "code",
   "execution_count": 6,
   "metadata": {},
   "outputs": [],
   "source": [
    "df = data[data['Ручная проверка карьерной ступени'].notna()]\n",
    "df_train, df_val, y_train, y_val= train_test_split(df[cat_cols + text_cols], df['label'], random_state=42)"
   ]
  },
  {
   "cell_type": "code",
   "execution_count": 7,
   "metadata": {},
   "outputs": [],
   "source": [
    "df = data.copy()\n",
    "\n",
    "df_val = df[df['Ручная проверка карьерной ступени'].notna()][cat_cols + text_cols]\n",
    "y_val = df[df['Ручная проверка карьерной ступени'].notna()]['label']\n",
    "\n",
    "df_train = df[df['Ручная проверка карьерной ступени'].isna()][cat_cols + text_cols]\n",
    "y_train = df[df['Ручная проверка карьерной ступени'].isna()]['label']"
   ]
  },
  {
   "cell_type": "code",
   "execution_count": 8,
   "metadata": {},
   "outputs": [],
   "source": [
    "# df = df.fillna('NaN')"
   ]
  },
  {
   "cell_type": "code",
   "execution_count": 9,
   "metadata": {},
   "outputs": [
    {
     "data": {
      "text/plain": [
       "Номер                                                   75239\n",
       "Пол                                                         2\n",
       "Дата рождения                                           12930\n",
       "Федеральный округ                                           8\n",
       "Регион                                                     86\n",
       "Страна проживания                                         131\n",
       "Место работы                                            52557\n",
       "Наименование текущей должности                          33352\n",
       "Уровень образования                                        10\n",
       "Карьерная ступень по Классификатору ФОИР                   12\n",
       "Наименование выбранной типовой должности                  169\n",
       "Сфера деятельности по Классификатору ФОИР                   8\n",
       "Соответствует ли выбранная типовая текущей должности        5\n",
       "Ручная проверка карьерной ступени                          11\n",
       "Разница по итогам проверки                                 12\n",
       "age                                                        44\n",
       "label                                                       8\n",
       "dtype: int64"
      ]
     },
     "execution_count": 9,
     "metadata": {},
     "output_type": "execute_result"
    }
   ],
   "source": [
    "df.nunique()"
   ]
  },
  {
   "cell_type": "markdown",
   "metadata": {},
   "source": [
    "Посмотрим распределение таргета"
   ]
  },
  {
   "cell_type": "code",
   "execution_count": 10,
   "metadata": {},
   "outputs": [
    {
     "data": {
      "text/plain": [
       "<Axes: >"
      ]
     },
     "execution_count": 10,
     "metadata": {},
     "output_type": "execute_result"
    },
    {
     "data": {
      "image/png": "[encoded data removed]",
      "text/plain": [
       "<Figure size 640x480 with 1 Axes>"
      ]
     },
     "metadata": {},
     "output_type": "display_data"
    }
   ],
   "source": [
    "df['label'].hist(bins=15)"
   ]
  },
  {
   "cell_type": "code",
   "execution_count": 11,
   "metadata": {},
   "outputs": [
    {
     "data": {
      "text/plain": [
       "0       NaN\n",
       "1       NaN\n",
       "2       NaN\n",
       "3       NaN\n",
       "4       NaN\n",
       "         ..\n",
       "75234   NaN\n",
       "75235   NaN\n",
       "75236   NaN\n",
       "75237   NaN\n",
       "75238   NaN\n",
       "Name: Ручная проверка карьерной ступени, Length: 75239, dtype: float64"
      ]
     },
     "execution_count": 11,
     "metadata": {},
     "output_type": "execute_result"
    }
   ],
   "source": [
    "df['Ручная проверка карьерной ступени']"
   ]
  },
  {
   "cell_type": "markdown",
   "metadata": {},
   "source": [
    "## Создадим категориальные фичи \n",
    "(Возраст, Пол, Регион, Страна проживания, Уровень образования, Соответствует ли выбранная типовая текущей должности)"
   ]
  },
  {
   "cell_type": "code",
   "execution_count": 12,
   "metadata": {},
   "outputs": [
    {
     "data": {
      "text/html": [
       "<style>#sk-container-id-1 {color: black;}#sk-container-id-1 pre{padding: 0;}#sk-container-id-1 div.sk-toggleable {background-color: white;}#sk-container-id-1 label.sk-toggleable__label {cursor: pointer;display: block;width: 100%;margin-bottom: 0;padding: 0.3em;box-sizing: border-box;text-align: center;}#sk-container-id-1 label.sk-toggleable__label-arrow:before {content: \"▸\";float: left;margin-right: 0.25em;color: #696969;}#sk-container-id-1 label.sk-toggleable__label-arrow:hover:before {color: black;}#sk-container-id-1 div.sk-estimator:hover label.sk-toggleable__label-arrow:before {color: black;}#sk-container-id-1 div.sk-toggleable__content {max-height: 0;max-width: 0;overflow: hidden;text-align: left;background-color: #f0f8ff;}#sk-container-id-1 div.sk-toggleable__content pre {margin: 0.2em;color: black;border-radius: 0.25em;background-color: #f0f8ff;}#sk-container-id-1 input.sk-toggleable__control:checked~div.sk-toggleable__content {max-height: 200px;max-width: 100%;overflow: auto;}#sk-container-id-1 input.sk-toggleable__control:checked~label.sk-toggleable__label-arrow:before {content: \"▾\";}#sk-container-id-1 div.sk-estimator input.sk-toggleable__control:checked~label.sk-toggleable__label {background-color: #d4ebff;}#sk-container-id-1 div.sk-label input.sk-toggleable__control:checked~label.sk-toggleable__label {background-color: #d4ebff;}#sk-container-id-1 input.sk-hidden--visually {border: 0;clip: rect(1px 1px 1px 1px);clip: rect(1px, 1px, 1px, 1px);height: 1px;margin: -1px;overflow: hidden;padding: 0;position: absolute;width: 1px;}#sk-container-id-1 div.sk-estimator {font-family: monospace;background-color: #f0f8ff;border: 1px dotted black;border-radius: 0.25em;box-sizing: border-box;margin-bottom: 0.5em;}#sk-container-id-1 div.sk-estimator:hover {background-color: #d4ebff;}#sk-container-id-1 div.sk-parallel-item::after {content: \"\";width: 100%;border-bottom: 1px solid gray;flex-grow: 1;}#sk-container-id-1 div.sk-label:hover label.sk-toggleable__label {background-color: #d4ebff;}#sk-container-id-1 div.sk-serial::before {content: \"\";position: absolute;border-left: 1px solid gray;box-sizing: border-box;top: 0;bottom: 0;left: 50%;z-index: 0;}#sk-container-id-1 div.sk-serial {display: flex;flex-direction: column;align-items: center;background-color: white;padding-right: 0.2em;padding-left: 0.2em;position: relative;}#sk-container-id-1 div.sk-item {position: relative;z-index: 1;}#sk-container-id-1 div.sk-parallel {display: flex;align-items: stretch;justify-content: center;background-color: white;position: relative;}#sk-container-id-1 div.sk-item::before, #sk-container-id-1 div.sk-parallel-item::before {content: \"\";position: absolute;border-left: 1px solid gray;box-sizing: border-box;top: 0;bottom: 0;left: 50%;z-index: -1;}#sk-container-id-1 div.sk-parallel-item {display: flex;flex-direction: column;z-index: 1;position: relative;background-color: white;}#sk-container-id-1 div.sk-parallel-item:first-child::after {align-self: flex-end;width: 50%;}#sk-container-id-1 div.sk-parallel-item:last-child::after {align-self: flex-start;width: 50%;}#sk-container-id-1 div.sk-parallel-item:only-child::after {width: 0;}#sk-container-id-1 div.sk-dashed-wrapped {border: 1px dashed gray;margin: 0 0.4em 0.5em 0.4em;box-sizing: border-box;padding-bottom: 0.4em;background-color: white;}#sk-container-id-1 div.sk-label label {font-family: monospace;font-weight: bold;display: inline-block;line-height: 1.2em;}#sk-container-id-1 div.sk-label-container {text-align: center;}#sk-container-id-1 div.sk-container {/* jupyter's `normalize.less` sets `[hidden] { display: none; }` but bootstrap.min.css set `[hidden] { display: none !important; }` so we also need the `!important` here to be able to override the default hidden behavior on the sphinx rendered scikit-learn.org. See: https://github.com/scikit-learn/scikit-learn/issues/21755 */display: inline-block !important;position: relative;}#sk-container-id-1 div.sk-text-repr-fallback {display: none;}</style><div id=\"sk-container-id-1\" class=\"sk-top-container\"><div class=\"sk-text-repr-fallback\"><pre>ColumnTransformer(remainder=&#x27;passthrough&#x27;,\n",
       "                  transformers=[(&#x27;encoder&#x27;,\n",
       "                                 OrdinalEncoder(encoded_missing_value=-1),\n",
       "                                 [&#x27;age&#x27;, &#x27;Пол&#x27;, &#x27;Регион&#x27;, &#x27;Страна проживания&#x27;,\n",
       "                                  &#x27;Уровень образования&#x27;,\n",
       "                                  &#x27;Соответствует ли выбранная типовая текущей &#x27;\n",
       "                                  &#x27;должности&#x27;])])</pre><b>In a Jupyter environment, please rerun this cell to show the HTML representation or trust the notebook. <br />On GitHub, the HTML representation is unable to render, please try loading this page with nbviewer.org.</b></div><div class=\"sk-container\" hidden><div class=\"sk-item sk-dashed-wrapped\"><div class=\"sk-label-container\"><div class=\"sk-label sk-toggleable\"><input class=\"sk-toggleable__control sk-hidden--visually\" id=\"sk-estimator-id-1\" type=\"checkbox\" ><label for=\"sk-estimator-id-1\" class=\"sk-toggleable__label sk-toggleable__label-arrow\">ColumnTransformer</label><div class=\"sk-toggleable__content\"><pre>ColumnTransformer(remainder=&#x27;passthrough&#x27;,\n",
       "                  transformers=[(&#x27;encoder&#x27;,\n",
       "                                 OrdinalEncoder(encoded_missing_value=-1),\n",
       "                                 [&#x27;age&#x27;, &#x27;Пол&#x27;, &#x27;Регион&#x27;, &#x27;Страна проживания&#x27;,\n",
       "                                  &#x27;Уровень образования&#x27;,\n",
       "                                  &#x27;Соответствует ли выбранная типовая текущей &#x27;\n",
       "                                  &#x27;должности&#x27;])])</pre></div></div></div><div class=\"sk-parallel\"><div class=\"sk-parallel-item\"><div class=\"sk-item\"><div class=\"sk-label-container\"><div class=\"sk-label sk-toggleable\"><input class=\"sk-toggleable__control sk-hidden--visually\" id=\"sk-estimator-id-2\" type=\"checkbox\" ><label for=\"sk-estimator-id-2\" class=\"sk-toggleable__label sk-toggleable__label-arrow\">encoder</label><div class=\"sk-toggleable__content\"><pre>[&#x27;age&#x27;, &#x27;Пол&#x27;, &#x27;Регион&#x27;, &#x27;Страна проживания&#x27;, &#x27;Уровень образования&#x27;, &#x27;Соответствует ли выбранная типовая текущей должности&#x27;]</pre></div></div></div><div class=\"sk-serial\"><div class=\"sk-item\"><div class=\"sk-estimator sk-toggleable\"><input class=\"sk-toggleable__control sk-hidden--visually\" id=\"sk-estimator-id-3\" type=\"checkbox\" ><label for=\"sk-estimator-id-3\" class=\"sk-toggleable__label sk-toggleable__label-arrow\">OrdinalEncoder</label><div class=\"sk-toggleable__content\"><pre>OrdinalEncoder(encoded_missing_value=-1)</pre></div></div></div></div></div></div><div class=\"sk-parallel-item\"><div class=\"sk-item\"><div class=\"sk-label-container\"><div class=\"sk-label sk-toggleable\"><input class=\"sk-toggleable__control sk-hidden--visually\" id=\"sk-estimator-id-4\" type=\"checkbox\" ><label for=\"sk-estimator-id-4\" class=\"sk-toggleable__label sk-toggleable__label-arrow\">remainder</label><div class=\"sk-toggleable__content\"><pre></pre></div></div></div><div class=\"sk-serial\"><div class=\"sk-item\"><div class=\"sk-estimator sk-toggleable\"><input class=\"sk-toggleable__control sk-hidden--visually\" id=\"sk-estimator-id-5\" type=\"checkbox\" ><label for=\"sk-estimator-id-5\" class=\"sk-toggleable__label sk-toggleable__label-arrow\">passthrough</label><div class=\"sk-toggleable__content\"><pre>passthrough</pre></div></div></div></div></div></div></div></div></div></div>"
      ],
      "text/plain": [
       "ColumnTransformer(remainder='passthrough',\n",
       "                  transformers=[('encoder',\n",
       "                                 OrdinalEncoder(encoded_missing_value=-1),\n",
       "                                 ['age', 'Пол', 'Регион', 'Страна проживания',\n",
       "                                  'Уровень образования',\n",
       "                                  'Соответствует ли выбранная типовая текущей '\n",
       "                                  'должности'])])"
      ]
     },
     "execution_count": 12,
     "metadata": {},
     "output_type": "execute_result"
    }
   ],
   "source": [
    "cat_transformer = ColumnTransformer([('encoder', OrdinalEncoder(encoded_missing_value=-1), cat_cols)], remainder='passthrough', verbose_feature_names_out=True)\n",
    "cat_transformer.set_output(transform='pandas')"
   ]
  },
  {
   "cell_type": "code",
   "execution_count": 13,
   "metadata": {},
   "outputs": [
    {
     "data": {
      "text/html": [
       "<div>\n",
       "<style scoped>\n",
       "    .dataframe tbody tr th:only-of-type {\n",
       "        vertical-align: middle;\n",
       "    }\n",
       "\n",
       "    .dataframe tbody tr th {\n",
       "        vertical-align: top;\n",
       "    }\n",
       "\n",
       "    .dataframe thead th {\n",
       "        text-align: right;\n",
       "    }\n",
       "</style>\n",
       "<table border=\"1\" class=\"dataframe\">\n",
       "  <thead>\n",
       "    <tr style=\"text-align: right;\">\n",
       "      <th></th>\n",
       "      <th>encoder__age</th>\n",
       "      <th>encoder__Пол</th>\n",
       "      <th>encoder__Регион</th>\n",
       "      <th>encoder__Страна проживания</th>\n",
       "      <th>encoder__Уровень образования</th>\n",
       "      <th>encoder__Соответствует ли выбранная типовая текущей должности</th>\n",
       "      <th>remainder__Номер</th>\n",
       "      <th>remainder__Дата рождения</th>\n",
       "      <th>remainder__Федеральный округ</th>\n",
       "      <th>remainder__Место работы</th>\n",
       "      <th>remainder__Наименование текущей должности</th>\n",
       "      <th>remainder__Карьерная ступень по Классификатору ФОИР</th>\n",
       "      <th>remainder__Наименование выбранной типовой должности</th>\n",
       "      <th>remainder__Сфера деятельности по Классификатору ФОИР</th>\n",
       "      <th>remainder__Ручная проверка карьерной ступени</th>\n",
       "      <th>remainder__Разница по итогам проверки</th>\n",
       "      <th>remainder__label</th>\n",
       "    </tr>\n",
       "  </thead>\n",
       "  <tbody>\n",
       "    <tr>\n",
       "      <th>0</th>\n",
       "      <td>23.0</td>\n",
       "      <td>1.0</td>\n",
       "      <td>43.0</td>\n",
       "      <td>91.0</td>\n",
       "      <td>5.0</td>\n",
       "      <td>0.0</td>\n",
       "      <td>9886272994</td>\n",
       "      <td>1980-05-28</td>\n",
       "      <td>Центральный ФО</td>\n",
       "      <td>ООО \"РЖД-Технологии\"</td>\n",
       "      <td>Директор по стратегии</td>\n",
       "      <td>1</td>\n",
       "      <td>Руководитель подразделения/группы/команды на м...</td>\n",
       "      <td>Коммерческие компании, государственные/муницип...</td>\n",
       "      <td>NaN</td>\n",
       "      <td>NaN</td>\n",
       "      <td>1</td>\n",
       "    </tr>\n",
       "    <tr>\n",
       "      <th>1</th>\n",
       "      <td>26.0</td>\n",
       "      <td>1.0</td>\n",
       "      <td>51.0</td>\n",
       "      <td>91.0</td>\n",
       "      <td>3.0</td>\n",
       "      <td>3.0</td>\n",
       "      <td>8010695393</td>\n",
       "      <td>1977-10-09</td>\n",
       "      <td>Центральный ФО</td>\n",
       "      <td>ПАО МегаФон</td>\n",
       "      <td>начальник</td>\n",
       "      <td>3</td>\n",
       "      <td>Руководитель проекта в крупной/средней компании</td>\n",
       "      <td>Коммерческие компании, государственные/муницип...</td>\n",
       "      <td>NaN</td>\n",
       "      <td>NaN</td>\n",
       "      <td>1</td>\n",
       "    </tr>\n",
       "    <tr>\n",
       "      <th>2</th>\n",
       "      <td>12.0</td>\n",
       "      <td>1.0</td>\n",
       "      <td>63.0</td>\n",
       "      <td>91.0</td>\n",
       "      <td>3.0</td>\n",
       "      <td>4.0</td>\n",
       "      <td>4851605917</td>\n",
       "      <td>1991-12-08</td>\n",
       "      <td>Уральский ФО</td>\n",
       "      <td>ООО \"Генная Хирургия\"</td>\n",
       "      <td>Исполнительный директор</td>\n",
       "      <td>5</td>\n",
       "      <td>Генеральный директор, управляющий директор мал...</td>\n",
       "      <td>Коммерческие компании, государственные/муницип...</td>\n",
       "      <td>NaN</td>\n",
       "      <td>NaN</td>\n",
       "      <td>1</td>\n",
       "    </tr>\n",
       "    <tr>\n",
       "      <th>3</th>\n",
       "      <td>30.0</td>\n",
       "      <td>1.0</td>\n",
       "      <td>59.0</td>\n",
       "      <td>91.0</td>\n",
       "      <td>3.0</td>\n",
       "      <td>4.0</td>\n",
       "      <td>4093896163</td>\n",
       "      <td>1973-07-18</td>\n",
       "      <td>Северо-Западный ФО</td>\n",
       "      <td>ООО \"Спецстроймонтаж\"; ООО \"СЕРВИС ТИМ\"; ООО \"...</td>\n",
       "      <td>Исполнительный директор; Генеральный директор;...</td>\n",
       "      <td>2</td>\n",
       "      <td>Директор малого предприятия</td>\n",
       "      <td>Коммерческие компании, государственные/муницип...</td>\n",
       "      <td>NaN</td>\n",
       "      <td>NaN</td>\n",
       "      <td>1</td>\n",
       "    </tr>\n",
       "    <tr>\n",
       "      <th>4</th>\n",
       "      <td>23.0</td>\n",
       "      <td>1.0</td>\n",
       "      <td>42.0</td>\n",
       "      <td>91.0</td>\n",
       "      <td>2.0</td>\n",
       "      <td>3.0</td>\n",
       "      <td>7512508692</td>\n",
       "      <td>1980-01-19</td>\n",
       "      <td>Центральный ФО</td>\n",
       "      <td>ПАО «Вымпелком»</td>\n",
       "      <td>Директор по стратегии и долгосрочному планиров...</td>\n",
       "      <td>4</td>\n",
       "      <td>Руководитель управления корпоративной функции ...</td>\n",
       "      <td>Коммерческие компании, государственные/муницип...</td>\n",
       "      <td>NaN</td>\n",
       "      <td>NaN</td>\n",
       "      <td>1</td>\n",
       "    </tr>\n",
       "    <tr>\n",
       "      <th>...</th>\n",
       "      <td>...</td>\n",
       "      <td>...</td>\n",
       "      <td>...</td>\n",
       "      <td>...</td>\n",
       "      <td>...</td>\n",
       "      <td>...</td>\n",
       "      <td>...</td>\n",
       "      <td>...</td>\n",
       "      <td>...</td>\n",
       "      <td>...</td>\n",
       "      <td>...</td>\n",
       "      <td>...</td>\n",
       "      <td>...</td>\n",
       "      <td>...</td>\n",
       "      <td>...</td>\n",
       "      <td>...</td>\n",
       "      <td>...</td>\n",
       "    </tr>\n",
       "    <tr>\n",
       "      <th>75234</th>\n",
       "      <td>36.0</td>\n",
       "      <td>1.0</td>\n",
       "      <td>-1.0</td>\n",
       "      <td>126.0</td>\n",
       "      <td>3.0</td>\n",
       "      <td>3.0</td>\n",
       "      <td>5143980152</td>\n",
       "      <td>1967-09-03</td>\n",
       "      <td>NaN</td>\n",
       "      <td>ООО Стивтранс</td>\n",
       "      <td>Член правления</td>\n",
       "      <td>2</td>\n",
       "      <td>Директор малого предприятия</td>\n",
       "      <td>Коммерческие компании, государственные/муницип...</td>\n",
       "      <td>NaN</td>\n",
       "      <td>NaN</td>\n",
       "      <td>1</td>\n",
       "    </tr>\n",
       "    <tr>\n",
       "      <th>75235</th>\n",
       "      <td>8.0</td>\n",
       "      <td>1.0</td>\n",
       "      <td>8.0</td>\n",
       "      <td>91.0</td>\n",
       "      <td>3.0</td>\n",
       "      <td>2.0</td>\n",
       "      <td>7339537870</td>\n",
       "      <td>1995-03-17</td>\n",
       "      <td>Центральный ФО</td>\n",
       "      <td>Пропущенное значение</td>\n",
       "      <td>Пропущенное значение</td>\n",
       "      <td>12</td>\n",
       "      <td>Не работаю</td>\n",
       "      <td>Не работаю</td>\n",
       "      <td>NaN</td>\n",
       "      <td>NaN</td>\n",
       "      <td>2</td>\n",
       "    </tr>\n",
       "    <tr>\n",
       "      <th>75236</th>\n",
       "      <td>8.0</td>\n",
       "      <td>1.0</td>\n",
       "      <td>-1.0</td>\n",
       "      <td>104.0</td>\n",
       "      <td>3.0</td>\n",
       "      <td>4.0</td>\n",
       "      <td>3799741744</td>\n",
       "      <td>1995-08-12</td>\n",
       "      <td>NaN</td>\n",
       "      <td>РУДН</td>\n",
       "      <td>Врач-ординатор РУДН</td>\n",
       "      <td>12</td>\n",
       "      <td>Не работаю</td>\n",
       "      <td>Не работаю</td>\n",
       "      <td>NaN</td>\n",
       "      <td>NaN</td>\n",
       "      <td>2</td>\n",
       "    </tr>\n",
       "    <tr>\n",
       "      <th>75237</th>\n",
       "      <td>21.0</td>\n",
       "      <td>1.0</td>\n",
       "      <td>-1.0</td>\n",
       "      <td>51.0</td>\n",
       "      <td>2.0</td>\n",
       "      <td>4.0</td>\n",
       "      <td>9663315939</td>\n",
       "      <td>1982-01-11</td>\n",
       "      <td>NaN</td>\n",
       "      <td>Группа инженерных компаний Интерконд</td>\n",
       "      <td>Управляющий партнер</td>\n",
       "      <td>5</td>\n",
       "      <td>Генеральный директор, управляющий директор мал...</td>\n",
       "      <td>Коммерческие компании, государственные/муницип...</td>\n",
       "      <td>NaN</td>\n",
       "      <td>NaN</td>\n",
       "      <td>1</td>\n",
       "    </tr>\n",
       "    <tr>\n",
       "      <th>75238</th>\n",
       "      <td>14.0</td>\n",
       "      <td>1.0</td>\n",
       "      <td>41.0</td>\n",
       "      <td>91.0</td>\n",
       "      <td>2.0</td>\n",
       "      <td>3.0</td>\n",
       "      <td>8793782941</td>\n",
       "      <td>1989-06-10</td>\n",
       "      <td>Приволжский ФО</td>\n",
       "      <td>ИП Адушкин С.А.</td>\n",
       "      <td>Заместитель руководителя</td>\n",
       "      <td>1</td>\n",
       "      <td>Заместитель руководителя малого предприятия/ор...</td>\n",
       "      <td>Коммерческие компании, государственные/муницип...</td>\n",
       "      <td>NaN</td>\n",
       "      <td>NaN</td>\n",
       "      <td>1</td>\n",
       "    </tr>\n",
       "  </tbody>\n",
       "</table>\n",
       "<p>75239 rows × 17 columns</p>\n",
       "</div>"
      ],
      "text/plain": [
       "       encoder__age  encoder__Пол  encoder__Регион  \\\n",
       "0              23.0           1.0             43.0   \n",
       "1              26.0           1.0             51.0   \n",
       "2              12.0           1.0             63.0   \n",
       "3              30.0           1.0             59.0   \n",
       "4              23.0           1.0             42.0   \n",
       "...             ...           ...              ...   \n",
       "75234          36.0           1.0             -1.0   \n",
       "75235           8.0           1.0              8.0   \n",
       "75236           8.0           1.0             -1.0   \n",
       "75237          21.0           1.0             -1.0   \n",
       "75238          14.0           1.0             41.0   \n",
       "\n",
       "       encoder__Страна проживания  encoder__Уровень образования  \\\n",
       "0                            91.0                           5.0   \n",
       "1                            91.0                           3.0   \n",
       "2                            91.0                           3.0   \n",
       "3                            91.0                           3.0   \n",
       "4                            91.0                           2.0   \n",
       "...                           ...                           ...   \n",
       "75234                       126.0                           3.0   \n",
       "75235                        91.0                           3.0   \n",
       "75236                       104.0                           3.0   \n",
       "75237                        51.0                           2.0   \n",
       "75238                        91.0                           2.0   \n",
       "\n",
       "       encoder__Соответствует ли выбранная типовая текущей должности  \\\n",
       "0                                                    0.0               \n",
       "1                                                    3.0               \n",
       "2                                                    4.0               \n",
       "3                                                    4.0               \n",
       "4                                                    3.0               \n",
       "...                                                  ...               \n",
       "75234                                                3.0               \n",
       "75235                                                2.0               \n",
       "75236                                                4.0               \n",
       "75237                                                4.0               \n",
       "75238                                                3.0               \n",
       "\n",
       "       remainder__Номер remainder__Дата рождения remainder__Федеральный округ  \\\n",
       "0            9886272994               1980-05-28               Центральный ФО   \n",
       "1            8010695393               1977-10-09               Центральный ФО   \n",
       "2            4851605917               1991-12-08                 Уральский ФО   \n",
       "3            4093896163               1973-07-18           Северо-Западный ФО   \n",
       "4            7512508692               1980-01-19               Центральный ФО   \n",
       "...                 ...                      ...                          ...   \n",
       "75234        5143980152               1967-09-03                          NaN   \n",
       "75235        7339537870               1995-03-17               Центральный ФО   \n",
       "75236        3799741744               1995-08-12                          NaN   \n",
       "75237        9663315939               1982-01-11                          NaN   \n",
       "75238        8793782941               1989-06-10               Приволжский ФО   \n",
       "\n",
       "                                 remainder__Место работы  \\\n",
       "0                                   ООО \"РЖД-Технологии\"   \n",
       "1                                            ПАО МегаФон   \n",
       "2                                  ООО \"Генная Хирургия\"   \n",
       "3      ООО \"Спецстроймонтаж\"; ООО \"СЕРВИС ТИМ\"; ООО \"...   \n",
       "4                                        ПАО «Вымпелком»   \n",
       "...                                                  ...   \n",
       "75234                                      ООО Стивтранс   \n",
       "75235                               Пропущенное значение   \n",
       "75236                                               РУДН   \n",
       "75237               Группа инженерных компаний Интерконд   \n",
       "75238                                    ИП Адушкин С.А.   \n",
       "\n",
       "               remainder__Наименование текущей должности  \\\n",
       "0                                  Директор по стратегии   \n",
       "1                                              начальник   \n",
       "2                                Исполнительный директор   \n",
       "3      Исполнительный директор; Генеральный директор;...   \n",
       "4      Директор по стратегии и долгосрочному планиров...   \n",
       "...                                                  ...   \n",
       "75234                                     Член правления   \n",
       "75235                               Пропущенное значение   \n",
       "75236                                Врач-ординатор РУДН   \n",
       "75237                                Управляющий партнер   \n",
       "75238                           Заместитель руководителя   \n",
       "\n",
       "       remainder__Карьерная ступень по Классификатору ФОИР  \\\n",
       "0                                                      1     \n",
       "1                                                      3     \n",
       "2                                                      5     \n",
       "3                                                      2     \n",
       "4                                                      4     \n",
       "...                                                  ...     \n",
       "75234                                                  2     \n",
       "75235                                                 12     \n",
       "75236                                                 12     \n",
       "75237                                                  5     \n",
       "75238                                                  1     \n",
       "\n",
       "      remainder__Наименование выбранной типовой должности  \\\n",
       "0      Руководитель подразделения/группы/команды на м...    \n",
       "1        Руководитель проекта в крупной/средней компании    \n",
       "2      Генеральный директор, управляющий директор мал...    \n",
       "3                            Директор малого предприятия    \n",
       "4      Руководитель управления корпоративной функции ...    \n",
       "...                                                  ...    \n",
       "75234                        Директор малого предприятия    \n",
       "75235                                         Не работаю    \n",
       "75236                                         Не работаю    \n",
       "75237  Генеральный директор, управляющий директор мал...    \n",
       "75238  Заместитель руководителя малого предприятия/ор...    \n",
       "\n",
       "      remainder__Сфера деятельности по Классификатору ФОИР  \\\n",
       "0      Коммерческие компании, государственные/муницип...     \n",
       "1      Коммерческие компании, государственные/муницип...     \n",
       "2      Коммерческие компании, государственные/муницип...     \n",
       "3      Коммерческие компании, государственные/муницип...     \n",
       "4      Коммерческие компании, государственные/муницип...     \n",
       "...                                                  ...     \n",
       "75234  Коммерческие компании, государственные/муницип...     \n",
       "75235                                         Не работаю     \n",
       "75236                                         Не работаю     \n",
       "75237  Коммерческие компании, государственные/муницип...     \n",
       "75238  Коммерческие компании, государственные/муницип...     \n",
       "\n",
       "       remainder__Ручная проверка карьерной ступени  \\\n",
       "0                                               NaN   \n",
       "1                                               NaN   \n",
       "2                                               NaN   \n",
       "3                                               NaN   \n",
       "4                                               NaN   \n",
       "...                                             ...   \n",
       "75234                                           NaN   \n",
       "75235                                           NaN   \n",
       "75236                                           NaN   \n",
       "75237                                           NaN   \n",
       "75238                                           NaN   \n",
       "\n",
       "       remainder__Разница по итогам проверки  remainder__label  \n",
       "0                                        NaN                 1  \n",
       "1                                        NaN                 1  \n",
       "2                                        NaN                 1  \n",
       "3                                        NaN                 1  \n",
       "4                                        NaN                 1  \n",
       "...                                      ...               ...  \n",
       "75234                                    NaN                 1  \n",
       "75235                                    NaN                 2  \n",
       "75236                                    NaN                 2  \n",
       "75237                                    NaN                 1  \n",
       "75238                                    NaN                 1  \n",
       "\n",
       "[75239 rows x 17 columns]"
      ]
     },
     "execution_count": 13,
     "metadata": {},
     "output_type": "execute_result"
    }
   ],
   "source": [
    "cat_transformer.fit_transform(df)"
   ]
  },
  {
   "cell_type": "markdown",
   "metadata": {},
   "source": [
    "## Для текстовых полей низкой уникальности создадим фичи на основе эмбедингов\n",
    "(Место работы, Наименование текущей должности, Наименование выбранной типовой должности, )"
   ]
  },
  {
   "cell_type": "code",
   "execution_count": 14,
   "metadata": {},
   "outputs": [],
   "source": [
    "device = torch.device('cuda' if torch.cuda.is_available() else 'cpu')\n",
    "\n",
    "tokenizer = AutoTokenizer.from_pretrained(\"ai-forever/ruBert-base\")\n",
    "model = AutoModel.from_pretrained(\"ai-forever/ruBert-base\").to(device)"
   ]
  },
  {
   "cell_type": "code",
   "execution_count": null,
   "metadata": {},
   "outputs": [],
   "source": []
  },
  {
   "cell_type": "code",
   "execution_count": 15,
   "metadata": {},
   "outputs": [
    {
     "data": {
      "text/plain": [
       "((74948, 9), (74948,), (291, 9), (291,))"
      ]
     },
     "execution_count": 15,
     "metadata": {},
     "output_type": "execute_result"
    }
   ],
   "source": [
    "df_train.shape, y_train.shape, df_val.shape, y_val.shape"
   ]
  },
  {
   "cell_type": "code",
   "execution_count": 16,
   "metadata": {},
   "outputs": [],
   "source": [
    "from sklearn.base import BaseEstimator, TransformerMixin\n",
    "\n",
    "\n",
    "class BERTEmbExtractor(BaseEstimator, TransformerMixin):\n",
    "    def __init__(self, tokenizer=None, model=None, columns=None, batch_size=128):\n",
    "        if tokenizer:\n",
    "            self.tokenizer = tokenizer\n",
    "        else:\n",
    "            self.tokenizer = AutoTokenizer.from_pretrained(\"ai-forever/ruBert-base\")\n",
    "            \n",
    "        if model:\n",
    "            self.model = model\n",
    "        else:\n",
    "            device = torch.device('cuda' if torch.cuda.is_available() else 'cpu')\n",
    "            self.model = AutoModel.from_pretrained(\"ai-forever/ruBert-base\").to(device)\n",
    "            \n",
    "        self.columns = columns\n",
    "        self.batch_size = batch_size\n",
    "        \n",
    "    def bert_extract(self, X, col):\n",
    "        out_emb = []\n",
    "        total_samples = len(X)\n",
    "\n",
    "        for start in tqdm(range(0, total_samples, self.batch_size)):\n",
    "            end = min(start + self.batch_size, total_samples)\n",
    "            \n",
    "            batch_X = X[col].values[start:end]  # Extract a batch of data\n",
    "            tokenized = tokenizer(batch_X.tolist(), padding = True, truncation = True, return_tensors=\"pt\")\n",
    "            column_tokens = {k: torch.tensor(v).to(device) for k, v in tokenized.items()}\n",
    "\n",
    "            hidden_state = model(**column_tokens) #dim : [batch_size(nr_sentences), tokens, emb_dim]\n",
    "            emb = hidden_state.last_hidden_state[:,0,:].to(\"cpu\")\n",
    "            del hidden_state\n",
    "            \n",
    "            df_emb = pd.DataFrame(emb, columns=[f'{col}_{i}' for i in range(emb.shape[1])])\n",
    "            out_emb.append(df_emb)\n",
    "            \n",
    "        return pd.concat(out_emb)\n",
    "    \n",
    "    def fit(self, X, y=None):\n",
    "        if not self.columns:\n",
    "            self.columns = X.columns\n",
    "        \n",
    "        self.column_df_emb = {}\n",
    "        self.column_pca = {}\n",
    "        with torch.no_grad():\n",
    "            for col in self.columns:\n",
    "                df_emb = self.bert_extract(X, col)\n",
    "                \n",
    "                pca = PCA(0.99)\n",
    "                pca.set_output(transform='pandas')\n",
    "                \n",
    "                df_emb = pca.fit_transform(df_emb)\n",
    "\n",
    "                self.column_pca[col] = pca\n",
    "            \n",
    "        return self\n",
    "\n",
    "    def transform(self, X, y=None):\n",
    "        out = []\n",
    "        with torch.no_grad():\n",
    "            for col in self.columns:\n",
    "                df_emb = self.bert_extract(X, col)\n",
    "                df_emb = self.column_pca[col].transform(df_emb)\n",
    "                df_emb.columns = [f'{col}_{pca_col}' for pca_col in df_emb.columns]\n",
    "                out.append(df_emb)\n",
    "        \n",
    "        return pd.concat(out, axis=1)"
   ]
  },
  {
   "cell_type": "code",
   "execution_count": 17,
   "metadata": {},
   "outputs": [],
   "source": [
    "be = BERTEmbExtractor()"
   ]
  },
  {
   "cell_type": "code",
   "execution_count": 17,
   "metadata": {},
   "outputs": [
    {
     "name": "stderr",
     "output_type": "stream",
     "text": [
      "  0%|          | 0/586 [00:00<?, ?it/s]Asking to truncate to max_length but no maximum length is provided and the model has no predefined maximum length. Default to no truncation.\n",
      "/tmp/ipykernel_1249917/2898017953.py:29: UserWarning: To copy construct from a tensor, it is recommended to use sourceTensor.clone().detach() or sourceTensor.clone().detach().requires_grad_(True), rather than torch.tensor(sourceTensor).\n",
      "  column_tokens = {k: torch.tensor(v).to(device) for k, v in tokenized.items()}\n",
      " 59%|█████▊    | 343/586 [00:27<00:19, 12.25it/s]\n"
     ]
    },
    {
     "ename": "KeyboardInterrupt",
     "evalue": "",
     "output_type": "error",
     "traceback": [
      "\u001b[0;31m---------------------------------------------------------------------------\u001b[0m",
      "\u001b[0;31mKeyboardInterrupt\u001b[0m                         Traceback (most recent call last)",
      "File \u001b[0;32m<timed eval>:1\u001b[0m\n",
      "File \u001b[0;32m~/vadim/classifier/.venv/lib/python3.10/site-packages/sklearn/utils/_set_output.py:157\u001b[0m, in \u001b[0;36m_wrap_method_output.<locals>.wrapped\u001b[0;34m(self, X, *args, **kwargs)\u001b[0m\n\u001b[1;32m    155\u001b[0m \u001b[39m@wraps\u001b[39m(f)\n\u001b[1;32m    156\u001b[0m \u001b[39mdef\u001b[39;00m \u001b[39mwrapped\u001b[39m(\u001b[39mself\u001b[39m, X, \u001b[39m*\u001b[39margs, \u001b[39m*\u001b[39m\u001b[39m*\u001b[39mkwargs):\n\u001b[0;32m--> 157\u001b[0m     data_to_wrap \u001b[39m=\u001b[39m f(\u001b[39mself\u001b[39;49m, X, \u001b[39m*\u001b[39;49margs, \u001b[39m*\u001b[39;49m\u001b[39m*\u001b[39;49mkwargs)\n\u001b[1;32m    158\u001b[0m     \u001b[39mif\u001b[39;00m \u001b[39misinstance\u001b[39m(data_to_wrap, \u001b[39mtuple\u001b[39m):\n\u001b[1;32m    159\u001b[0m         \u001b[39m# only wrap the first output for cross decomposition\u001b[39;00m\n\u001b[1;32m    160\u001b[0m         return_tuple \u001b[39m=\u001b[39m (\n\u001b[1;32m    161\u001b[0m             _wrap_data_with_container(method, data_to_wrap[\u001b[39m0\u001b[39m], X, \u001b[39mself\u001b[39m),\n\u001b[1;32m    162\u001b[0m             \u001b[39m*\u001b[39mdata_to_wrap[\u001b[39m1\u001b[39m:],\n\u001b[1;32m    163\u001b[0m         )\n",
      "File \u001b[0;32m~/vadim/classifier/.venv/lib/python3.10/site-packages/sklearn/base.py:916\u001b[0m, in \u001b[0;36mTransformerMixin.fit_transform\u001b[0;34m(self, X, y, **fit_params)\u001b[0m\n\u001b[1;32m    912\u001b[0m \u001b[39m# non-optimized default implementation; override when a better\u001b[39;00m\n\u001b[1;32m    913\u001b[0m \u001b[39m# method is possible for a given clustering algorithm\u001b[39;00m\n\u001b[1;32m    914\u001b[0m \u001b[39mif\u001b[39;00m y \u001b[39mis\u001b[39;00m \u001b[39mNone\u001b[39;00m:\n\u001b[1;32m    915\u001b[0m     \u001b[39m# fit method of arity 1 (unsupervised transformation)\u001b[39;00m\n\u001b[0;32m--> 916\u001b[0m     \u001b[39mreturn\u001b[39;00m \u001b[39mself\u001b[39;49m\u001b[39m.\u001b[39;49mfit(X, \u001b[39m*\u001b[39;49m\u001b[39m*\u001b[39;49mfit_params)\u001b[39m.\u001b[39mtransform(X)\n\u001b[1;32m    917\u001b[0m \u001b[39melse\u001b[39;00m:\n\u001b[1;32m    918\u001b[0m     \u001b[39m# fit method of arity 2 (supervised transformation)\u001b[39;00m\n\u001b[1;32m    919\u001b[0m     \u001b[39mreturn\u001b[39;00m \u001b[39mself\u001b[39m\u001b[39m.\u001b[39mfit(X, y, \u001b[39m*\u001b[39m\u001b[39m*\u001b[39mfit_params)\u001b[39m.\u001b[39mtransform(X)\n",
      "\u001b[1;32m/home/admin01/vadim/classifier/notebooks/ml.ipynb Cell 21\u001b[0m line \u001b[0;36m4\n\u001b[1;32m     <a href='vscode-notebook-cell://ssh-remote%2Branepa/home/admin01/vadim/classifier/notebooks/ml.ipynb#X26sdnNjb2RlLXJlbW90ZQ%3D%3D?line=45'>46</a>\u001b[0m \u001b[39mwith\u001b[39;00m torch\u001b[39m.\u001b[39mno_grad():\n\u001b[1;32m     <a href='vscode-notebook-cell://ssh-remote%2Branepa/home/admin01/vadim/classifier/notebooks/ml.ipynb#X26sdnNjb2RlLXJlbW90ZQ%3D%3D?line=46'>47</a>\u001b[0m     \u001b[39mfor\u001b[39;00m col \u001b[39min\u001b[39;00m \u001b[39mself\u001b[39m\u001b[39m.\u001b[39mcolumns:\n\u001b[0;32m---> <a href='vscode-notebook-cell://ssh-remote%2Branepa/home/admin01/vadim/classifier/notebooks/ml.ipynb#X26sdnNjb2RlLXJlbW90ZQ%3D%3D?line=47'>48</a>\u001b[0m         df_emb \u001b[39m=\u001b[39m \u001b[39mself\u001b[39;49m\u001b[39m.\u001b[39;49mbert_extract(X, col)\n\u001b[1;32m     <a href='vscode-notebook-cell://ssh-remote%2Branepa/home/admin01/vadim/classifier/notebooks/ml.ipynb#X26sdnNjb2RlLXJlbW90ZQ%3D%3D?line=49'>50</a>\u001b[0m         pca \u001b[39m=\u001b[39m PCA(\u001b[39m0.99\u001b[39m)\n\u001b[1;32m     <a href='vscode-notebook-cell://ssh-remote%2Branepa/home/admin01/vadim/classifier/notebooks/ml.ipynb#X26sdnNjb2RlLXJlbW90ZQ%3D%3D?line=50'>51</a>\u001b[0m         pca\u001b[39m.\u001b[39mset_output(transform\u001b[39m=\u001b[39m\u001b[39m'\u001b[39m\u001b[39mpandas\u001b[39m\u001b[39m'\u001b[39m)\n",
      "\u001b[1;32m/home/admin01/vadim/classifier/notebooks/ml.ipynb Cell 21\u001b[0m line \u001b[0;36m3\n\u001b[1;32m     <a href='vscode-notebook-cell://ssh-remote%2Branepa/home/admin01/vadim/classifier/notebooks/ml.ipynb#X26sdnNjb2RlLXJlbW90ZQ%3D%3D?line=28'>29</a>\u001b[0m column_tokens \u001b[39m=\u001b[39m {k: torch\u001b[39m.\u001b[39mtensor(v)\u001b[39m.\u001b[39mto(device) \u001b[39mfor\u001b[39;00m k, v \u001b[39min\u001b[39;00m tokenized\u001b[39m.\u001b[39mitems()}\n\u001b[1;32m     <a href='vscode-notebook-cell://ssh-remote%2Branepa/home/admin01/vadim/classifier/notebooks/ml.ipynb#X26sdnNjb2RlLXJlbW90ZQ%3D%3D?line=30'>31</a>\u001b[0m hidden_state \u001b[39m=\u001b[39m model(\u001b[39m*\u001b[39m\u001b[39m*\u001b[39mcolumn_tokens) \u001b[39m#dim : [batch_size(nr_sentences), tokens, emb_dim]\u001b[39;00m\n\u001b[0;32m---> <a href='vscode-notebook-cell://ssh-remote%2Branepa/home/admin01/vadim/classifier/notebooks/ml.ipynb#X26sdnNjb2RlLXJlbW90ZQ%3D%3D?line=31'>32</a>\u001b[0m emb \u001b[39m=\u001b[39m hidden_state\u001b[39m.\u001b[39;49mlast_hidden_state[:,\u001b[39m0\u001b[39;49m,:]\u001b[39m.\u001b[39;49mto(\u001b[39m\"\u001b[39;49m\u001b[39mcpu\u001b[39;49m\u001b[39m\"\u001b[39;49m)\n\u001b[1;32m     <a href='vscode-notebook-cell://ssh-remote%2Branepa/home/admin01/vadim/classifier/notebooks/ml.ipynb#X26sdnNjb2RlLXJlbW90ZQ%3D%3D?line=32'>33</a>\u001b[0m \u001b[39mdel\u001b[39;00m hidden_state\n\u001b[1;32m     <a href='vscode-notebook-cell://ssh-remote%2Branepa/home/admin01/vadim/classifier/notebooks/ml.ipynb#X26sdnNjb2RlLXJlbW90ZQ%3D%3D?line=34'>35</a>\u001b[0m df_emb \u001b[39m=\u001b[39m pd\u001b[39m.\u001b[39mDataFrame(emb, columns\u001b[39m=\u001b[39m[\u001b[39mf\u001b[39m\u001b[39m'\u001b[39m\u001b[39m{\u001b[39;00mcol\u001b[39m}\u001b[39;00m\u001b[39m_\u001b[39m\u001b[39m{\u001b[39;00mi\u001b[39m}\u001b[39;00m\u001b[39m'\u001b[39m \u001b[39mfor\u001b[39;00m i \u001b[39min\u001b[39;00m \u001b[39mrange\u001b[39m(emb\u001b[39m.\u001b[39mshape[\u001b[39m1\u001b[39m])])\n",
      "\u001b[0;31mKeyboardInterrupt\u001b[0m: "
     ]
    }
   ],
   "source": [
    "%%time\n",
    "be.fit_transform(df_train[text_cols])"
   ]
  },
  {
   "cell_type": "markdown",
   "metadata": {},
   "source": [
    "## Обучим пайплайн"
   ]
  },
  {
   "cell_type": "code",
   "execution_count": 18,
   "metadata": {},
   "outputs": [],
   "source": [
    "from sklearn.ensemble import ExtraTreesClassifier\n",
    "from sklearn.impute import SimpleImputer"
   ]
  },
  {
   "cell_type": "code",
   "execution_count": 19,
   "metadata": {},
   "outputs": [
    {
     "name": "stderr",
     "output_type": "stream",
     "text": [
      "  0%|          | 0/2343 [00:00<?, ?it/s]Asking to truncate to max_length but no maximum length is provided and the model has no predefined maximum length. Default to no truncation.\n",
      "/tmp/ipykernel_3999869/2898017953.py:29: UserWarning: To copy construct from a tensor, it is recommended to use sourceTensor.clone().detach() or sourceTensor.clone().detach().requires_grad_(True), rather than torch.tensor(sourceTensor).\n",
      "  column_tokens = {k: torch.tensor(v).to(device) for k, v in tokenized.items()}\n",
      "100%|██████████| 2343/2343 [00:43<00:00, 53.71it/s]\n",
      "  0%|          | 0/2343 [00:00<?, ?it/s]/tmp/ipykernel_3999869/2898017953.py:29: UserWarning: To copy construct from a tensor, it is recommended to use sourceTensor.clone().detach() or sourceTensor.clone().detach().requires_grad_(True), rather than torch.tensor(sourceTensor).\n",
      "  column_tokens = {k: torch.tensor(v).to(device) for k, v in tokenized.items()}\n",
      "100%|██████████| 2343/2343 [00:30<00:00, 77.25it/s]\n",
      "  0%|          | 0/2343 [00:00<?, ?it/s]/tmp/ipykernel_3999869/2898017953.py:29: UserWarning: To copy construct from a tensor, it is recommended to use sourceTensor.clone().detach() or sourceTensor.clone().detach().requires_grad_(True), rather than torch.tensor(sourceTensor).\n",
      "  column_tokens = {k: torch.tensor(v).to(device) for k, v in tokenized.items()}\n",
      "100%|██████████| 2343/2343 [00:42<00:00, 55.10it/s]\n",
      "  0%|          | 0/2343 [00:00<?, ?it/s]/tmp/ipykernel_3999869/2898017953.py:29: UserWarning: To copy construct from a tensor, it is recommended to use sourceTensor.clone().detach() or sourceTensor.clone().detach().requires_grad_(True), rather than torch.tensor(sourceTensor).\n",
      "  column_tokens = {k: torch.tensor(v).to(device) for k, v in tokenized.items()}\n",
      "100%|██████████| 2343/2343 [00:42<00:00, 54.83it/s]\n",
      "  0%|          | 0/2343 [00:00<?, ?it/s]/tmp/ipykernel_3999869/2898017953.py:29: UserWarning: To copy construct from a tensor, it is recommended to use sourceTensor.clone().detach() or sourceTensor.clone().detach().requires_grad_(True), rather than torch.tensor(sourceTensor).\n",
      "  column_tokens = {k: torch.tensor(v).to(device) for k, v in tokenized.items()}\n",
      "100%|██████████| 2343/2343 [00:33<00:00, 69.16it/s]\n",
      "  0%|          | 0/2343 [00:00<?, ?it/s]/tmp/ipykernel_3999869/2898017953.py:29: UserWarning: To copy construct from a tensor, it is recommended to use sourceTensor.clone().detach() or sourceTensor.clone().detach().requires_grad_(True), rather than torch.tensor(sourceTensor).\n",
      "  column_tokens = {k: torch.tensor(v).to(device) for k, v in tokenized.items()}\n",
      "100%|██████████| 2343/2343 [00:45<00:00, 52.03it/s]\n",
      "  0%|          | 0/10 [00:00<?, ?it/s]/tmp/ipykernel_3999869/2898017953.py:29: UserWarning: To copy construct from a tensor, it is recommended to use sourceTensor.clone().detach() or sourceTensor.clone().detach().requires_grad_(True), rather than torch.tensor(sourceTensor).\n",
      "  column_tokens = {k: torch.tensor(v).to(device) for k, v in tokenized.items()}\n",
      "100%|██████████| 10/10 [00:00<00:00, 59.30it/s]\n",
      "  0%|          | 0/10 [00:00<?, ?it/s]/tmp/ipykernel_3999869/2898017953.py:29: UserWarning: To copy construct from a tensor, it is recommended to use sourceTensor.clone().detach() or sourceTensor.clone().detach().requires_grad_(True), rather than torch.tensor(sourceTensor).\n",
      "  column_tokens = {k: torch.tensor(v).to(device) for k, v in tokenized.items()}\n",
      "100%|██████████| 10/10 [00:00<00:00, 64.61it/s]\n",
      "  0%|          | 0/10 [00:00<?, ?it/s]/tmp/ipykernel_3999869/2898017953.py:29: UserWarning: To copy construct from a tensor, it is recommended to use sourceTensor.clone().detach() or sourceTensor.clone().detach().requires_grad_(True), rather than torch.tensor(sourceTensor).\n",
      "  column_tokens = {k: torch.tensor(v).to(device) for k, v in tokenized.items()}\n",
      "100%|██████████| 10/10 [00:00<00:00, 64.41it/s]\n"
     ]
    },
    {
     "name": "stdout",
     "output_type": "stream",
     "text": [
      "CPU times: user 7min 28s, sys: 5min 19s, total: 12min 47s\n",
      "Wall time: 5min\n"
     ]
    },
    {
     "data": {
      "text/plain": [
       "1.0"
      ]
     },
     "execution_count": 19,
     "metadata": {},
     "output_type": "execute_result"
    }
   ],
   "source": [
    "%%time \n",
    "\n",
    "data_transformer =  ColumnTransformer([\n",
    "    ('cat_encoder', OrdinalEncoder(handle_unknown='use_encoded_value', unknown_value=-1), cat_cols),\n",
    "    ('text_encoder', BERTEmbExtractor(tokenizer, model, batch_size=32), text_cols)\n",
    "    ], remainder='drop', verbose_feature_names_out=True)\n",
    "\n",
    "pipe = Pipeline([\n",
    "    ('preproc', data_transformer),\n",
    "    ('imputer', SimpleImputer()),\n",
    "    ('model', ExtraTreesClassifier())\n",
    "    ])\n",
    "\n",
    "pipe.fit(df_train, y_train)\n",
    "pipe.score(df_val, y_val) "
   ]
  },
  {
   "cell_type": "code",
   "execution_count": 22,
   "metadata": {},
   "outputs": [
    {
     "data": {
      "text/plain": [
       "['../pipeline.joblib']"
      ]
     },
     "execution_count": 22,
     "metadata": {},
     "output_type": "execute_result"
    }
   ],
   "source": [
    "import joblib\n",
    "joblib.dump(pipe, '../pipeline.joblib')"
   ]
  },
  {
   "cell_type": "markdown",
   "metadata": {},
   "source": [
    "## Cross Val"
   ]
  },
  {
   "cell_type": "code",
   "execution_count": 63,
   "metadata": {},
   "outputs": [
    {
     "name": "stderr",
     "output_type": "stream",
     "text": [
      "  0%|          | 0/25 [00:00<?, ?it/s]"
     ]
    },
    {
     "name": "stderr",
     "output_type": "stream",
     "text": [
      "/tmp/ipykernel_2736986/2898017953.py:29: UserWarning: To copy construct from a tensor, it is recommended to use sourceTensor.clone().detach() or sourceTensor.clone().detach().requires_grad_(True), rather than torch.tensor(sourceTensor).\n",
      "  column_tokens = {k: torch.tensor(v).to(device) for k, v in tokenized.items()}\n",
      "100%|██████████| 25/25 [00:00<00:00, 67.49it/s]\n",
      "  0%|          | 0/25 [00:00<?, ?it/s]/tmp/ipykernel_2736986/2898017953.py:29: UserWarning: To copy construct from a tensor, it is recommended to use sourceTensor.clone().detach() or sourceTensor.clone().detach().requires_grad_(True), rather than torch.tensor(sourceTensor).\n",
      "  column_tokens = {k: torch.tensor(v).to(device) for k, v in tokenized.items()}\n",
      "100%|██████████| 25/25 [00:00<00:00, 89.42it/s]\n",
      "  0%|          | 0/25 [00:00<?, ?it/s]/tmp/ipykernel_2736986/2898017953.py:29: UserWarning: To copy construct from a tensor, it is recommended to use sourceTensor.clone().detach() or sourceTensor.clone().detach().requires_grad_(True), rather than torch.tensor(sourceTensor).\n",
      "  column_tokens = {k: torch.tensor(v).to(device) for k, v in tokenized.items()}\n",
      "100%|██████████| 25/25 [00:00<00:00, 58.51it/s]\n",
      "  0%|          | 0/25 [00:00<?, ?it/s]/tmp/ipykernel_2736986/2898017953.py:29: UserWarning: To copy construct from a tensor, it is recommended to use sourceTensor.clone().detach() or sourceTensor.clone().detach().requires_grad_(True), rather than torch.tensor(sourceTensor).\n",
      "  column_tokens = {k: torch.tensor(v).to(device) for k, v in tokenized.items()}\n",
      "100%|██████████| 25/25 [00:00<00:00, 63.83it/s]\n",
      "  0%|          | 0/25 [00:00<?, ?it/s]/tmp/ipykernel_2736986/2898017953.py:29: UserWarning: To copy construct from a tensor, it is recommended to use sourceTensor.clone().detach() or sourceTensor.clone().detach().requires_grad_(True), rather than torch.tensor(sourceTensor).\n",
      "  column_tokens = {k: torch.tensor(v).to(device) for k, v in tokenized.items()}\n",
      "100%|██████████| 25/25 [00:00<00:00, 87.51it/s]\n",
      "  0%|          | 0/25 [00:00<?, ?it/s]/tmp/ipykernel_2736986/2898017953.py:29: UserWarning: To copy construct from a tensor, it is recommended to use sourceTensor.clone().detach() or sourceTensor.clone().detach().requires_grad_(True), rather than torch.tensor(sourceTensor).\n",
      "  column_tokens = {k: torch.tensor(v).to(device) for k, v in tokenized.items()}\n",
      "100%|██████████| 25/25 [00:00<00:00, 60.27it/s]\n",
      "  0%|          | 0/7 [00:00<?, ?it/s]/tmp/ipykernel_2736986/2898017953.py:29: UserWarning: To copy construct from a tensor, it is recommended to use sourceTensor.clone().detach() or sourceTensor.clone().detach().requires_grad_(True), rather than torch.tensor(sourceTensor).\n",
      "  column_tokens = {k: torch.tensor(v).to(device) for k, v in tokenized.items()}\n",
      "100%|██████████| 7/7 [00:00<00:00, 60.58it/s]\n",
      "  0%|          | 0/7 [00:00<?, ?it/s]/tmp/ipykernel_2736986/2898017953.py:29: UserWarning: To copy construct from a tensor, it is recommended to use sourceTensor.clone().detach() or sourceTensor.clone().detach().requires_grad_(True), rather than torch.tensor(sourceTensor).\n",
      "  column_tokens = {k: torch.tensor(v).to(device) for k, v in tokenized.items()}\n",
      "100%|██████████| 7/7 [00:00<00:00, 85.92it/s]\n",
      "  0%|          | 0/7 [00:00<?, ?it/s]/tmp/ipykernel_2736986/2898017953.py:29: UserWarning: To copy construct from a tensor, it is recommended to use sourceTensor.clone().detach() or sourceTensor.clone().detach().requires_grad_(True), rather than torch.tensor(sourceTensor).\n",
      "  column_tokens = {k: torch.tensor(v).to(device) for k, v in tokenized.items()}\n",
      "100%|██████████| 7/7 [00:00<00:00, 63.21it/s]\n",
      "  0%|          | 0/25 [00:00<?, ?it/s]/tmp/ipykernel_2736986/2898017953.py:29: UserWarning: To copy construct from a tensor, it is recommended to use sourceTensor.clone().detach() or sourceTensor.clone().detach().requires_grad_(True), rather than torch.tensor(sourceTensor).\n",
      "  column_tokens = {k: torch.tensor(v).to(device) for k, v in tokenized.items()}\n",
      "100%|██████████| 25/25 [00:00<00:00, 61.85it/s]\n",
      "  0%|          | 0/25 [00:00<?, ?it/s]/tmp/ipykernel_2736986/2898017953.py:29: UserWarning: To copy construct from a tensor, it is recommended to use sourceTensor.clone().detach() or sourceTensor.clone().detach().requires_grad_(True), rather than torch.tensor(sourceTensor).\n",
      "  column_tokens = {k: torch.tensor(v).to(device) for k, v in tokenized.items()}\n",
      "100%|██████████| 25/25 [00:00<00:00, 84.51it/s]\n",
      "  0%|          | 0/25 [00:00<?, ?it/s]/tmp/ipykernel_2736986/2898017953.py:29: UserWarning: To copy construct from a tensor, it is recommended to use sourceTensor.clone().detach() or sourceTensor.clone().detach().requires_grad_(True), rather than torch.tensor(sourceTensor).\n",
      "  column_tokens = {k: torch.tensor(v).to(device) for k, v in tokenized.items()}\n",
      "100%|██████████| 25/25 [00:00<00:00, 59.74it/s]\n",
      "  0%|          | 0/25 [00:00<?, ?it/s]/tmp/ipykernel_2736986/2898017953.py:29: UserWarning: To copy construct from a tensor, it is recommended to use sourceTensor.clone().detach() or sourceTensor.clone().detach().requires_grad_(True), rather than torch.tensor(sourceTensor).\n",
      "  column_tokens = {k: torch.tensor(v).to(device) for k, v in tokenized.items()}\n",
      "100%|██████████| 25/25 [00:00<00:00, 62.60it/s]\n",
      "  0%|          | 0/25 [00:00<?, ?it/s]/tmp/ipykernel_2736986/2898017953.py:29: UserWarning: To copy construct from a tensor, it is recommended to use sourceTensor.clone().detach() or sourceTensor.clone().detach().requires_grad_(True), rather than torch.tensor(sourceTensor).\n",
      "  column_tokens = {k: torch.tensor(v).to(device) for k, v in tokenized.items()}\n",
      "100%|██████████| 25/25 [00:00<00:00, 88.98it/s]\n",
      "  0%|          | 0/25 [00:00<?, ?it/s]/tmp/ipykernel_2736986/2898017953.py:29: UserWarning: To copy construct from a tensor, it is recommended to use sourceTensor.clone().detach() or sourceTensor.clone().detach().requires_grad_(True), rather than torch.tensor(sourceTensor).\n",
      "  column_tokens = {k: torch.tensor(v).to(device) for k, v in tokenized.items()}\n",
      "100%|██████████| 25/25 [00:00<00:00, 59.29it/s]\n",
      "  0%|          | 0/7 [00:00<?, ?it/s]/tmp/ipykernel_2736986/2898017953.py:29: UserWarning: To copy construct from a tensor, it is recommended to use sourceTensor.clone().detach() or sourceTensor.clone().detach().requires_grad_(True), rather than torch.tensor(sourceTensor).\n",
      "  column_tokens = {k: torch.tensor(v).to(device) for k, v in tokenized.items()}\n",
      "100%|██████████| 7/7 [00:00<00:00, 76.86it/s]\n",
      "  0%|          | 0/7 [00:00<?, ?it/s]/tmp/ipykernel_2736986/2898017953.py:29: UserWarning: To copy construct from a tensor, it is recommended to use sourceTensor.clone().detach() or sourceTensor.clone().detach().requires_grad_(True), rather than torch.tensor(sourceTensor).\n",
      "  column_tokens = {k: torch.tensor(v).to(device) for k, v in tokenized.items()}\n",
      "100%|██████████| 7/7 [00:00<00:00, 86.64it/s]\n",
      "  0%|          | 0/7 [00:00<?, ?it/s]/tmp/ipykernel_2736986/2898017953.py:29: UserWarning: To copy construct from a tensor, it is recommended to use sourceTensor.clone().detach() or sourceTensor.clone().detach().requires_grad_(True), rather than torch.tensor(sourceTensor).\n",
      "  column_tokens = {k: torch.tensor(v).to(device) for k, v in tokenized.items()}\n",
      "100%|██████████| 7/7 [00:00<00:00, 62.17it/s]\n",
      "  0%|          | 0/25 [00:00<?, ?it/s]/tmp/ipykernel_2736986/2898017953.py:29: UserWarning: To copy construct from a tensor, it is recommended to use sourceTensor.clone().detach() or sourceTensor.clone().detach().requires_grad_(True), rather than torch.tensor(sourceTensor).\n",
      "  column_tokens = {k: torch.tensor(v).to(device) for k, v in tokenized.items()}\n",
      "100%|██████████| 25/25 [00:00<00:00, 61.89it/s]\n",
      "  0%|          | 0/25 [00:00<?, ?it/s]/tmp/ipykernel_2736986/2898017953.py:29: UserWarning: To copy construct from a tensor, it is recommended to use sourceTensor.clone().detach() or sourceTensor.clone().detach().requires_grad_(True), rather than torch.tensor(sourceTensor).\n",
      "  column_tokens = {k: torch.tensor(v).to(device) for k, v in tokenized.items()}\n",
      "100%|██████████| 25/25 [00:00<00:00, 82.62it/s]\n",
      "  0%|          | 0/25 [00:00<?, ?it/s]/tmp/ipykernel_2736986/2898017953.py:29: UserWarning: To copy construct from a tensor, it is recommended to use sourceTensor.clone().detach() or sourceTensor.clone().detach().requires_grad_(True), rather than torch.tensor(sourceTensor).\n",
      "  column_tokens = {k: torch.tensor(v).to(device) for k, v in tokenized.items()}\n",
      "100%|██████████| 25/25 [00:00<00:00, 60.63it/s]\n",
      "  0%|          | 0/25 [00:00<?, ?it/s]/tmp/ipykernel_2736986/2898017953.py:29: UserWarning: To copy construct from a tensor, it is recommended to use sourceTensor.clone().detach() or sourceTensor.clone().detach().requires_grad_(True), rather than torch.tensor(sourceTensor).\n",
      "  column_tokens = {k: torch.tensor(v).to(device) for k, v in tokenized.items()}\n",
      "100%|██████████| 25/25 [00:00<00:00, 60.26it/s]\n",
      "  0%|          | 0/25 [00:00<?, ?it/s]/tmp/ipykernel_2736986/2898017953.py:29: UserWarning: To copy construct from a tensor, it is recommended to use sourceTensor.clone().detach() or sourceTensor.clone().detach().requires_grad_(True), rather than torch.tensor(sourceTensor).\n",
      "  column_tokens = {k: torch.tensor(v).to(device) for k, v in tokenized.items()}\n",
      "100%|██████████| 25/25 [00:00<00:00, 82.63it/s]\n",
      "  0%|          | 0/25 [00:00<?, ?it/s]/tmp/ipykernel_2736986/2898017953.py:29: UserWarning: To copy construct from a tensor, it is recommended to use sourceTensor.clone().detach() or sourceTensor.clone().detach().requires_grad_(True), rather than torch.tensor(sourceTensor).\n",
      "  column_tokens = {k: torch.tensor(v).to(device) for k, v in tokenized.items()}\n",
      "100%|██████████| 25/25 [00:00<00:00, 60.09it/s]\n",
      "  0%|          | 0/7 [00:00<?, ?it/s]/tmp/ipykernel_2736986/2898017953.py:29: UserWarning: To copy construct from a tensor, it is recommended to use sourceTensor.clone().detach() or sourceTensor.clone().detach().requires_grad_(True), rather than torch.tensor(sourceTensor).\n",
      "  column_tokens = {k: torch.tensor(v).to(device) for k, v in tokenized.items()}\n",
      "100%|██████████| 7/7 [00:00<00:00, 80.65it/s]\n",
      "  0%|          | 0/7 [00:00<?, ?it/s]/tmp/ipykernel_2736986/2898017953.py:29: UserWarning: To copy construct from a tensor, it is recommended to use sourceTensor.clone().detach() or sourceTensor.clone().detach().requires_grad_(True), rather than torch.tensor(sourceTensor).\n",
      "  column_tokens = {k: torch.tensor(v).to(device) for k, v in tokenized.items()}\n",
      "100%|██████████| 7/7 [00:00<00:00, 84.18it/s]\n",
      "  0%|          | 0/7 [00:00<?, ?it/s]/tmp/ipykernel_2736986/2898017953.py:29: UserWarning: To copy construct from a tensor, it is recommended to use sourceTensor.clone().detach() or sourceTensor.clone().detach().requires_grad_(True), rather than torch.tensor(sourceTensor).\n",
      "  column_tokens = {k: torch.tensor(v).to(device) for k, v in tokenized.items()}\n",
      "100%|██████████| 7/7 [00:00<00:00, 57.14it/s]\n",
      "  0%|          | 0/25 [00:00<?, ?it/s]/tmp/ipykernel_2736986/2898017953.py:29: UserWarning: To copy construct from a tensor, it is recommended to use sourceTensor.clone().detach() or sourceTensor.clone().detach().requires_grad_(True), rather than torch.tensor(sourceTensor).\n",
      "  column_tokens = {k: torch.tensor(v).to(device) for k, v in tokenized.items()}\n",
      "100%|██████████| 25/25 [00:00<00:00, 64.04it/s]\n",
      "  0%|          | 0/25 [00:00<?, ?it/s]/tmp/ipykernel_2736986/2898017953.py:29: UserWarning: To copy construct from a tensor, it is recommended to use sourceTensor.clone().detach() or sourceTensor.clone().detach().requires_grad_(True), rather than torch.tensor(sourceTensor).\n",
      "  column_tokens = {k: torch.tensor(v).to(device) for k, v in tokenized.items()}\n",
      "100%|██████████| 25/25 [00:00<00:00, 89.36it/s]\n",
      "  0%|          | 0/25 [00:00<?, ?it/s]/tmp/ipykernel_2736986/2898017953.py:29: UserWarning: To copy construct from a tensor, it is recommended to use sourceTensor.clone().detach() or sourceTensor.clone().detach().requires_grad_(True), rather than torch.tensor(sourceTensor).\n",
      "  column_tokens = {k: torch.tensor(v).to(device) for k, v in tokenized.items()}\n",
      "100%|██████████| 25/25 [00:00<00:00, 60.04it/s]\n",
      "  0%|          | 0/25 [00:00<?, ?it/s]/tmp/ipykernel_2736986/2898017953.py:29: UserWarning: To copy construct from a tensor, it is recommended to use sourceTensor.clone().detach() or sourceTensor.clone().detach().requires_grad_(True), rather than torch.tensor(sourceTensor).\n",
      "  column_tokens = {k: torch.tensor(v).to(device) for k, v in tokenized.items()}\n",
      "100%|██████████| 25/25 [00:00<00:00, 63.48it/s]\n",
      "  0%|          | 0/25 [00:00<?, ?it/s]/tmp/ipykernel_2736986/2898017953.py:29: UserWarning: To copy construct from a tensor, it is recommended to use sourceTensor.clone().detach() or sourceTensor.clone().detach().requires_grad_(True), rather than torch.tensor(sourceTensor).\n",
      "  column_tokens = {k: torch.tensor(v).to(device) for k, v in tokenized.items()}\n",
      "100%|██████████| 25/25 [00:00<00:00, 90.54it/s]\n",
      "  0%|          | 0/25 [00:00<?, ?it/s]/tmp/ipykernel_2736986/2898017953.py:29: UserWarning: To copy construct from a tensor, it is recommended to use sourceTensor.clone().detach() or sourceTensor.clone().detach().requires_grad_(True), rather than torch.tensor(sourceTensor).\n",
      "  column_tokens = {k: torch.tensor(v).to(device) for k, v in tokenized.items()}\n",
      "100%|██████████| 25/25 [00:00<00:00, 59.30it/s]\n",
      "  0%|          | 0/7 [00:00<?, ?it/s]/tmp/ipykernel_2736986/2898017953.py:29: UserWarning: To copy construct from a tensor, it is recommended to use sourceTensor.clone().detach() or sourceTensor.clone().detach().requires_grad_(True), rather than torch.tensor(sourceTensor).\n",
      "  column_tokens = {k: torch.tensor(v).to(device) for k, v in tokenized.items()}\n",
      "100%|██████████| 7/7 [00:00<00:00, 63.38it/s]\n",
      "  0%|          | 0/7 [00:00<?, ?it/s]/tmp/ipykernel_2736986/2898017953.py:29: UserWarning: To copy construct from a tensor, it is recommended to use sourceTensor.clone().detach() or sourceTensor.clone().detach().requires_grad_(True), rather than torch.tensor(sourceTensor).\n",
      "  column_tokens = {k: torch.tensor(v).to(device) for k, v in tokenized.items()}\n",
      "100%|██████████| 7/7 [00:00<00:00, 82.25it/s]\n",
      "  0%|          | 0/7 [00:00<?, ?it/s]/tmp/ipykernel_2736986/2898017953.py:29: UserWarning: To copy construct from a tensor, it is recommended to use sourceTensor.clone().detach() or sourceTensor.clone().detach().requires_grad_(True), rather than torch.tensor(sourceTensor).\n",
      "  column_tokens = {k: torch.tensor(v).to(device) for k, v in tokenized.items()}\n",
      "100%|██████████| 7/7 [00:00<00:00, 62.95it/s]\n",
      "  0%|          | 0/25 [00:00<?, ?it/s]/tmp/ipykernel_2736986/2898017953.py:29: UserWarning: To copy construct from a tensor, it is recommended to use sourceTensor.clone().detach() or sourceTensor.clone().detach().requires_grad_(True), rather than torch.tensor(sourceTensor).\n",
      "  column_tokens = {k: torch.tensor(v).to(device) for k, v in tokenized.items()}\n",
      "100%|██████████| 25/25 [00:00<00:00, 60.22it/s]\n",
      "  0%|          | 0/25 [00:00<?, ?it/s]/tmp/ipykernel_2736986/2898017953.py:29: UserWarning: To copy construct from a tensor, it is recommended to use sourceTensor.clone().detach() or sourceTensor.clone().detach().requires_grad_(True), rather than torch.tensor(sourceTensor).\n",
      "  column_tokens = {k: torch.tensor(v).to(device) for k, v in tokenized.items()}\n",
      "100%|██████████| 25/25 [00:00<00:00, 81.11it/s]\n",
      "  0%|          | 0/25 [00:00<?, ?it/s]/tmp/ipykernel_2736986/2898017953.py:29: UserWarning: To copy construct from a tensor, it is recommended to use sourceTensor.clone().detach() or sourceTensor.clone().detach().requires_grad_(True), rather than torch.tensor(sourceTensor).\n",
      "  column_tokens = {k: torch.tensor(v).to(device) for k, v in tokenized.items()}\n",
      "100%|██████████| 25/25 [00:00<00:00, 58.55it/s]\n",
      "  0%|          | 0/25 [00:00<?, ?it/s]/tmp/ipykernel_2736986/2898017953.py:29: UserWarning: To copy construct from a tensor, it is recommended to use sourceTensor.clone().detach() or sourceTensor.clone().detach().requires_grad_(True), rather than torch.tensor(sourceTensor).\n",
      "  column_tokens = {k: torch.tensor(v).to(device) for k, v in tokenized.items()}\n",
      "100%|██████████| 25/25 [00:00<00:00, 59.48it/s]\n",
      "  0%|          | 0/25 [00:00<?, ?it/s]/tmp/ipykernel_2736986/2898017953.py:29: UserWarning: To copy construct from a tensor, it is recommended to use sourceTensor.clone().detach() or sourceTensor.clone().detach().requires_grad_(True), rather than torch.tensor(sourceTensor).\n",
      "  column_tokens = {k: torch.tensor(v).to(device) for k, v in tokenized.items()}\n",
      "100%|██████████| 25/25 [00:00<00:00, 83.23it/s]\n",
      "  0%|          | 0/25 [00:00<?, ?it/s]/tmp/ipykernel_2736986/2898017953.py:29: UserWarning: To copy construct from a tensor, it is recommended to use sourceTensor.clone().detach() or sourceTensor.clone().detach().requires_grad_(True), rather than torch.tensor(sourceTensor).\n",
      "  column_tokens = {k: torch.tensor(v).to(device) for k, v in tokenized.items()}\n",
      "100%|██████████| 25/25 [00:00<00:00, 59.12it/s]\n",
      "  0%|          | 0/7 [00:00<?, ?it/s]/tmp/ipykernel_2736986/2898017953.py:29: UserWarning: To copy construct from a tensor, it is recommended to use sourceTensor.clone().detach() or sourceTensor.clone().detach().requires_grad_(True), rather than torch.tensor(sourceTensor).\n",
      "  column_tokens = {k: torch.tensor(v).to(device) for k, v in tokenized.items()}\n",
      "100%|██████████| 7/7 [00:00<00:00, 83.47it/s]\n",
      "  0%|          | 0/7 [00:00<?, ?it/s]/tmp/ipykernel_2736986/2898017953.py:29: UserWarning: To copy construct from a tensor, it is recommended to use sourceTensor.clone().detach() or sourceTensor.clone().detach().requires_grad_(True), rather than torch.tensor(sourceTensor).\n",
      "  column_tokens = {k: torch.tensor(v).to(device) for k, v in tokenized.items()}\n",
      "100%|██████████| 7/7 [00:00<00:00, 42.69it/s]\n",
      "  0%|          | 0/7 [00:00<?, ?it/s]/tmp/ipykernel_2736986/2898017953.py:29: UserWarning: To copy construct from a tensor, it is recommended to use sourceTensor.clone().detach() or sourceTensor.clone().detach().requires_grad_(True), rather than torch.tensor(sourceTensor).\n",
      "  column_tokens = {k: torch.tensor(v).to(device) for k, v in tokenized.items()}\n",
      "100%|██████████| 7/7 [00:00<00:00, 56.14it/s]"
     ]
    },
    {
     "name": "stdout",
     "output_type": "stream",
     "text": [
      "CPU times: user 49.2 s, sys: 1min 12s, total: 2min 1s\n",
      "Wall time: 15.3 s\n"
     ]
    },
    {
     "name": "stderr",
     "output_type": "stream",
     "text": [
      "\n"
     ]
    },
    {
     "data": {
      "text/plain": [
       "array([0.97 , 0.985, 0.975, 0.975, 0.995])"
      ]
     },
     "execution_count": 63,
     "metadata": {},
     "output_type": "execute_result"
    }
   ],
   "source": [
    "%%time\n",
    "cross_val_score(pipe, df_train[:1000], y_train[:1000], n_jobs=1, )"
   ]
  },
  {
   "cell_type": "code",
   "execution_count": 22,
   "metadata": {},
   "outputs": [
    {
     "name": "stderr",
     "output_type": "stream",
     "text": [
      "  0%|          | 0/2343 [00:00<?, ?it/s]/tmp/ipykernel_1249917/2898017953.py:29: UserWarning: To copy construct from a tensor, it is recommended to use sourceTensor.clone().detach() or sourceTensor.clone().detach().requires_grad_(True), rather than torch.tensor(sourceTensor).\n",
      "  column_tokens = {k: torch.tensor(v).to(device) for k, v in tokenized.items()}\n"
     ]
    },
    {
     "name": "stderr",
     "output_type": "stream",
     "text": [
      "100%|██████████| 2343/2343 [00:38<00:00, 61.46it/s]\n",
      "  0%|          | 0/2343 [00:00<?, ?it/s]/tmp/ipykernel_1249917/2898017953.py:29: UserWarning: To copy construct from a tensor, it is recommended to use sourceTensor.clone().detach() or sourceTensor.clone().detach().requires_grad_(True), rather than torch.tensor(sourceTensor).\n",
      "  column_tokens = {k: torch.tensor(v).to(device) for k, v in tokenized.items()}\n",
      "100%|██████████| 2343/2343 [00:30<00:00, 77.26it/s]\n",
      "  0%|          | 0/2343 [00:00<?, ?it/s]/tmp/ipykernel_1249917/2898017953.py:29: UserWarning: To copy construct from a tensor, it is recommended to use sourceTensor.clone().detach() or sourceTensor.clone().detach().requires_grad_(True), rather than torch.tensor(sourceTensor).\n",
      "  column_tokens = {k: torch.tensor(v).to(device) for k, v in tokenized.items()}\n",
      "100%|██████████| 2343/2343 [00:39<00:00, 59.00it/s]\n",
      "  0%|          | 0/2343 [00:00<?, ?it/s]/tmp/ipykernel_1249917/2898017953.py:29: UserWarning: To copy construct from a tensor, it is recommended to use sourceTensor.clone().detach() or sourceTensor.clone().detach().requires_grad_(True), rather than torch.tensor(sourceTensor).\n",
      "  column_tokens = {k: torch.tensor(v).to(device) for k, v in tokenized.items()}\n",
      "100%|██████████| 2343/2343 [00:38<00:00, 61.14it/s]\n",
      "  0%|          | 0/2343 [00:00<?, ?it/s]/tmp/ipykernel_1249917/2898017953.py:29: UserWarning: To copy construct from a tensor, it is recommended to use sourceTensor.clone().detach() or sourceTensor.clone().detach().requires_grad_(True), rather than torch.tensor(sourceTensor).\n",
      "  column_tokens = {k: torch.tensor(v).to(device) for k, v in tokenized.items()}\n",
      "100%|██████████| 2343/2343 [00:30<00:00, 76.89it/s]\n",
      "  0%|          | 0/2343 [00:00<?, ?it/s]/tmp/ipykernel_1249917/2898017953.py:29: UserWarning: To copy construct from a tensor, it is recommended to use sourceTensor.clone().detach() or sourceTensor.clone().detach().requires_grad_(True), rather than torch.tensor(sourceTensor).\n",
      "  column_tokens = {k: torch.tensor(v).to(device) for k, v in tokenized.items()}\n",
      "100%|██████████| 2343/2343 [00:39<00:00, 59.07it/s]\n"
     ]
    },
    {
     "data": {
      "text/html": [
       "<style>#sk-container-id-2 {color: black;}#sk-container-id-2 pre{padding: 0;}#sk-container-id-2 div.sk-toggleable {background-color: white;}#sk-container-id-2 label.sk-toggleable__label {cursor: pointer;display: block;width: 100%;margin-bottom: 0;padding: 0.3em;box-sizing: border-box;text-align: center;}#sk-container-id-2 label.sk-toggleable__label-arrow:before {content: \"▸\";float: left;margin-right: 0.25em;color: #696969;}#sk-container-id-2 label.sk-toggleable__label-arrow:hover:before {color: black;}#sk-container-id-2 div.sk-estimator:hover label.sk-toggleable__label-arrow:before {color: black;}#sk-container-id-2 div.sk-toggleable__content {max-height: 0;max-width: 0;overflow: hidden;text-align: left;background-color: #f0f8ff;}#sk-container-id-2 div.sk-toggleable__content pre {margin: 0.2em;color: black;border-radius: 0.25em;background-color: #f0f8ff;}#sk-container-id-2 input.sk-toggleable__control:checked~div.sk-toggleable__content {max-height: 200px;max-width: 100%;overflow: auto;}#sk-container-id-2 input.sk-toggleable__control:checked~label.sk-toggleable__label-arrow:before {content: \"▾\";}#sk-container-id-2 div.sk-estimator input.sk-toggleable__control:checked~label.sk-toggleable__label {background-color: #d4ebff;}#sk-container-id-2 div.sk-label input.sk-toggleable__control:checked~label.sk-toggleable__label {background-color: #d4ebff;}#sk-container-id-2 input.sk-hidden--visually {border: 0;clip: rect(1px 1px 1px 1px);clip: rect(1px, 1px, 1px, 1px);height: 1px;margin: -1px;overflow: hidden;padding: 0;position: absolute;width: 1px;}#sk-container-id-2 div.sk-estimator {font-family: monospace;background-color: #f0f8ff;border: 1px dotted black;border-radius: 0.25em;box-sizing: border-box;margin-bottom: 0.5em;}#sk-container-id-2 div.sk-estimator:hover {background-color: #d4ebff;}#sk-container-id-2 div.sk-parallel-item::after {content: \"\";width: 100%;border-bottom: 1px solid gray;flex-grow: 1;}#sk-container-id-2 div.sk-label:hover label.sk-toggleable__label {background-color: #d4ebff;}#sk-container-id-2 div.sk-serial::before {content: \"\";position: absolute;border-left: 1px solid gray;box-sizing: border-box;top: 0;bottom: 0;left: 50%;z-index: 0;}#sk-container-id-2 div.sk-serial {display: flex;flex-direction: column;align-items: center;background-color: white;padding-right: 0.2em;padding-left: 0.2em;position: relative;}#sk-container-id-2 div.sk-item {position: relative;z-index: 1;}#sk-container-id-2 div.sk-parallel {display: flex;align-items: stretch;justify-content: center;background-color: white;position: relative;}#sk-container-id-2 div.sk-item::before, #sk-container-id-2 div.sk-parallel-item::before {content: \"\";position: absolute;border-left: 1px solid gray;box-sizing: border-box;top: 0;bottom: 0;left: 50%;z-index: -1;}#sk-container-id-2 div.sk-parallel-item {display: flex;flex-direction: column;z-index: 1;position: relative;background-color: white;}#sk-container-id-2 div.sk-parallel-item:first-child::after {align-self: flex-end;width: 50%;}#sk-container-id-2 div.sk-parallel-item:last-child::after {align-self: flex-start;width: 50%;}#sk-container-id-2 div.sk-parallel-item:only-child::after {width: 0;}#sk-container-id-2 div.sk-dashed-wrapped {border: 1px dashed gray;margin: 0 0.4em 0.5em 0.4em;box-sizing: border-box;padding-bottom: 0.4em;background-color: white;}#sk-container-id-2 div.sk-label label {font-family: monospace;font-weight: bold;display: inline-block;line-height: 1.2em;}#sk-container-id-2 div.sk-label-container {text-align: center;}#sk-container-id-2 div.sk-container {/* jupyter's `normalize.less` sets `[hidden] { display: none; }` but bootstrap.min.css set `[hidden] { display: none !important; }` so we also need the `!important` here to be able to override the default hidden behavior on the sphinx rendered scikit-learn.org. See: https://github.com/scikit-learn/scikit-learn/issues/21755 */display: inline-block !important;position: relative;}#sk-container-id-2 div.sk-text-repr-fallback {display: none;}</style><div id=\"sk-container-id-2\" class=\"sk-top-container\"><div class=\"sk-text-repr-fallback\"><pre>Pipeline(steps=[(&#x27;preproc&#x27;,\n",
       "                 ColumnTransformer(transformers=[(&#x27;cat_encoder&#x27;,\n",
       "                                                  OrdinalEncoder(handle_unknown=&#x27;use_encoded_value&#x27;,\n",
       "                                                                 unknown_value=-1),\n",
       "                                                  [&#x27;age&#x27;, &#x27;Пол&#x27;, &#x27;Регион&#x27;,\n",
       "                                                   &#x27;Страна проживания&#x27;,\n",
       "                                                   &#x27;Уровень образования&#x27;,\n",
       "                                                   &#x27;Соответствует ли выбранная &#x27;\n",
       "                                                   &#x27;типовая текущей &#x27;\n",
       "                                                   &#x27;должности&#x27;]),\n",
       "                                                 (&#x27;text_encoder&#x27;,\n",
       "                                                  BERTEmbExtractor(batch_size=32,\n",
       "                                                                   model=BertModel(\n",
       "  (embeddings): BertEmbeddings...\n",
       "                                                                   tokenizer=BertTokenizerFast(name_or_path=&#x27;ai-forever/ruBert-base&#x27;, vocab_size=120138, model_max_length=1000000000000000019884624838656, is_fast=True, padding_side=&#x27;right&#x27;, truncation_side=&#x27;right&#x27;, special_tokens={&#x27;unk_token&#x27;: &#x27;[UNK]&#x27;, &#x27;sep_token&#x27;: &#x27;[SEP]&#x27;, &#x27;pad_token&#x27;: &#x27;[PAD]&#x27;, &#x27;cls_token&#x27;: &#x27;[CLS]&#x27;, &#x27;mask_token&#x27;: &#x27;[MASK]&#x27;}, clean_up_tokenization_spaces=True)),\n",
       "                                                  [&#x27;Место работы&#x27;,\n",
       "                                                   &#x27;Наименование текущей &#x27;\n",
       "                                                   &#x27;должности&#x27;,\n",
       "                                                   &#x27;Наименование выбранной &#x27;\n",
       "                                                   &#x27;типовой должности&#x27;])])),\n",
       "                (&#x27;imputer&#x27;, SimpleImputer()),\n",
       "                (&#x27;model&#x27;, ExtraTreesClassifier())])</pre><b>In a Jupyter environment, please rerun this cell to show the HTML representation or trust the notebook. <br />On GitHub, the HTML representation is unable to render, please try loading this page with nbviewer.org.</b></div><div class=\"sk-container\" hidden><div class=\"sk-item sk-dashed-wrapped\"><div class=\"sk-label-container\"><div class=\"sk-label sk-toggleable\"><input class=\"sk-toggleable__control sk-hidden--visually\" id=\"sk-estimator-id-6\" type=\"checkbox\" ><label for=\"sk-estimator-id-6\" class=\"sk-toggleable__label sk-toggleable__label-arrow\">Pipeline</label><div class=\"sk-toggleable__content\"><pre>Pipeline(steps=[(&#x27;preproc&#x27;,\n",
       "                 ColumnTransformer(transformers=[(&#x27;cat_encoder&#x27;,\n",
       "                                                  OrdinalEncoder(handle_unknown=&#x27;use_encoded_value&#x27;,\n",
       "                                                                 unknown_value=-1),\n",
       "                                                  [&#x27;age&#x27;, &#x27;Пол&#x27;, &#x27;Регион&#x27;,\n",
       "                                                   &#x27;Страна проживания&#x27;,\n",
       "                                                   &#x27;Уровень образования&#x27;,\n",
       "                                                   &#x27;Соответствует ли выбранная &#x27;\n",
       "                                                   &#x27;типовая текущей &#x27;\n",
       "                                                   &#x27;должности&#x27;]),\n",
       "                                                 (&#x27;text_encoder&#x27;,\n",
       "                                                  BERTEmbExtractor(batch_size=32,\n",
       "                                                                   model=BertModel(\n",
       "  (embeddings): BertEmbeddings...\n",
       "                                                                   tokenizer=BertTokenizerFast(name_or_path=&#x27;ai-forever/ruBert-base&#x27;, vocab_size=120138, model_max_length=1000000000000000019884624838656, is_fast=True, padding_side=&#x27;right&#x27;, truncation_side=&#x27;right&#x27;, special_tokens={&#x27;unk_token&#x27;: &#x27;[UNK]&#x27;, &#x27;sep_token&#x27;: &#x27;[SEP]&#x27;, &#x27;pad_token&#x27;: &#x27;[PAD]&#x27;, &#x27;cls_token&#x27;: &#x27;[CLS]&#x27;, &#x27;mask_token&#x27;: &#x27;[MASK]&#x27;}, clean_up_tokenization_spaces=True)),\n",
       "                                                  [&#x27;Место работы&#x27;,\n",
       "                                                   &#x27;Наименование текущей &#x27;\n",
       "                                                   &#x27;должности&#x27;,\n",
       "                                                   &#x27;Наименование выбранной &#x27;\n",
       "                                                   &#x27;типовой должности&#x27;])])),\n",
       "                (&#x27;imputer&#x27;, SimpleImputer()),\n",
       "                (&#x27;model&#x27;, ExtraTreesClassifier())])</pre></div></div></div><div class=\"sk-serial\"><div class=\"sk-item sk-dashed-wrapped\"><div class=\"sk-label-container\"><div class=\"sk-label sk-toggleable\"><input class=\"sk-toggleable__control sk-hidden--visually\" id=\"sk-estimator-id-7\" type=\"checkbox\" ><label for=\"sk-estimator-id-7\" class=\"sk-toggleable__label sk-toggleable__label-arrow\">preproc: ColumnTransformer</label><div class=\"sk-toggleable__content\"><pre>ColumnTransformer(transformers=[(&#x27;cat_encoder&#x27;,\n",
       "                                 OrdinalEncoder(handle_unknown=&#x27;use_encoded_value&#x27;,\n",
       "                                                unknown_value=-1),\n",
       "                                 [&#x27;age&#x27;, &#x27;Пол&#x27;, &#x27;Регион&#x27;, &#x27;Страна проживания&#x27;,\n",
       "                                  &#x27;Уровень образования&#x27;,\n",
       "                                  &#x27;Соответствует ли выбранная типовая текущей &#x27;\n",
       "                                  &#x27;должности&#x27;]),\n",
       "                                (&#x27;text_encoder&#x27;,\n",
       "                                 BERTEmbExtractor(batch_size=32,\n",
       "                                                  model=BertModel(\n",
       "  (embeddings): BertEmbeddings(\n",
       "    (word_embeddings): Embedding(...\n",
       "                                                  tokenizer=BertTokenizerFast(name_or_path=&#x27;ai-forever/ruBert-base&#x27;, vocab_size=120138, model_max_length=1000000000000000019884624838656, is_fast=True, padding_side=&#x27;right&#x27;, truncation_side=&#x27;right&#x27;, special_tokens={&#x27;unk_token&#x27;: &#x27;[UNK]&#x27;, &#x27;sep_token&#x27;: &#x27;[SEP]&#x27;, &#x27;pad_token&#x27;: &#x27;[PAD]&#x27;, &#x27;cls_token&#x27;: &#x27;[CLS]&#x27;, &#x27;mask_token&#x27;: &#x27;[MASK]&#x27;}, clean_up_tokenization_spaces=True)),\n",
       "                                 [&#x27;Место работы&#x27;,\n",
       "                                  &#x27;Наименование текущей должности&#x27;,\n",
       "                                  &#x27;Наименование выбранной типовой должности&#x27;])])</pre></div></div></div><div class=\"sk-parallel\"><div class=\"sk-parallel-item\"><div class=\"sk-item\"><div class=\"sk-label-container\"><div class=\"sk-label sk-toggleable\"><input class=\"sk-toggleable__control sk-hidden--visually\" id=\"sk-estimator-id-8\" type=\"checkbox\" ><label for=\"sk-estimator-id-8\" class=\"sk-toggleable__label sk-toggleable__label-arrow\">cat_encoder</label><div class=\"sk-toggleable__content\"><pre>[&#x27;age&#x27;, &#x27;Пол&#x27;, &#x27;Регион&#x27;, &#x27;Страна проживания&#x27;, &#x27;Уровень образования&#x27;, &#x27;Соответствует ли выбранная типовая текущей должности&#x27;]</pre></div></div></div><div class=\"sk-serial\"><div class=\"sk-item\"><div class=\"sk-estimator sk-toggleable\"><input class=\"sk-toggleable__control sk-hidden--visually\" id=\"sk-estimator-id-9\" type=\"checkbox\" ><label for=\"sk-estimator-id-9\" class=\"sk-toggleable__label sk-toggleable__label-arrow\">OrdinalEncoder</label><div class=\"sk-toggleable__content\"><pre>OrdinalEncoder(handle_unknown=&#x27;use_encoded_value&#x27;, unknown_value=-1)</pre></div></div></div></div></div></div><div class=\"sk-parallel-item\"><div class=\"sk-item\"><div class=\"sk-label-container\"><div class=\"sk-label sk-toggleable\"><input class=\"sk-toggleable__control sk-hidden--visually\" id=\"sk-estimator-id-10\" type=\"checkbox\" ><label for=\"sk-estimator-id-10\" class=\"sk-toggleable__label sk-toggleable__label-arrow\">text_encoder</label><div class=\"sk-toggleable__content\"><pre>[&#x27;Место работы&#x27;, &#x27;Наименование текущей должности&#x27;, &#x27;Наименование выбранной типовой должности&#x27;]</pre></div></div></div><div class=\"sk-serial\"><div class=\"sk-item\"><div class=\"sk-estimator sk-toggleable\"><input class=\"sk-toggleable__control sk-hidden--visually\" id=\"sk-estimator-id-11\" type=\"checkbox\" ><label for=\"sk-estimator-id-11\" class=\"sk-toggleable__label sk-toggleable__label-arrow\">BERTEmbExtractor</label><div class=\"sk-toggleable__content\"><pre>BERTEmbExtractor(batch_size=32,\n",
       "                 model=BertModel(\n",
       "  (embeddings): BertEmbeddings(\n",
       "    (word_embeddings): Embedding(120138, 768, padding_idx=0)\n",
       "    (position_embeddings): Embedding(512, 768)\n",
       "    (token_type_embeddings): Embedding(2, 768)\n",
       "    (LayerNorm): LayerNorm((768,), eps=1e-12, elementwise_affine=True)\n",
       "    (dropout): Dropout(p=0.1, inplace=False)\n",
       "  )\n",
       "  (encoder): BertEncoder(\n",
       "    (layer): ModuleList...\n",
       "    (activation): Tanh()\n",
       "  )\n",
       "),\n",
       "                 tokenizer=BertTokenizerFast(name_or_path=&#x27;ai-forever/ruBert-base&#x27;, vocab_size=120138, model_max_length=1000000000000000019884624838656, is_fast=True, padding_side=&#x27;right&#x27;, truncation_side=&#x27;right&#x27;, special_tokens={&#x27;unk_token&#x27;: &#x27;[UNK]&#x27;, &#x27;sep_token&#x27;: &#x27;[SEP]&#x27;, &#x27;pad_token&#x27;: &#x27;[PAD]&#x27;, &#x27;cls_token&#x27;: &#x27;[CLS]&#x27;, &#x27;mask_token&#x27;: &#x27;[MASK]&#x27;}, clean_up_tokenization_spaces=True))</pre></div></div></div></div></div></div></div></div><div class=\"sk-item\"><div class=\"sk-estimator sk-toggleable\"><input class=\"sk-toggleable__control sk-hidden--visually\" id=\"sk-estimator-id-12\" type=\"checkbox\" ><label for=\"sk-estimator-id-12\" class=\"sk-toggleable__label sk-toggleable__label-arrow\">SimpleImputer</label><div class=\"sk-toggleable__content\"><pre>SimpleImputer()</pre></div></div></div><div class=\"sk-item\"><div class=\"sk-estimator sk-toggleable\"><input class=\"sk-toggleable__control sk-hidden--visually\" id=\"sk-estimator-id-13\" type=\"checkbox\" ><label for=\"sk-estimator-id-13\" class=\"sk-toggleable__label sk-toggleable__label-arrow\">ExtraTreesClassifier</label><div class=\"sk-toggleable__content\"><pre>ExtraTreesClassifier()</pre></div></div></div></div></div></div></div>"
      ],
      "text/plain": [
       "Pipeline(steps=[('preproc',\n",
       "                 ColumnTransformer(transformers=[('cat_encoder',\n",
       "                                                  OrdinalEncoder(handle_unknown='use_encoded_value',\n",
       "                                                                 unknown_value=-1),\n",
       "                                                  ['age', 'Пол', 'Регион',\n",
       "                                                   'Страна проживания',\n",
       "                                                   'Уровень образования',\n",
       "                                                   'Соответствует ли выбранная '\n",
       "                                                   'типовая текущей '\n",
       "                                                   'должности']),\n",
       "                                                 ('text_encoder',\n",
       "                                                  BERTEmbExtractor(batch_size=32,\n",
       "                                                                   model=BertModel(\n",
       "  (embeddings): BertEmbeddings...\n",
       "                                                                   tokenizer=BertTokenizerFast(name_or_path='ai-forever/ruBert-base', vocab_size=120138, model_max_length=1000000000000000019884624838656, is_fast=True, padding_side='right', truncation_side='right', special_tokens={'unk_token': '[UNK]', 'sep_token': '[SEP]', 'pad_token': '[PAD]', 'cls_token': '[CLS]', 'mask_token': '[MASK]'}, clean_up_tokenization_spaces=True)),\n",
       "                                                  ['Место работы',\n",
       "                                                   'Наименование текущей '\n",
       "                                                   'должности',\n",
       "                                                   'Наименование выбранной '\n",
       "                                                   'типовой должности'])])),\n",
       "                ('imputer', SimpleImputer()),\n",
       "                ('model', ExtraTreesClassifier())])"
      ]
     },
     "execution_count": 22,
     "metadata": {},
     "output_type": "execute_result"
    }
   ],
   "source": [
    "pipe.fit(df_train, y_train)"
   ]
  },
  {
   "cell_type": "code",
   "execution_count": 23,
   "metadata": {},
   "outputs": [
    {
     "name": "stderr",
     "output_type": "stream",
     "text": [
      "  0%|          | 0/10 [00:00<?, ?it/s]/tmp/ipykernel_1249917/2898017953.py:29: UserWarning: To copy construct from a tensor, it is recommended to use sourceTensor.clone().detach() or sourceTensor.clone().detach().requires_grad_(True), rather than torch.tensor(sourceTensor).\n",
      "  column_tokens = {k: torch.tensor(v).to(device) for k, v in tokenized.items()}\n",
      "100%|██████████| 10/10 [00:00<00:00, 74.79it/s]\n",
      "  0%|          | 0/10 [00:00<?, ?it/s]/tmp/ipykernel_1249917/2898017953.py:29: UserWarning: To copy construct from a tensor, it is recommended to use sourceTensor.clone().detach() or sourceTensor.clone().detach().requires_grad_(True), rather than torch.tensor(sourceTensor).\n",
      "  column_tokens = {k: torch.tensor(v).to(device) for k, v in tokenized.items()}\n",
      "100%|██████████| 10/10 [00:00<00:00, 70.70it/s]\n",
      "  0%|          | 0/10 [00:00<?, ?it/s]/tmp/ipykernel_1249917/2898017953.py:29: UserWarning: To copy construct from a tensor, it is recommended to use sourceTensor.clone().detach() or sourceTensor.clone().detach().requires_grad_(True), rather than torch.tensor(sourceTensor).\n",
      "  column_tokens = {k: torch.tensor(v).to(device) for k, v in tokenized.items()}\n",
      "100%|██████████| 10/10 [00:00<00:00, 61.56it/s]\n"
     ]
    }
   ],
   "source": [
    "y_pred = pipe.predict(df_val)"
   ]
  },
  {
   "cell_type": "markdown",
   "metadata": {},
   "source": [
    "## Метрики для - Сфера деятельности по Классификатору ФОИР"
   ]
  },
  {
   "cell_type": "code",
   "execution_count": 24,
   "metadata": {},
   "outputs": [
    {
     "name": "stdout",
     "output_type": "stream",
     "text": [
      "              precision    recall  f1-score   support\n",
      "\n",
      "           0       1.00      1.00      1.00         8\n",
      "           3       1.00      1.00      1.00         7\n",
      "           4       1.00      1.00      1.00        39\n",
      "           5       1.00      1.00      1.00        12\n",
      "           6       1.00      1.00      1.00        97\n",
      "           7       1.00      1.00      1.00       128\n",
      "\n",
      "    accuracy                           1.00       291\n",
      "   macro avg       1.00      1.00      1.00       291\n",
      "weighted avg       1.00      1.00      1.00       291\n",
      "\n"
     ]
    }
   ],
   "source": [
    "print(classification_report(y_val, y_pred,))"
   ]
  },
  {
   "cell_type": "code",
   "execution_count": 34,
   "metadata": {},
   "outputs": [
    {
     "data": {
      "text/plain": [
       "array([3, 7, 5, 6, 4, 0])"
      ]
     },
     "execution_count": 34,
     "metadata": {},
     "output_type": "execute_result"
    }
   ],
   "source": [
    "y_val.unique()"
   ]
  },
  {
   "cell_type": "code",
   "execution_count": 35,
   "metadata": {},
   "outputs": [
    {
     "data": {
      "text/plain": [
       "array(['Государственные корпорации и Институты развития',\n",
       "       'Коммерческие компании, государственные/муниципальные предприятия',\n",
       "       'Не работаю',\n",
       "       'Общественные/общественно-политические организации и НКО ',\n",
       "       'Органы местного самоуправления (ОМСУ)',\n",
       "       'Подведомственные органам власти (государственные/муниципальные) организации',\n",
       "       'Региональные органы государственной власти, в т.ч. гражданская служба субъектов РФ',\n",
       "       'Федеральные государственные органы, в т.ч. федеральная государственная служба'],\n",
       "      dtype=object)"
      ]
     },
     "execution_count": 35,
     "metadata": {},
     "output_type": "execute_result"
    }
   ],
   "source": [
    "LE.classes_"
   ]
  },
  {
   "cell_type": "code",
   "execution_count": 32,
   "metadata": {},
   "outputs": [
    {
     "name": "stderr",
     "output_type": "stream",
     "text": [
      "  0%|          | 0/10 [00:00<?, ?it/s]/tmp/ipykernel_1249917/2898017953.py:29: UserWarning: To copy construct from a tensor, it is recommended to use sourceTensor.clone().detach() or sourceTensor.clone().detach().requires_grad_(True), rather than torch.tensor(sourceTensor).\n",
      "  column_tokens = {k: torch.tensor(v).to(device) for k, v in tokenized.items()}\n",
      "100%|██████████| 10/10 [00:00<00:00, 62.65it/s]\n",
      "  0%|          | 0/10 [00:00<?, ?it/s]/tmp/ipykernel_1249917/2898017953.py:29: UserWarning: To copy construct from a tensor, it is recommended to use sourceTensor.clone().detach() or sourceTensor.clone().detach().requires_grad_(True), rather than torch.tensor(sourceTensor).\n",
      "  column_tokens = {k: torch.tensor(v).to(device) for k, v in tokenized.items()}\n",
      "100%|██████████| 10/10 [00:00<00:00, 73.34it/s]\n",
      "  0%|          | 0/10 [00:00<?, ?it/s]/tmp/ipykernel_1249917/2898017953.py:29: UserWarning: To copy construct from a tensor, it is recommended to use sourceTensor.clone().detach() or sourceTensor.clone().detach().requires_grad_(True), rather than torch.tensor(sourceTensor).\n",
      "  column_tokens = {k: torch.tensor(v).to(device) for k, v in tokenized.items()}\n",
      "100%|██████████| 10/10 [00:00<00:00, 76.79it/s]\n"
     ]
    },
    {
     "data": {
      "text/plain": [
       "<sklearn.metrics._plot.confusion_matrix.ConfusionMatrixDisplay at 0x7f5d159ff580>"
      ]
     },
     "execution_count": 32,
     "metadata": {},
     "output_type": "execute_result"
    },
    {
     "data": {
      "image/png": "[encoded data removed]",
      "text/plain": [
       "<Figure size 640x480 with 2 Axes>"
      ]
     },
     "metadata": {},
     "output_type": "display_data"
    }
   ],
   "source": [
    "ConfusionMatrixDisplay.from_estimator(\n",
    "    pipe, df_val, y_val, display_labels=LE.classes_[sorted(y_val.unique())], xticks_rotation=\"vertical\"\n",
    ")"
   ]
  },
  {
   "cell_type": "markdown",
   "metadata": {},
   "source": [
    "## Метрики для - Карьерная ступень по Классификатору ФОИР"
   ]
  },
  {
   "cell_type": "code",
   "execution_count": 41,
   "metadata": {},
   "outputs": [
    {
     "name": "stdout",
     "output_type": "stream",
     "text": [
      "              precision    recall  f1-score   support\n",
      "\n",
      "           0       1.00      1.00      1.00        16\n",
      "           1       1.00      1.00      1.00        46\n",
      "           2       1.00      0.97      0.99        34\n",
      "           3       1.00      1.00      1.00        38\n",
      "           4       0.95      1.00      0.97        38\n",
      "           5       1.00      1.00      1.00        15\n",
      "           6       1.00      1.00      1.00         9\n",
      "           7       1.00      1.00      1.00        57\n",
      "           8       1.00      0.94      0.97        18\n",
      "           9       1.00      1.00      1.00        16\n",
      "          10       1.00      1.00      1.00         4\n",
      "\n",
      "    accuracy                           0.99       291\n",
      "   macro avg       1.00      0.99      0.99       291\n",
      "weighted avg       0.99      0.99      0.99       291\n",
      "\n"
     ]
    }
   ],
   "source": [
    "print(classification_report(y_val, y_pred,))"
   ]
  },
  {
   "cell_type": "code",
   "execution_count": 42,
   "metadata": {},
   "outputs": [
    {
     "data": {
      "text/plain": [
       "array([ 1,  2,  3,  4,  5,  6,  7,  8,  9, 10, 11, 12])"
      ]
     },
     "execution_count": 42,
     "metadata": {},
     "output_type": "execute_result"
    }
   ],
   "source": [
    "LE.classes_"
   ]
  },
  {
   "cell_type": "code",
   "execution_count": 43,
   "metadata": {},
   "outputs": [
    {
     "name": "stderr",
     "output_type": "stream",
     "text": [
      "  0%|          | 0/10 [00:00<?, ?it/s]/tmp/ipykernel_2736986/2898017953.py:29: UserWarning: To copy construct from a tensor, it is recommended to use sourceTensor.clone().detach() or sourceTensor.clone().detach().requires_grad_(True), rather than torch.tensor(sourceTensor).\n",
      "  column_tokens = {k: torch.tensor(v).to(device) for k, v in tokenized.items()}\n",
      "100%|██████████| 10/10 [00:00<00:00, 71.88it/s]\n",
      "  0%|          | 0/10 [00:00<?, ?it/s]/tmp/ipykernel_2736986/2898017953.py:29: UserWarning: To copy construct from a tensor, it is recommended to use sourceTensor.clone().detach() or sourceTensor.clone().detach().requires_grad_(True), rather than torch.tensor(sourceTensor).\n",
      "  column_tokens = {k: torch.tensor(v).to(device) for k, v in tokenized.items()}\n",
      "100%|██████████| 10/10 [00:00<00:00, 73.33it/s]\n",
      "  0%|          | 0/10 [00:00<?, ?it/s]/tmp/ipykernel_2736986/2898017953.py:29: UserWarning: To copy construct from a tensor, it is recommended to use sourceTensor.clone().detach() or sourceTensor.clone().detach().requires_grad_(True), rather than torch.tensor(sourceTensor).\n",
      "  column_tokens = {k: torch.tensor(v).to(device) for k, v in tokenized.items()}\n",
      "100%|██████████| 10/10 [00:00<00:00, 68.73it/s]\n"
     ]
    },
    {
     "data": {
      "text/plain": [
       "<sklearn.metrics._plot.confusion_matrix.ConfusionMatrixDisplay at 0x7fb304f0c460>"
      ]
     },
     "execution_count": 43,
     "metadata": {},
     "output_type": "execute_result"
    },
    {
     "data": {
      "image/png": "[encoded data removed]",
      "text/plain": [
       "<Figure size 640x480 with 2 Axes>"
      ]
     },
     "metadata": {},
     "output_type": "display_data"
    }
   ],
   "source": [
    "ConfusionMatrixDisplay.from_estimator(\n",
    "    pipe, df_val, y_val, display_labels=LE.classes_[:-1], xticks_rotation=\"vertical\"\n",
    ")"
   ]
  }
 ],
 "metadata": {
  "kernelspec": {
   "display_name": ".venv",
   "language": "python",
   "name": "python3"
  },
  "language_info": {
   "codemirror_mode": {
    "name": "ipython",
    "version": 3
   },
   "file_extension": ".py",
   "mimetype": "text/x-python",
   "name": "python",
   "nbconvert_exporter": "python",
   "pygments_lexer": "ipython3",
   "version": "3.10.12"
  },
  "orig_nbformat": 4
 },
 "nbformat": 4,
 "nbformat_minor": 2
}
