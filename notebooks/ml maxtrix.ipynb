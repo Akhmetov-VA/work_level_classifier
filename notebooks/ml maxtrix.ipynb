{
 "cells": [
  {
   "cell_type": "code",
   "execution_count": 156,
   "metadata": {},
   "outputs": [],
   "source": [
    "import re\n",
    "import numpy as np\n",
    "import pandas as pd\n",
    "from tqdm import tqdm\n",
    "\n",
    "from sklearn.preprocessing import LabelEncoder, OrdinalEncoder\n",
    "from sklearn.pipeline import Pipeline\n",
    "from sklearn.compose import ColumnTransformer\n",
    "from sklearn.decomposition import PCA\n",
    "\n",
    "from sklearn.model_selection import train_test_split, cross_val_score\n",
    "from sklearn.metrics import classification_report\n",
    "from sklearn.metrics import ConfusionMatrixDisplay\n",
    "\n",
    "import torch\n",
    "from transformers import AutoTokenizer, AutoModel\n",
    "\n",
    "tqdm.pandas()\n",
    "\n",
    "device = torch.device('cuda')"
   ]
  },
  {
   "cell_type": "code",
   "execution_count": 157,
   "metadata": {},
   "outputs": [],
   "source": [
    "data = pd.read_excel('../Выгрузка_Классификатор_для передачи_1 заход.xlsx')"
   ]
  },
  {
   "cell_type": "code",
   "execution_count": 158,
   "metadata": {},
   "outputs": [
    {
     "data": {
      "text/html": [
       "<div>\n",
       "<style scoped>\n",
       "    .dataframe tbody tr th:only-of-type {\n",
       "        vertical-align: middle;\n",
       "    }\n",
       "\n",
       "    .dataframe tbody tr th {\n",
       "        vertical-align: top;\n",
       "    }\n",
       "\n",
       "    .dataframe thead th {\n",
       "        text-align: right;\n",
       "    }\n",
       "</style>\n",
       "<table border=\"1\" class=\"dataframe\">\n",
       "  <thead>\n",
       "    <tr style=\"text-align: right;\">\n",
       "      <th></th>\n",
       "      <th>Номер</th>\n",
       "      <th>Пол</th>\n",
       "      <th>Дата рождения</th>\n",
       "      <th>Федеральный округ</th>\n",
       "      <th>Регион</th>\n",
       "      <th>Страна проживания</th>\n",
       "      <th>Место работы</th>\n",
       "      <th>Наименование текущей должности</th>\n",
       "      <th>Уровень образования</th>\n",
       "      <th>Карьерная ступень по Классификатору ФОИР</th>\n",
       "      <th>Наименование выбранной типовой должности</th>\n",
       "      <th>Сфера деятельности по Классификатору ФОИР</th>\n",
       "      <th>Соответствует ли выбранная типовая текущей должности</th>\n",
       "      <th>Ручная проверка карьерной ступени</th>\n",
       "      <th>Разница по итогам проверки</th>\n",
       "    </tr>\n",
       "  </thead>\n",
       "  <tbody>\n",
       "    <tr>\n",
       "      <th>0</th>\n",
       "      <td>9886272994</td>\n",
       "      <td>Мужской</td>\n",
       "      <td>28.05.1980</td>\n",
       "      <td>Центральный ФО</td>\n",
       "      <td>Московская</td>\n",
       "      <td>Россия</td>\n",
       "      <td>ООО \"РЖД-Технологии\"</td>\n",
       "      <td>Директор по стратегии</td>\n",
       "      <td>Кандидат наук</td>\n",
       "      <td>1</td>\n",
       "      <td>Руководитель подразделения/группы/команды на м...</td>\n",
       "      <td>Коммерческие компании, государственные/муницип...</td>\n",
       "      <td>Можно считать аналогом с очень большой натяжкой</td>\n",
       "      <td>NaN</td>\n",
       "      <td>NaN</td>\n",
       "    </tr>\n",
       "    <tr>\n",
       "      <th>1</th>\n",
       "      <td>8010695393</td>\n",
       "      <td>Мужской</td>\n",
       "      <td>09.10.1977</td>\n",
       "      <td>Центральный ФО</td>\n",
       "      <td>Орловская</td>\n",
       "      <td>Россия</td>\n",
       "      <td>ПАО МегаФон</td>\n",
       "      <td>начальник</td>\n",
       "      <td>Два и более высших образований</td>\n",
       "      <td>3</td>\n",
       "      <td>Руководитель проекта в крупной/средней компании</td>\n",
       "      <td>Коммерческие компании, государственные/муницип...</td>\n",
       "      <td>Очень близкий аналог</td>\n",
       "      <td>NaN</td>\n",
       "      <td>NaN</td>\n",
       "    </tr>\n",
       "    <tr>\n",
       "      <th>2</th>\n",
       "      <td>4851605917</td>\n",
       "      <td>Мужской</td>\n",
       "      <td>08.12.1991</td>\n",
       "      <td>Уральский ФО</td>\n",
       "      <td>Свердловская</td>\n",
       "      <td>Россия</td>\n",
       "      <td>ООО \"Генная Хирургия\"</td>\n",
       "      <td>Исполнительный директор</td>\n",
       "      <td>Два и более высших образований</td>\n",
       "      <td>5</td>\n",
       "      <td>Генеральный директор, управляющий директор мал...</td>\n",
       "      <td>Коммерческие компании, государственные/муницип...</td>\n",
       "      <td>Полный аналог</td>\n",
       "      <td>NaN</td>\n",
       "      <td>NaN</td>\n",
       "    </tr>\n",
       "    <tr>\n",
       "      <th>3</th>\n",
       "      <td>4093896163</td>\n",
       "      <td>Мужской</td>\n",
       "      <td>18.07.1973</td>\n",
       "      <td>Северо-Западный ФО</td>\n",
       "      <td>Санкт-Петербург</td>\n",
       "      <td>Россия</td>\n",
       "      <td>ООО \"Спецстроймонтаж\"; ООО \"СЕРВИС ТИМ\"; ООО \"...</td>\n",
       "      <td>Исполнительный директор; Генеральный директор;...</td>\n",
       "      <td>Два и более высших образований</td>\n",
       "      <td>2</td>\n",
       "      <td>Директор малого предприятия</td>\n",
       "      <td>Коммерческие компании, государственные/муницип...</td>\n",
       "      <td>Полный аналог</td>\n",
       "      <td>NaN</td>\n",
       "      <td>NaN</td>\n",
       "    </tr>\n",
       "    <tr>\n",
       "      <th>4</th>\n",
       "      <td>7512508692</td>\n",
       "      <td>Мужской</td>\n",
       "      <td>19.01.1980</td>\n",
       "      <td>Центральный ФО</td>\n",
       "      <td>Москва</td>\n",
       "      <td>Россия</td>\n",
       "      <td>ПАО «Вымпелком»</td>\n",
       "      <td>Директор по стратегии и долгосрочному планиров...</td>\n",
       "      <td>Высшее, специалитет, магистратура</td>\n",
       "      <td>4</td>\n",
       "      <td>Руководитель управления корпоративной функции ...</td>\n",
       "      <td>Коммерческие компании, государственные/муницип...</td>\n",
       "      <td>Очень близкий аналог</td>\n",
       "      <td>NaN</td>\n",
       "      <td>NaN</td>\n",
       "    </tr>\n",
       "    <tr>\n",
       "      <th>...</th>\n",
       "      <td>...</td>\n",
       "      <td>...</td>\n",
       "      <td>...</td>\n",
       "      <td>...</td>\n",
       "      <td>...</td>\n",
       "      <td>...</td>\n",
       "      <td>...</td>\n",
       "      <td>...</td>\n",
       "      <td>...</td>\n",
       "      <td>...</td>\n",
       "      <td>...</td>\n",
       "      <td>...</td>\n",
       "      <td>...</td>\n",
       "      <td>...</td>\n",
       "      <td>...</td>\n",
       "    </tr>\n",
       "    <tr>\n",
       "      <th>75234</th>\n",
       "      <td>5143980152</td>\n",
       "      <td>Мужской</td>\n",
       "      <td>03.09.1967</td>\n",
       "      <td>NaN</td>\n",
       "      <td>NaN</td>\n",
       "      <td>Эстония</td>\n",
       "      <td>ООО Стивтранс</td>\n",
       "      <td>Член правления</td>\n",
       "      <td>Два и более высших образований</td>\n",
       "      <td>2</td>\n",
       "      <td>Директор малого предприятия</td>\n",
       "      <td>Коммерческие компании, государственные/муницип...</td>\n",
       "      <td>Очень близкий аналог</td>\n",
       "      <td>NaN</td>\n",
       "      <td>NaN</td>\n",
       "    </tr>\n",
       "    <tr>\n",
       "      <th>75235</th>\n",
       "      <td>7339537870</td>\n",
       "      <td>Мужской</td>\n",
       "      <td>17.03.1995</td>\n",
       "      <td>Центральный ФО</td>\n",
       "      <td>Белгородская</td>\n",
       "      <td>Россия</td>\n",
       "      <td>NaN</td>\n",
       "      <td>NaN</td>\n",
       "      <td>Два и более высших образований</td>\n",
       "      <td>12</td>\n",
       "      <td>Не работаю</td>\n",
       "      <td>Не работаю</td>\n",
       "      <td>Не работаю</td>\n",
       "      <td>NaN</td>\n",
       "      <td>NaN</td>\n",
       "    </tr>\n",
       "    <tr>\n",
       "      <th>75236</th>\n",
       "      <td>3799741744</td>\n",
       "      <td>Мужской</td>\n",
       "      <td>12.08.1995</td>\n",
       "      <td>NaN</td>\n",
       "      <td>NaN</td>\n",
       "      <td>Таджикистан</td>\n",
       "      <td>РУДН</td>\n",
       "      <td>Врач-ординатор РУДН</td>\n",
       "      <td>Два и более высших образований</td>\n",
       "      <td>12</td>\n",
       "      <td>Не работаю</td>\n",
       "      <td>Не работаю</td>\n",
       "      <td>Полный аналог</td>\n",
       "      <td>NaN</td>\n",
       "      <td>NaN</td>\n",
       "    </tr>\n",
       "    <tr>\n",
       "      <th>75237</th>\n",
       "      <td>9663315939</td>\n",
       "      <td>Мужской</td>\n",
       "      <td>11.01.1982</td>\n",
       "      <td>NaN</td>\n",
       "      <td>NaN</td>\n",
       "      <td>Казахстан</td>\n",
       "      <td>Группа инженерных компаний Интерконд</td>\n",
       "      <td>Управляющий партнер</td>\n",
       "      <td>Высшее, специалитет, магистратура</td>\n",
       "      <td>5</td>\n",
       "      <td>Генеральный директор, управляющий директор мал...</td>\n",
       "      <td>Коммерческие компании, государственные/муницип...</td>\n",
       "      <td>Полный аналог</td>\n",
       "      <td>NaN</td>\n",
       "      <td>NaN</td>\n",
       "    </tr>\n",
       "    <tr>\n",
       "      <th>75238</th>\n",
       "      <td>8793782941</td>\n",
       "      <td>Мужской</td>\n",
       "      <td>10.06.1989</td>\n",
       "      <td>Приволжский ФО</td>\n",
       "      <td>Мордовия</td>\n",
       "      <td>Россия</td>\n",
       "      <td>ИП Адушкин С.А.</td>\n",
       "      <td>Заместитель руководителя</td>\n",
       "      <td>Высшее, специалитет, магистратура</td>\n",
       "      <td>1</td>\n",
       "      <td>Заместитель руководителя малого предприятия/ор...</td>\n",
       "      <td>Коммерческие компании, государственные/муницип...</td>\n",
       "      <td>Очень близкий аналог</td>\n",
       "      <td>NaN</td>\n",
       "      <td>NaN</td>\n",
       "    </tr>\n",
       "  </tbody>\n",
       "</table>\n",
       "<p>75239 rows × 15 columns</p>\n",
       "</div>"
      ],
      "text/plain": [
       "            Номер      Пол Дата рождения   Федеральный округ           Регион  \\\n",
       "0      9886272994  Мужской    28.05.1980      Центральный ФО       Московская   \n",
       "1      8010695393  Мужской    09.10.1977      Центральный ФО        Орловская   \n",
       "2      4851605917  Мужской    08.12.1991        Уральский ФО     Свердловская   \n",
       "3      4093896163  Мужской    18.07.1973  Северо-Западный ФО  Санкт-Петербург   \n",
       "4      7512508692  Мужской    19.01.1980      Центральный ФО           Москва   \n",
       "...           ...      ...           ...                 ...              ...   \n",
       "75234  5143980152  Мужской    03.09.1967                 NaN              NaN   \n",
       "75235  7339537870  Мужской    17.03.1995      Центральный ФО     Белгородская   \n",
       "75236  3799741744  Мужской    12.08.1995                 NaN              NaN   \n",
       "75237  9663315939  Мужской    11.01.1982                 NaN              NaN   \n",
       "75238  8793782941  Мужской    10.06.1989      Приволжский ФО         Мордовия   \n",
       "\n",
       "      Страна проживания                                       Место работы  \\\n",
       "0                Россия                               ООО \"РЖД-Технологии\"   \n",
       "1                Россия                                        ПАО МегаФон   \n",
       "2                Россия                              ООО \"Генная Хирургия\"   \n",
       "3                Россия  ООО \"Спецстроймонтаж\"; ООО \"СЕРВИС ТИМ\"; ООО \"...   \n",
       "4                Россия                                    ПАО «Вымпелком»   \n",
       "...                 ...                                                ...   \n",
       "75234           Эстония                                      ООО Стивтранс   \n",
       "75235            Россия                                                NaN   \n",
       "75236       Таджикистан                                               РУДН   \n",
       "75237         Казахстан               Группа инженерных компаний Интерконд   \n",
       "75238            Россия                                    ИП Адушкин С.А.   \n",
       "\n",
       "                          Наименование текущей должности  \\\n",
       "0                                  Директор по стратегии   \n",
       "1                                              начальник   \n",
       "2                                Исполнительный директор   \n",
       "3      Исполнительный директор; Генеральный директор;...   \n",
       "4      Директор по стратегии и долгосрочному планиров...   \n",
       "...                                                  ...   \n",
       "75234                                     Член правления   \n",
       "75235                                                NaN   \n",
       "75236                                Врач-ординатор РУДН   \n",
       "75237                                Управляющий партнер   \n",
       "75238                           Заместитель руководителя   \n",
       "\n",
       "                     Уровень образования  \\\n",
       "0                          Кандидат наук   \n",
       "1         Два и более высших образований   \n",
       "2         Два и более высших образований   \n",
       "3         Два и более высших образований   \n",
       "4      Высшее, специалитет, магистратура   \n",
       "...                                  ...   \n",
       "75234     Два и более высших образований   \n",
       "75235     Два и более высших образований   \n",
       "75236     Два и более высших образований   \n",
       "75237  Высшее, специалитет, магистратура   \n",
       "75238  Высшее, специалитет, магистратура   \n",
       "\n",
       "       Карьерная ступень по Классификатору ФОИР  \\\n",
       "0                                             1   \n",
       "1                                             3   \n",
       "2                                             5   \n",
       "3                                             2   \n",
       "4                                             4   \n",
       "...                                         ...   \n",
       "75234                                         2   \n",
       "75235                                        12   \n",
       "75236                                        12   \n",
       "75237                                         5   \n",
       "75238                                         1   \n",
       "\n",
       "                Наименование выбранной типовой должности  \\\n",
       "0      Руководитель подразделения/группы/команды на м...   \n",
       "1        Руководитель проекта в крупной/средней компании   \n",
       "2      Генеральный директор, управляющий директор мал...   \n",
       "3                            Директор малого предприятия   \n",
       "4      Руководитель управления корпоративной функции ...   \n",
       "...                                                  ...   \n",
       "75234                        Директор малого предприятия   \n",
       "75235                                         Не работаю   \n",
       "75236                                         Не работаю   \n",
       "75237  Генеральный директор, управляющий директор мал...   \n",
       "75238  Заместитель руководителя малого предприятия/ор...   \n",
       "\n",
       "               Сфера деятельности по Классификатору ФОИР  \\\n",
       "0      Коммерческие компании, государственные/муницип...   \n",
       "1      Коммерческие компании, государственные/муницип...   \n",
       "2      Коммерческие компании, государственные/муницип...   \n",
       "3      Коммерческие компании, государственные/муницип...   \n",
       "4      Коммерческие компании, государственные/муницип...   \n",
       "...                                                  ...   \n",
       "75234  Коммерческие компании, государственные/муницип...   \n",
       "75235                                         Не работаю   \n",
       "75236                                         Не работаю   \n",
       "75237  Коммерческие компании, государственные/муницип...   \n",
       "75238  Коммерческие компании, государственные/муницип...   \n",
       "\n",
       "      Соответствует ли выбранная типовая текущей должности  \\\n",
       "0        Можно считать аналогом с очень большой натяжкой     \n",
       "1                                   Очень близкий аналог     \n",
       "2                                          Полный аналог     \n",
       "3                                          Полный аналог     \n",
       "4                                   Очень близкий аналог     \n",
       "...                                                  ...     \n",
       "75234                               Очень близкий аналог     \n",
       "75235                                         Не работаю     \n",
       "75236                                      Полный аналог     \n",
       "75237                                      Полный аналог     \n",
       "75238                               Очень близкий аналог     \n",
       "\n",
       "       Ручная проверка карьерной ступени  Разница по итогам проверки  \n",
       "0                                    NaN                         NaN  \n",
       "1                                    NaN                         NaN  \n",
       "2                                    NaN                         NaN  \n",
       "3                                    NaN                         NaN  \n",
       "4                                    NaN                         NaN  \n",
       "...                                  ...                         ...  \n",
       "75234                                NaN                         NaN  \n",
       "75235                                NaN                         NaN  \n",
       "75236                                NaN                         NaN  \n",
       "75237                                NaN                         NaN  \n",
       "75238                                NaN                         NaN  \n",
       "\n",
       "[75239 rows x 15 columns]"
      ]
     },
     "execution_count": 158,
     "metadata": {},
     "output_type": "execute_result"
    }
   ],
   "source": [
    "data"
   ]
  },
  {
   "cell_type": "code",
   "execution_count": 159,
   "metadata": {},
   "outputs": [],
   "source": [
    "data['Дата рождения'] = pd.to_datetime(data['Дата рождения'], format=\"%d.%m.%Y\")\n",
    "data['age'] = pd.Timestamp('now').year - data['Дата рождения'].dt.year\n",
    "\n",
    "\n",
    "\n",
    "LE = LabelEncoder()\n",
    "# data['label'] = LE.fit_transform(data['Сфера деятельности по Классификатору ФОИР'])\n",
    "data['label'] = LE.fit_transform(data['Карьерная ступень по Классификатору ФОИР'])\n",
    "\n",
    "text_cols  = ['Место работы', 'Наименование текущей должности']\n",
    "cat_cols = ['age', 'Пол', 'Регион', 'Страна проживания', 'Уровень образования']\n",
    "data[text_cols] = data[text_cols].fillna('Пропущенное значение')"
   ]
  },
  {
   "cell_type": "code",
   "execution_count": 160,
   "metadata": {},
   "outputs": [],
   "source": [
    "df = data[data['Ручная проверка карьерной ступени'].notna()]\n",
    "df_train, df_val, y_train, y_val= train_test_split(df[cat_cols + text_cols], df['label'], random_state=42)"
   ]
  },
  {
   "cell_type": "code",
   "execution_count": 161,
   "metadata": {},
   "outputs": [],
   "source": [
    "df = data.copy()\n",
    "\n",
    "df_val = df[df['Ручная проверка карьерной ступени'].notna()][cat_cols + text_cols]\n",
    "y_val = df[df['Ручная проверка карьерной ступени'].notna()]['label']\n",
    "\n",
    "df_train = df[df['Ручная проверка карьерной ступени'].isna()][cat_cols + text_cols]\n",
    "y_train = df[df['Ручная проверка карьерной ступени'].isna()]['label']"
   ]
  },
  {
   "cell_type": "code",
   "execution_count": 162,
   "metadata": {},
   "outputs": [],
   "source": [
    "# df = df.fillna('NaN')"
   ]
  },
  {
   "cell_type": "code",
   "execution_count": 163,
   "metadata": {},
   "outputs": [
    {
     "data": {
      "text/plain": [
       "Номер                                                   75239\n",
       "Пол                                                         2\n",
       "Дата рождения                                           12930\n",
       "Федеральный округ                                           8\n",
       "Регион                                                     86\n",
       "Страна проживания                                         131\n",
       "Место работы                                            52557\n",
       "Наименование текущей должности                          33352\n",
       "Уровень образования                                        10\n",
       "Карьерная ступень по Классификатору ФОИР                   12\n",
       "Наименование выбранной типовой должности                  169\n",
       "Сфера деятельности по Классификатору ФОИР                   8\n",
       "Соответствует ли выбранная типовая текущей должности        5\n",
       "Ручная проверка карьерной ступени                          11\n",
       "Разница по итогам проверки                                 12\n",
       "age                                                        44\n",
       "label                                                      12\n",
       "dtype: int64"
      ]
     },
     "execution_count": 163,
     "metadata": {},
     "output_type": "execute_result"
    }
   ],
   "source": [
    "df.nunique()"
   ]
  },
  {
   "cell_type": "code",
   "execution_count": 164,
   "metadata": {},
   "outputs": [
    {
     "data": {
      "text/plain": [
       "52826"
      ]
     },
     "execution_count": 164,
     "metadata": {},
     "output_type": "execute_result"
    }
   ],
   "source": [
    "df['Наименование выбранной типовой должности'].value_counts()[:20].sum()"
   ]
  },
  {
   "cell_type": "markdown",
   "metadata": {},
   "source": [
    "Посмотрим распределение таргета"
   ]
  },
  {
   "cell_type": "code",
   "execution_count": 165,
   "metadata": {},
   "outputs": [
    {
     "data": {
      "text/plain": [
       "<Axes: >"
      ]
     },
     "execution_count": 165,
     "metadata": {},
     "output_type": "execute_result"
    },
    {
     "data": {
      "image/png": "[encoded data removed]",
      "text/plain": [
       "<Figure size 640x480 with 1 Axes>"
      ]
     },
     "metadata": {},
     "output_type": "display_data"
    }
   ],
   "source": [
    "df['label'].hist(bins=15)"
   ]
  },
  {
   "cell_type": "code",
   "execution_count": 166,
   "metadata": {},
   "outputs": [
    {
     "data": {
      "text/plain": [
       "0       NaN\n",
       "1       NaN\n",
       "2       NaN\n",
       "3       NaN\n",
       "4       NaN\n",
       "         ..\n",
       "75234   NaN\n",
       "75235   NaN\n",
       "75236   NaN\n",
       "75237   NaN\n",
       "75238   NaN\n",
       "Name: Ручная проверка карьерной ступени, Length: 75239, dtype: float64"
      ]
     },
     "execution_count": 166,
     "metadata": {},
     "output_type": "execute_result"
    }
   ],
   "source": [
    "df['Ручная проверка карьерной ступени']"
   ]
  },
  {
   "cell_type": "markdown",
   "metadata": {},
   "source": [
    "## Создадим категориальные фичи \n",
    "(Возраст, Пол, Регион, Страна проживания, Уровень образования, Соответствует ли выбранная типовая текущей должности)"
   ]
  },
  {
   "cell_type": "code",
   "execution_count": 167,
   "metadata": {},
   "outputs": [
    {
     "data": {
      "text/html": [
       "<style>#sk-container-id-6 {color: black;}#sk-container-id-6 pre{padding: 0;}#sk-container-id-6 div.sk-toggleable {background-color: white;}#sk-container-id-6 label.sk-toggleable__label {cursor: pointer;display: block;width: 100%;margin-bottom: 0;padding: 0.3em;box-sizing: border-box;text-align: center;}#sk-container-id-6 label.sk-toggleable__label-arrow:before {content: \"▸\";float: left;margin-right: 0.25em;color: #696969;}#sk-container-id-6 label.sk-toggleable__label-arrow:hover:before {color: black;}#sk-container-id-6 div.sk-estimator:hover label.sk-toggleable__label-arrow:before {color: black;}#sk-container-id-6 div.sk-toggleable__content {max-height: 0;max-width: 0;overflow: hidden;text-align: left;background-color: #f0f8ff;}#sk-container-id-6 div.sk-toggleable__content pre {margin: 0.2em;color: black;border-radius: 0.25em;background-color: #f0f8ff;}#sk-container-id-6 input.sk-toggleable__control:checked~div.sk-toggleable__content {max-height: 200px;max-width: 100%;overflow: auto;}#sk-container-id-6 input.sk-toggleable__control:checked~label.sk-toggleable__label-arrow:before {content: \"▾\";}#sk-container-id-6 div.sk-estimator input.sk-toggleable__control:checked~label.sk-toggleable__label {background-color: #d4ebff;}#sk-container-id-6 div.sk-label input.sk-toggleable__control:checked~label.sk-toggleable__label {background-color: #d4ebff;}#sk-container-id-6 input.sk-hidden--visually {border: 0;clip: rect(1px 1px 1px 1px);clip: rect(1px, 1px, 1px, 1px);height: 1px;margin: -1px;overflow: hidden;padding: 0;position: absolute;width: 1px;}#sk-container-id-6 div.sk-estimator {font-family: monospace;background-color: #f0f8ff;border: 1px dotted black;border-radius: 0.25em;box-sizing: border-box;margin-bottom: 0.5em;}#sk-container-id-6 div.sk-estimator:hover {background-color: #d4ebff;}#sk-container-id-6 div.sk-parallel-item::after {content: \"\";width: 100%;border-bottom: 1px solid gray;flex-grow: 1;}#sk-container-id-6 div.sk-label:hover label.sk-toggleable__label {background-color: #d4ebff;}#sk-container-id-6 div.sk-serial::before {content: \"\";position: absolute;border-left: 1px solid gray;box-sizing: border-box;top: 0;bottom: 0;left: 50%;z-index: 0;}#sk-container-id-6 div.sk-serial {display: flex;flex-direction: column;align-items: center;background-color: white;padding-right: 0.2em;padding-left: 0.2em;position: relative;}#sk-container-id-6 div.sk-item {position: relative;z-index: 1;}#sk-container-id-6 div.sk-parallel {display: flex;align-items: stretch;justify-content: center;background-color: white;position: relative;}#sk-container-id-6 div.sk-item::before, #sk-container-id-6 div.sk-parallel-item::before {content: \"\";position: absolute;border-left: 1px solid gray;box-sizing: border-box;top: 0;bottom: 0;left: 50%;z-index: -1;}#sk-container-id-6 div.sk-parallel-item {display: flex;flex-direction: column;z-index: 1;position: relative;background-color: white;}#sk-container-id-6 div.sk-parallel-item:first-child::after {align-self: flex-end;width: 50%;}#sk-container-id-6 div.sk-parallel-item:last-child::after {align-self: flex-start;width: 50%;}#sk-container-id-6 div.sk-parallel-item:only-child::after {width: 0;}#sk-container-id-6 div.sk-dashed-wrapped {border: 1px dashed gray;margin: 0 0.4em 0.5em 0.4em;box-sizing: border-box;padding-bottom: 0.4em;background-color: white;}#sk-container-id-6 div.sk-label label {font-family: monospace;font-weight: bold;display: inline-block;line-height: 1.2em;}#sk-container-id-6 div.sk-label-container {text-align: center;}#sk-container-id-6 div.sk-container {/* jupyter's `normalize.less` sets `[hidden] { display: none; }` but bootstrap.min.css set `[hidden] { display: none !important; }` so we also need the `!important` here to be able to override the default hidden behavior on the sphinx rendered scikit-learn.org. See: https://github.com/scikit-learn/scikit-learn/issues/21755 */display: inline-block !important;position: relative;}#sk-container-id-6 div.sk-text-repr-fallback {display: none;}</style><div id=\"sk-container-id-6\" class=\"sk-top-container\"><div class=\"sk-text-repr-fallback\"><pre>ColumnTransformer(remainder=&#x27;passthrough&#x27;,\n",
       "                  transformers=[(&#x27;encoder&#x27;,\n",
       "                                 OrdinalEncoder(encoded_missing_value=-1),\n",
       "                                 [&#x27;age&#x27;, &#x27;Пол&#x27;, &#x27;Регион&#x27;, &#x27;Страна проживания&#x27;,\n",
       "                                  &#x27;Уровень образования&#x27;])])</pre><b>In a Jupyter environment, please rerun this cell to show the HTML representation or trust the notebook. <br />On GitHub, the HTML representation is unable to render, please try loading this page with nbviewer.org.</b></div><div class=\"sk-container\" hidden><div class=\"sk-item sk-dashed-wrapped\"><div class=\"sk-label-container\"><div class=\"sk-label sk-toggleable\"><input class=\"sk-toggleable__control sk-hidden--visually\" id=\"sk-estimator-id-19\" type=\"checkbox\" ><label for=\"sk-estimator-id-19\" class=\"sk-toggleable__label sk-toggleable__label-arrow\">ColumnTransformer</label><div class=\"sk-toggleable__content\"><pre>ColumnTransformer(remainder=&#x27;passthrough&#x27;,\n",
       "                  transformers=[(&#x27;encoder&#x27;,\n",
       "                                 OrdinalEncoder(encoded_missing_value=-1),\n",
       "                                 [&#x27;age&#x27;, &#x27;Пол&#x27;, &#x27;Регион&#x27;, &#x27;Страна проживания&#x27;,\n",
       "                                  &#x27;Уровень образования&#x27;])])</pre></div></div></div><div class=\"sk-parallel\"><div class=\"sk-parallel-item\"><div class=\"sk-item\"><div class=\"sk-label-container\"><div class=\"sk-label sk-toggleable\"><input class=\"sk-toggleable__control sk-hidden--visually\" id=\"sk-estimator-id-20\" type=\"checkbox\" ><label for=\"sk-estimator-id-20\" class=\"sk-toggleable__label sk-toggleable__label-arrow\">encoder</label><div class=\"sk-toggleable__content\"><pre>[&#x27;age&#x27;, &#x27;Пол&#x27;, &#x27;Регион&#x27;, &#x27;Страна проживания&#x27;, &#x27;Уровень образования&#x27;]</pre></div></div></div><div class=\"sk-serial\"><div class=\"sk-item\"><div class=\"sk-estimator sk-toggleable\"><input class=\"sk-toggleable__control sk-hidden--visually\" id=\"sk-estimator-id-21\" type=\"checkbox\" ><label for=\"sk-estimator-id-21\" class=\"sk-toggleable__label sk-toggleable__label-arrow\">OrdinalEncoder</label><div class=\"sk-toggleable__content\"><pre>OrdinalEncoder(encoded_missing_value=-1)</pre></div></div></div></div></div></div><div class=\"sk-parallel-item\"><div class=\"sk-item\"><div class=\"sk-label-container\"><div class=\"sk-label sk-toggleable\"><input class=\"sk-toggleable__control sk-hidden--visually\" id=\"sk-estimator-id-22\" type=\"checkbox\" ><label for=\"sk-estimator-id-22\" class=\"sk-toggleable__label sk-toggleable__label-arrow\">remainder</label><div class=\"sk-toggleable__content\"><pre></pre></div></div></div><div class=\"sk-serial\"><div class=\"sk-item\"><div class=\"sk-estimator sk-toggleable\"><input class=\"sk-toggleable__control sk-hidden--visually\" id=\"sk-estimator-id-23\" type=\"checkbox\" ><label for=\"sk-estimator-id-23\" class=\"sk-toggleable__label sk-toggleable__label-arrow\">passthrough</label><div class=\"sk-toggleable__content\"><pre>passthrough</pre></div></div></div></div></div></div></div></div></div></div>"
      ],
      "text/plain": [
       "ColumnTransformer(remainder='passthrough',\n",
       "                  transformers=[('encoder',\n",
       "                                 OrdinalEncoder(encoded_missing_value=-1),\n",
       "                                 ['age', 'Пол', 'Регион', 'Страна проживания',\n",
       "                                  'Уровень образования'])])"
      ]
     },
     "execution_count": 167,
     "metadata": {},
     "output_type": "execute_result"
    }
   ],
   "source": [
    "cat_transformer = ColumnTransformer([('encoder', OrdinalEncoder(encoded_missing_value=-1), cat_cols)], remainder='passthrough', verbose_feature_names_out=True)\n",
    "cat_transformer.set_output(transform='pandas')"
   ]
  },
  {
   "cell_type": "code",
   "execution_count": 168,
   "metadata": {},
   "outputs": [
    {
     "data": {
      "text/html": [
       "<div>\n",
       "<style scoped>\n",
       "    .dataframe tbody tr th:only-of-type {\n",
       "        vertical-align: middle;\n",
       "    }\n",
       "\n",
       "    .dataframe tbody tr th {\n",
       "        vertical-align: top;\n",
       "    }\n",
       "\n",
       "    .dataframe thead th {\n",
       "        text-align: right;\n",
       "    }\n",
       "</style>\n",
       "<table border=\"1\" class=\"dataframe\">\n",
       "  <thead>\n",
       "    <tr style=\"text-align: right;\">\n",
       "      <th></th>\n",
       "      <th>encoder__age</th>\n",
       "      <th>encoder__Пол</th>\n",
       "      <th>encoder__Регион</th>\n",
       "      <th>encoder__Страна проживания</th>\n",
       "      <th>encoder__Уровень образования</th>\n",
       "      <th>remainder__Номер</th>\n",
       "      <th>remainder__Дата рождения</th>\n",
       "      <th>remainder__Федеральный округ</th>\n",
       "      <th>remainder__Место работы</th>\n",
       "      <th>remainder__Наименование текущей должности</th>\n",
       "      <th>remainder__Карьерная ступень по Классификатору ФОИР</th>\n",
       "      <th>remainder__Наименование выбранной типовой должности</th>\n",
       "      <th>remainder__Сфера деятельности по Классификатору ФОИР</th>\n",
       "      <th>remainder__Соответствует ли выбранная типовая текущей должности</th>\n",
       "      <th>remainder__Ручная проверка карьерной ступени</th>\n",
       "      <th>remainder__Разница по итогам проверки</th>\n",
       "      <th>remainder__label</th>\n",
       "    </tr>\n",
       "  </thead>\n",
       "  <tbody>\n",
       "    <tr>\n",
       "      <th>0</th>\n",
       "      <td>23.0</td>\n",
       "      <td>1.0</td>\n",
       "      <td>43.0</td>\n",
       "      <td>91.0</td>\n",
       "      <td>5.0</td>\n",
       "      <td>9886272994</td>\n",
       "      <td>1980-05-28</td>\n",
       "      <td>Центральный ФО</td>\n",
       "      <td>ООО \"РЖД-Технологии\"</td>\n",
       "      <td>Директор по стратегии</td>\n",
       "      <td>1</td>\n",
       "      <td>Руководитель подразделения/группы/команды на м...</td>\n",
       "      <td>Коммерческие компании, государственные/муницип...</td>\n",
       "      <td>Можно считать аналогом с очень большой натяжкой</td>\n",
       "      <td>NaN</td>\n",
       "      <td>NaN</td>\n",
       "      <td>0</td>\n",
       "    </tr>\n",
       "    <tr>\n",
       "      <th>1</th>\n",
       "      <td>26.0</td>\n",
       "      <td>1.0</td>\n",
       "      <td>51.0</td>\n",
       "      <td>91.0</td>\n",
       "      <td>3.0</td>\n",
       "      <td>8010695393</td>\n",
       "      <td>1977-10-09</td>\n",
       "      <td>Центральный ФО</td>\n",
       "      <td>ПАО МегаФон</td>\n",
       "      <td>начальник</td>\n",
       "      <td>3</td>\n",
       "      <td>Руководитель проекта в крупной/средней компании</td>\n",
       "      <td>Коммерческие компании, государственные/муницип...</td>\n",
       "      <td>Очень близкий аналог</td>\n",
       "      <td>NaN</td>\n",
       "      <td>NaN</td>\n",
       "      <td>2</td>\n",
       "    </tr>\n",
       "    <tr>\n",
       "      <th>2</th>\n",
       "      <td>12.0</td>\n",
       "      <td>1.0</td>\n",
       "      <td>63.0</td>\n",
       "      <td>91.0</td>\n",
       "      <td>3.0</td>\n",
       "      <td>4851605917</td>\n",
       "      <td>1991-12-08</td>\n",
       "      <td>Уральский ФО</td>\n",
       "      <td>ООО \"Генная Хирургия\"</td>\n",
       "      <td>Исполнительный директор</td>\n",
       "      <td>5</td>\n",
       "      <td>Генеральный директор, управляющий директор мал...</td>\n",
       "      <td>Коммерческие компании, государственные/муницип...</td>\n",
       "      <td>Полный аналог</td>\n",
       "      <td>NaN</td>\n",
       "      <td>NaN</td>\n",
       "      <td>4</td>\n",
       "    </tr>\n",
       "    <tr>\n",
       "      <th>3</th>\n",
       "      <td>30.0</td>\n",
       "      <td>1.0</td>\n",
       "      <td>59.0</td>\n",
       "      <td>91.0</td>\n",
       "      <td>3.0</td>\n",
       "      <td>4093896163</td>\n",
       "      <td>1973-07-18</td>\n",
       "      <td>Северо-Западный ФО</td>\n",
       "      <td>ООО \"Спецстроймонтаж\"; ООО \"СЕРВИС ТИМ\"; ООО \"...</td>\n",
       "      <td>Исполнительный директор; Генеральный директор;...</td>\n",
       "      <td>2</td>\n",
       "      <td>Директор малого предприятия</td>\n",
       "      <td>Коммерческие компании, государственные/муницип...</td>\n",
       "      <td>Полный аналог</td>\n",
       "      <td>NaN</td>\n",
       "      <td>NaN</td>\n",
       "      <td>1</td>\n",
       "    </tr>\n",
       "    <tr>\n",
       "      <th>4</th>\n",
       "      <td>23.0</td>\n",
       "      <td>1.0</td>\n",
       "      <td>42.0</td>\n",
       "      <td>91.0</td>\n",
       "      <td>2.0</td>\n",
       "      <td>7512508692</td>\n",
       "      <td>1980-01-19</td>\n",
       "      <td>Центральный ФО</td>\n",
       "      <td>ПАО «Вымпелком»</td>\n",
       "      <td>Директор по стратегии и долгосрочному планиров...</td>\n",
       "      <td>4</td>\n",
       "      <td>Руководитель управления корпоративной функции ...</td>\n",
       "      <td>Коммерческие компании, государственные/муницип...</td>\n",
       "      <td>Очень близкий аналог</td>\n",
       "      <td>NaN</td>\n",
       "      <td>NaN</td>\n",
       "      <td>3</td>\n",
       "    </tr>\n",
       "    <tr>\n",
       "      <th>...</th>\n",
       "      <td>...</td>\n",
       "      <td>...</td>\n",
       "      <td>...</td>\n",
       "      <td>...</td>\n",
       "      <td>...</td>\n",
       "      <td>...</td>\n",
       "      <td>...</td>\n",
       "      <td>...</td>\n",
       "      <td>...</td>\n",
       "      <td>...</td>\n",
       "      <td>...</td>\n",
       "      <td>...</td>\n",
       "      <td>...</td>\n",
       "      <td>...</td>\n",
       "      <td>...</td>\n",
       "      <td>...</td>\n",
       "      <td>...</td>\n",
       "    </tr>\n",
       "    <tr>\n",
       "      <th>75234</th>\n",
       "      <td>36.0</td>\n",
       "      <td>1.0</td>\n",
       "      <td>-1.0</td>\n",
       "      <td>126.0</td>\n",
       "      <td>3.0</td>\n",
       "      <td>5143980152</td>\n",
       "      <td>1967-09-03</td>\n",
       "      <td>NaN</td>\n",
       "      <td>ООО Стивтранс</td>\n",
       "      <td>Член правления</td>\n",
       "      <td>2</td>\n",
       "      <td>Директор малого предприятия</td>\n",
       "      <td>Коммерческие компании, государственные/муницип...</td>\n",
       "      <td>Очень близкий аналог</td>\n",
       "      <td>NaN</td>\n",
       "      <td>NaN</td>\n",
       "      <td>1</td>\n",
       "    </tr>\n",
       "    <tr>\n",
       "      <th>75235</th>\n",
       "      <td>8.0</td>\n",
       "      <td>1.0</td>\n",
       "      <td>8.0</td>\n",
       "      <td>91.0</td>\n",
       "      <td>3.0</td>\n",
       "      <td>7339537870</td>\n",
       "      <td>1995-03-17</td>\n",
       "      <td>Центральный ФО</td>\n",
       "      <td>Пропущенное значение</td>\n",
       "      <td>Пропущенное значение</td>\n",
       "      <td>12</td>\n",
       "      <td>Не работаю</td>\n",
       "      <td>Не работаю</td>\n",
       "      <td>Не работаю</td>\n",
       "      <td>NaN</td>\n",
       "      <td>NaN</td>\n",
       "      <td>11</td>\n",
       "    </tr>\n",
       "    <tr>\n",
       "      <th>75236</th>\n",
       "      <td>8.0</td>\n",
       "      <td>1.0</td>\n",
       "      <td>-1.0</td>\n",
       "      <td>104.0</td>\n",
       "      <td>3.0</td>\n",
       "      <td>3799741744</td>\n",
       "      <td>1995-08-12</td>\n",
       "      <td>NaN</td>\n",
       "      <td>РУДН</td>\n",
       "      <td>Врач-ординатор РУДН</td>\n",
       "      <td>12</td>\n",
       "      <td>Не работаю</td>\n",
       "      <td>Не работаю</td>\n",
       "      <td>Полный аналог</td>\n",
       "      <td>NaN</td>\n",
       "      <td>NaN</td>\n",
       "      <td>11</td>\n",
       "    </tr>\n",
       "    <tr>\n",
       "      <th>75237</th>\n",
       "      <td>21.0</td>\n",
       "      <td>1.0</td>\n",
       "      <td>-1.0</td>\n",
       "      <td>51.0</td>\n",
       "      <td>2.0</td>\n",
       "      <td>9663315939</td>\n",
       "      <td>1982-01-11</td>\n",
       "      <td>NaN</td>\n",
       "      <td>Группа инженерных компаний Интерконд</td>\n",
       "      <td>Управляющий партнер</td>\n",
       "      <td>5</td>\n",
       "      <td>Генеральный директор, управляющий директор мал...</td>\n",
       "      <td>Коммерческие компании, государственные/муницип...</td>\n",
       "      <td>Полный аналог</td>\n",
       "      <td>NaN</td>\n",
       "      <td>NaN</td>\n",
       "      <td>4</td>\n",
       "    </tr>\n",
       "    <tr>\n",
       "      <th>75238</th>\n",
       "      <td>14.0</td>\n",
       "      <td>1.0</td>\n",
       "      <td>41.0</td>\n",
       "      <td>91.0</td>\n",
       "      <td>2.0</td>\n",
       "      <td>8793782941</td>\n",
       "      <td>1989-06-10</td>\n",
       "      <td>Приволжский ФО</td>\n",
       "      <td>ИП Адушкин С.А.</td>\n",
       "      <td>Заместитель руководителя</td>\n",
       "      <td>1</td>\n",
       "      <td>Заместитель руководителя малого предприятия/ор...</td>\n",
       "      <td>Коммерческие компании, государственные/муницип...</td>\n",
       "      <td>Очень близкий аналог</td>\n",
       "      <td>NaN</td>\n",
       "      <td>NaN</td>\n",
       "      <td>0</td>\n",
       "    </tr>\n",
       "  </tbody>\n",
       "</table>\n",
       "<p>75239 rows × 17 columns</p>\n",
       "</div>"
      ],
      "text/plain": [
       "       encoder__age  encoder__Пол  encoder__Регион  \\\n",
       "0              23.0           1.0             43.0   \n",
       "1              26.0           1.0             51.0   \n",
       "2              12.0           1.0             63.0   \n",
       "3              30.0           1.0             59.0   \n",
       "4              23.0           1.0             42.0   \n",
       "...             ...           ...              ...   \n",
       "75234          36.0           1.0             -1.0   \n",
       "75235           8.0           1.0              8.0   \n",
       "75236           8.0           1.0             -1.0   \n",
       "75237          21.0           1.0             -1.0   \n",
       "75238          14.0           1.0             41.0   \n",
       "\n",
       "       encoder__Страна проживания  encoder__Уровень образования  \\\n",
       "0                            91.0                           5.0   \n",
       "1                            91.0                           3.0   \n",
       "2                            91.0                           3.0   \n",
       "3                            91.0                           3.0   \n",
       "4                            91.0                           2.0   \n",
       "...                           ...                           ...   \n",
       "75234                       126.0                           3.0   \n",
       "75235                        91.0                           3.0   \n",
       "75236                       104.0                           3.0   \n",
       "75237                        51.0                           2.0   \n",
       "75238                        91.0                           2.0   \n",
       "\n",
       "       remainder__Номер remainder__Дата рождения remainder__Федеральный округ  \\\n",
       "0            9886272994               1980-05-28               Центральный ФО   \n",
       "1            8010695393               1977-10-09               Центральный ФО   \n",
       "2            4851605917               1991-12-08                 Уральский ФО   \n",
       "3            4093896163               1973-07-18           Северо-Западный ФО   \n",
       "4            7512508692               1980-01-19               Центральный ФО   \n",
       "...                 ...                      ...                          ...   \n",
       "75234        5143980152               1967-09-03                          NaN   \n",
       "75235        7339537870               1995-03-17               Центральный ФО   \n",
       "75236        3799741744               1995-08-12                          NaN   \n",
       "75237        9663315939               1982-01-11                          NaN   \n",
       "75238        8793782941               1989-06-10               Приволжский ФО   \n",
       "\n",
       "                                 remainder__Место работы  \\\n",
       "0                                   ООО \"РЖД-Технологии\"   \n",
       "1                                            ПАО МегаФон   \n",
       "2                                  ООО \"Генная Хирургия\"   \n",
       "3      ООО \"Спецстроймонтаж\"; ООО \"СЕРВИС ТИМ\"; ООО \"...   \n",
       "4                                        ПАО «Вымпелком»   \n",
       "...                                                  ...   \n",
       "75234                                      ООО Стивтранс   \n",
       "75235                               Пропущенное значение   \n",
       "75236                                               РУДН   \n",
       "75237               Группа инженерных компаний Интерконд   \n",
       "75238                                    ИП Адушкин С.А.   \n",
       "\n",
       "               remainder__Наименование текущей должности  \\\n",
       "0                                  Директор по стратегии   \n",
       "1                                              начальник   \n",
       "2                                Исполнительный директор   \n",
       "3      Исполнительный директор; Генеральный директор;...   \n",
       "4      Директор по стратегии и долгосрочному планиров...   \n",
       "...                                                  ...   \n",
       "75234                                     Член правления   \n",
       "75235                               Пропущенное значение   \n",
       "75236                                Врач-ординатор РУДН   \n",
       "75237                                Управляющий партнер   \n",
       "75238                           Заместитель руководителя   \n",
       "\n",
       "       remainder__Карьерная ступень по Классификатору ФОИР  \\\n",
       "0                                                      1     \n",
       "1                                                      3     \n",
       "2                                                      5     \n",
       "3                                                      2     \n",
       "4                                                      4     \n",
       "...                                                  ...     \n",
       "75234                                                  2     \n",
       "75235                                                 12     \n",
       "75236                                                 12     \n",
       "75237                                                  5     \n",
       "75238                                                  1     \n",
       "\n",
       "      remainder__Наименование выбранной типовой должности  \\\n",
       "0      Руководитель подразделения/группы/команды на м...    \n",
       "1        Руководитель проекта в крупной/средней компании    \n",
       "2      Генеральный директор, управляющий директор мал...    \n",
       "3                            Директор малого предприятия    \n",
       "4      Руководитель управления корпоративной функции ...    \n",
       "...                                                  ...    \n",
       "75234                        Директор малого предприятия    \n",
       "75235                                         Не работаю    \n",
       "75236                                         Не работаю    \n",
       "75237  Генеральный директор, управляющий директор мал...    \n",
       "75238  Заместитель руководителя малого предприятия/ор...    \n",
       "\n",
       "      remainder__Сфера деятельности по Классификатору ФОИР  \\\n",
       "0      Коммерческие компании, государственные/муницип...     \n",
       "1      Коммерческие компании, государственные/муницип...     \n",
       "2      Коммерческие компании, государственные/муницип...     \n",
       "3      Коммерческие компании, государственные/муницип...     \n",
       "4      Коммерческие компании, государственные/муницип...     \n",
       "...                                                  ...     \n",
       "75234  Коммерческие компании, государственные/муницип...     \n",
       "75235                                         Не работаю     \n",
       "75236                                         Не работаю     \n",
       "75237  Коммерческие компании, государственные/муницип...     \n",
       "75238  Коммерческие компании, государственные/муницип...     \n",
       "\n",
       "      remainder__Соответствует ли выбранная типовая текущей должности  \\\n",
       "0        Можно считать аналогом с очень большой натяжкой                \n",
       "1                                   Очень близкий аналог                \n",
       "2                                          Полный аналог                \n",
       "3                                          Полный аналог                \n",
       "4                                   Очень близкий аналог                \n",
       "...                                                  ...                \n",
       "75234                               Очень близкий аналог                \n",
       "75235                                         Не работаю                \n",
       "75236                                      Полный аналог                \n",
       "75237                                      Полный аналог                \n",
       "75238                               Очень близкий аналог                \n",
       "\n",
       "       remainder__Ручная проверка карьерной ступени  \\\n",
       "0                                               NaN   \n",
       "1                                               NaN   \n",
       "2                                               NaN   \n",
       "3                                               NaN   \n",
       "4                                               NaN   \n",
       "...                                             ...   \n",
       "75234                                           NaN   \n",
       "75235                                           NaN   \n",
       "75236                                           NaN   \n",
       "75237                                           NaN   \n",
       "75238                                           NaN   \n",
       "\n",
       "       remainder__Разница по итогам проверки  remainder__label  \n",
       "0                                        NaN                 0  \n",
       "1                                        NaN                 2  \n",
       "2                                        NaN                 4  \n",
       "3                                        NaN                 1  \n",
       "4                                        NaN                 3  \n",
       "...                                      ...               ...  \n",
       "75234                                    NaN                 1  \n",
       "75235                                    NaN                11  \n",
       "75236                                    NaN                11  \n",
       "75237                                    NaN                 4  \n",
       "75238                                    NaN                 0  \n",
       "\n",
       "[75239 rows x 17 columns]"
      ]
     },
     "execution_count": 168,
     "metadata": {},
     "output_type": "execute_result"
    }
   ],
   "source": [
    "cat_transformer.fit_transform(df)"
   ]
  },
  {
   "cell_type": "markdown",
   "metadata": {},
   "source": [
    "## Для текстовых полей низкой уникальности создадим фичи на основе эмбедингов\n",
    "(Место работы, Наименование текущей должности, Наименование выбранной типовой должности, )"
   ]
  },
  {
   "cell_type": "code",
   "execution_count": 169,
   "metadata": {},
   "outputs": [],
   "source": [
    "device = torch.device('cuda' if torch.cuda.is_available() else 'cpu')\n",
    "\n",
    "tokenizer = AutoTokenizer.from_pretrained(\"ai-forever/ruBert-base\")\n",
    "model = AutoModel.from_pretrained(\"ai-forever/ruBert-base\").to(device)"
   ]
  },
  {
   "cell_type": "code",
   "execution_count": null,
   "metadata": {},
   "outputs": [],
   "source": []
  },
  {
   "cell_type": "code",
   "execution_count": 170,
   "metadata": {},
   "outputs": [
    {
     "data": {
      "text/plain": [
       "((74948, 7), (74948,), (291, 7), (291,))"
      ]
     },
     "execution_count": 170,
     "metadata": {},
     "output_type": "execute_result"
    }
   ],
   "source": [
    "df_train.shape, y_train.shape, df_val.shape, y_val.shape"
   ]
  },
  {
   "cell_type": "code",
   "execution_count": 171,
   "metadata": {},
   "outputs": [],
   "source": [
    "from sklearn.base import BaseEstimator, TransformerMixin\n",
    "\n",
    "\n",
    "class BERTEmbExtractor(BaseEstimator, TransformerMixin):\n",
    "    def __init__(self, tokenizer=None, model=None, columns=None, batch_size=128):\n",
    "        if tokenizer:\n",
    "            self.tokenizer = tokenizer\n",
    "        else:\n",
    "            self.tokenizer = AutoTokenizer.from_pretrained(\"ai-forever/ruBert-base\")\n",
    "            \n",
    "        if model:\n",
    "            self.model = model\n",
    "        else:\n",
    "            device = torch.device('cuda' if torch.cuda.is_available() else 'cpu')\n",
    "            self.model = AutoModel.from_pretrained(\"ai-forever/ruBert-base\").to(device)\n",
    "            \n",
    "        self.columns = columns\n",
    "        self.batch_size = batch_size\n",
    "        \n",
    "    def bert_extract(self, X, col):\n",
    "        out_emb = []\n",
    "        total_samples = len(X)\n",
    "\n",
    "        for start in tqdm(range(0, total_samples, self.batch_size)):\n",
    "            end = min(start + self.batch_size, total_samples)\n",
    "            \n",
    "            batch_X = X[col].values[start:end]  # Extract a batch of data\n",
    "            tokenized = tokenizer(batch_X.tolist(), padding = True, truncation = True, return_tensors=\"pt\")\n",
    "            column_tokens = {k: torch.tensor(v).to(device) for k, v in tokenized.items()}\n",
    "\n",
    "            hidden_state = model(**column_tokens) #dim : [batch_size(nr_sentences), tokens, emb_dim]\n",
    "            emb = hidden_state.last_hidden_state[:,0,:].to(\"cpu\")\n",
    "            del hidden_state\n",
    "            \n",
    "            df_emb = pd.DataFrame(emb, columns=[f'{col}_{i}' for i in range(emb.shape[1])])\n",
    "            out_emb.append(df_emb)\n",
    "            \n",
    "        return pd.concat(out_emb)\n",
    "    \n",
    "    def fit(self, X, y=None):\n",
    "        if not self.columns:\n",
    "            self.columns = X.columns\n",
    "        \n",
    "        self.column_df_emb = {}\n",
    "        self.column_pca = {}\n",
    "        with torch.no_grad():\n",
    "            for col in self.columns:\n",
    "                df_emb = self.bert_extract(X, col)\n",
    "                \n",
    "                pca = PCA(0.99)\n",
    "                pca.set_output(transform='pandas')\n",
    "                \n",
    "                df_emb = pca.fit_transform(df_emb)\n",
    "\n",
    "                self.column_pca[col] = pca\n",
    "            \n",
    "        return self\n",
    "\n",
    "    def transform(self, X, y=None):\n",
    "        out = []\n",
    "        with torch.no_grad():\n",
    "            for col in self.columns:\n",
    "                df_emb = self.bert_extract(X, col)\n",
    "                df_emb = self.column_pca[col].transform(df_emb)\n",
    "                df_emb.columns = [f'{col}_{pca_col}' for pca_col in df_emb.columns]\n",
    "                out.append(df_emb)\n",
    "        \n",
    "        return pd.concat(out, axis=1)"
   ]
  },
  {
   "cell_type": "code",
   "execution_count": 172,
   "metadata": {},
   "outputs": [],
   "source": [
    "be = BERTEmbExtractor()"
   ]
  },
  {
   "cell_type": "code",
   "execution_count": 173,
   "metadata": {},
   "outputs": [
    {
     "name": "stderr",
     "output_type": "stream",
     "text": [
      "  0%|          | 0/586 [00:00<?, ?it/s]Asking to truncate to max_length but no maximum length is provided and the model has no predefined maximum length. Default to no truncation.\n",
      "/tmp/ipykernel_45921/2898017953.py:29: UserWarning: To copy construct from a tensor, it is recommended to use sourceTensor.clone().detach() or sourceTensor.clone().detach().requires_grad_(True), rather than torch.tensor(sourceTensor).\n",
      "  column_tokens = {k: torch.tensor(v).to(device) for k, v in tokenized.items()}\n",
      "100%|██████████| 586/586 [00:47<00:00, 12.33it/s]\n",
      "  0%|          | 0/586 [00:00<?, ?it/s]/tmp/ipykernel_45921/2898017953.py:29: UserWarning: To copy construct from a tensor, it is recommended to use sourceTensor.clone().detach() or sourceTensor.clone().detach().requires_grad_(True), rather than torch.tensor(sourceTensor).\n",
      "  column_tokens = {k: torch.tensor(v).to(device) for k, v in tokenized.items()}\n",
      "100%|██████████| 586/586 [00:36<00:00, 16.20it/s]\n",
      "  0%|          | 0/586 [00:00<?, ?it/s]/tmp/ipykernel_45921/2898017953.py:29: UserWarning: To copy construct from a tensor, it is recommended to use sourceTensor.clone().detach() or sourceTensor.clone().detach().requires_grad_(True), rather than torch.tensor(sourceTensor).\n",
      "  column_tokens = {k: torch.tensor(v).to(device) for k, v in tokenized.items()}\n",
      "100%|██████████| 586/586 [00:49<00:00, 11.76it/s]\n",
      "  0%|          | 0/586 [00:00<?, ?it/s]/tmp/ipykernel_45921/2898017953.py:29: UserWarning: To copy construct from a tensor, it is recommended to use sourceTensor.clone().detach() or sourceTensor.clone().detach().requires_grad_(True), rather than torch.tensor(sourceTensor).\n",
      "  column_tokens = {k: torch.tensor(v).to(device) for k, v in tokenized.items()}\n",
      "100%|██████████| 586/586 [00:40<00:00, 14.47it/s]\n"
     ]
    },
    {
     "name": "stdout",
     "output_type": "stream",
     "text": [
      "CPU times: user 4min 14s, sys: 38.6 s, total: 4min 53s\n",
      "Wall time: 3min\n"
     ]
    },
    {
     "data": {
      "text/html": [
       "<div>\n",
       "<style scoped>\n",
       "    .dataframe tbody tr th:only-of-type {\n",
       "        vertical-align: middle;\n",
       "    }\n",
       "\n",
       "    .dataframe tbody tr th {\n",
       "        vertical-align: top;\n",
       "    }\n",
       "\n",
       "    .dataframe thead th {\n",
       "        text-align: right;\n",
       "    }\n",
       "</style>\n",
       "<table border=\"1\" class=\"dataframe\">\n",
       "  <thead>\n",
       "    <tr style=\"text-align: right;\">\n",
       "      <th></th>\n",
       "      <th>Место работы_pca0</th>\n",
       "      <th>Место работы_pca1</th>\n",
       "      <th>Место работы_pca2</th>\n",
       "      <th>Место работы_pca3</th>\n",
       "      <th>Место работы_pca4</th>\n",
       "      <th>Место работы_pca5</th>\n",
       "      <th>Место работы_pca6</th>\n",
       "      <th>Место работы_pca7</th>\n",
       "      <th>Место работы_pca8</th>\n",
       "      <th>Место работы_pca9</th>\n",
       "      <th>...</th>\n",
       "      <th>Наименование текущей должности_pca462</th>\n",
       "      <th>Наименование текущей должности_pca463</th>\n",
       "      <th>Наименование текущей должности_pca464</th>\n",
       "      <th>Наименование текущей должности_pca465</th>\n",
       "      <th>Наименование текущей должности_pca466</th>\n",
       "      <th>Наименование текущей должности_pca467</th>\n",
       "      <th>Наименование текущей должности_pca468</th>\n",
       "      <th>Наименование текущей должности_pca469</th>\n",
       "      <th>Наименование текущей должности_pca470</th>\n",
       "      <th>Наименование текущей должности_pca471</th>\n",
       "    </tr>\n",
       "  </thead>\n",
       "  <tbody>\n",
       "    <tr>\n",
       "      <th>0</th>\n",
       "      <td>2.097736</td>\n",
       "      <td>-3.141485</td>\n",
       "      <td>1.527721</td>\n",
       "      <td>1.018539</td>\n",
       "      <td>1.976734</td>\n",
       "      <td>-1.089206</td>\n",
       "      <td>0.934090</td>\n",
       "      <td>-2.057390</td>\n",
       "      <td>3.104365</td>\n",
       "      <td>0.511841</td>\n",
       "      <td>...</td>\n",
       "      <td>2.565220e-03</td>\n",
       "      <td>-0.085155</td>\n",
       "      <td>-0.032947</td>\n",
       "      <td>0.086071</td>\n",
       "      <td>-0.076292</td>\n",
       "      <td>-0.124164</td>\n",
       "      <td>-0.067223</td>\n",
       "      <td>0.092124</td>\n",
       "      <td>0.023502</td>\n",
       "      <td>-0.080124</td>\n",
       "    </tr>\n",
       "    <tr>\n",
       "      <th>1</th>\n",
       "      <td>0.222175</td>\n",
       "      <td>-0.859347</td>\n",
       "      <td>-3.323832</td>\n",
       "      <td>-3.663850</td>\n",
       "      <td>0.180166</td>\n",
       "      <td>-0.509260</td>\n",
       "      <td>-0.044608</td>\n",
       "      <td>0.438273</td>\n",
       "      <td>-0.642275</td>\n",
       "      <td>1.562712</td>\n",
       "      <td>...</td>\n",
       "      <td>3.187087e-02</td>\n",
       "      <td>0.036001</td>\n",
       "      <td>-0.024376</td>\n",
       "      <td>0.026279</td>\n",
       "      <td>-0.014563</td>\n",
       "      <td>0.082933</td>\n",
       "      <td>-0.019822</td>\n",
       "      <td>-0.033334</td>\n",
       "      <td>0.027458</td>\n",
       "      <td>0.073622</td>\n",
       "    </tr>\n",
       "    <tr>\n",
       "      <th>2</th>\n",
       "      <td>0.781419</td>\n",
       "      <td>-2.411698</td>\n",
       "      <td>-2.199100</td>\n",
       "      <td>3.189834</td>\n",
       "      <td>1.698199</td>\n",
       "      <td>0.588629</td>\n",
       "      <td>-1.758165</td>\n",
       "      <td>0.853915</td>\n",
       "      <td>1.144396</td>\n",
       "      <td>-0.115299</td>\n",
       "      <td>...</td>\n",
       "      <td>1.051459e-02</td>\n",
       "      <td>-0.018537</td>\n",
       "      <td>-0.001714</td>\n",
       "      <td>0.004085</td>\n",
       "      <td>0.000992</td>\n",
       "      <td>-0.000766</td>\n",
       "      <td>0.005405</td>\n",
       "      <td>-0.006325</td>\n",
       "      <td>-0.015052</td>\n",
       "      <td>0.016595</td>\n",
       "    </tr>\n",
       "    <tr>\n",
       "      <th>3</th>\n",
       "      <td>1.070110</td>\n",
       "      <td>-1.512653</td>\n",
       "      <td>0.373576</td>\n",
       "      <td>2.835340</td>\n",
       "      <td>-2.106735</td>\n",
       "      <td>1.078496</td>\n",
       "      <td>-3.034760</td>\n",
       "      <td>0.889164</td>\n",
       "      <td>-0.656621</td>\n",
       "      <td>-3.324300</td>\n",
       "      <td>...</td>\n",
       "      <td>-1.063966e-01</td>\n",
       "      <td>0.072076</td>\n",
       "      <td>0.148913</td>\n",
       "      <td>-0.013042</td>\n",
       "      <td>0.091138</td>\n",
       "      <td>-0.090596</td>\n",
       "      <td>0.018906</td>\n",
       "      <td>0.033153</td>\n",
       "      <td>-0.078529</td>\n",
       "      <td>-0.217869</td>\n",
       "    </tr>\n",
       "    <tr>\n",
       "      <th>4</th>\n",
       "      <td>0.241400</td>\n",
       "      <td>-1.658811</td>\n",
       "      <td>-2.121963</td>\n",
       "      <td>1.843289</td>\n",
       "      <td>-1.701971</td>\n",
       "      <td>-0.365184</td>\n",
       "      <td>-0.229579</td>\n",
       "      <td>0.467023</td>\n",
       "      <td>-0.753979</td>\n",
       "      <td>1.357713</td>\n",
       "      <td>...</td>\n",
       "      <td>2.882788e-02</td>\n",
       "      <td>-0.175820</td>\n",
       "      <td>-0.072203</td>\n",
       "      <td>0.139563</td>\n",
       "      <td>0.191949</td>\n",
       "      <td>-0.031141</td>\n",
       "      <td>-0.091465</td>\n",
       "      <td>-0.027943</td>\n",
       "      <td>-0.094560</td>\n",
       "      <td>0.031220</td>\n",
       "    </tr>\n",
       "    <tr>\n",
       "      <th>...</th>\n",
       "      <td>...</td>\n",
       "      <td>...</td>\n",
       "      <td>...</td>\n",
       "      <td>...</td>\n",
       "      <td>...</td>\n",
       "      <td>...</td>\n",
       "      <td>...</td>\n",
       "      <td>...</td>\n",
       "      <td>...</td>\n",
       "      <td>...</td>\n",
       "      <td>...</td>\n",
       "      <td>...</td>\n",
       "      <td>...</td>\n",
       "      <td>...</td>\n",
       "      <td>...</td>\n",
       "      <td>...</td>\n",
       "      <td>...</td>\n",
       "      <td>...</td>\n",
       "      <td>...</td>\n",
       "      <td>...</td>\n",
       "      <td>...</td>\n",
       "    </tr>\n",
       "    <tr>\n",
       "      <th>63</th>\n",
       "      <td>1.222379</td>\n",
       "      <td>-0.497969</td>\n",
       "      <td>-3.743077</td>\n",
       "      <td>-2.996310</td>\n",
       "      <td>0.689848</td>\n",
       "      <td>0.671857</td>\n",
       "      <td>-0.670229</td>\n",
       "      <td>1.664109</td>\n",
       "      <td>1.307766</td>\n",
       "      <td>0.250299</td>\n",
       "      <td>...</td>\n",
       "      <td>6.795681e-02</td>\n",
       "      <td>0.064866</td>\n",
       "      <td>-0.114190</td>\n",
       "      <td>0.006871</td>\n",
       "      <td>-0.006297</td>\n",
       "      <td>-0.042330</td>\n",
       "      <td>-0.019813</td>\n",
       "      <td>-0.037809</td>\n",
       "      <td>-0.019691</td>\n",
       "      <td>0.017120</td>\n",
       "    </tr>\n",
       "    <tr>\n",
       "      <th>64</th>\n",
       "      <td>-7.782558</td>\n",
       "      <td>1.794498</td>\n",
       "      <td>0.291758</td>\n",
       "      <td>0.416464</td>\n",
       "      <td>0.043214</td>\n",
       "      <td>-0.294673</td>\n",
       "      <td>0.109744</td>\n",
       "      <td>-0.168612</td>\n",
       "      <td>0.203005</td>\n",
       "      <td>0.086867</td>\n",
       "      <td>...</td>\n",
       "      <td>-4.619360e-07</td>\n",
       "      <td>0.000257</td>\n",
       "      <td>-0.000028</td>\n",
       "      <td>-0.000026</td>\n",
       "      <td>0.000088</td>\n",
       "      <td>0.000443</td>\n",
       "      <td>-0.000074</td>\n",
       "      <td>0.000054</td>\n",
       "      <td>-0.000552</td>\n",
       "      <td>-0.000056</td>\n",
       "    </tr>\n",
       "    <tr>\n",
       "      <th>65</th>\n",
       "      <td>0.131947</td>\n",
       "      <td>-0.368252</td>\n",
       "      <td>-0.530883</td>\n",
       "      <td>-1.380032</td>\n",
       "      <td>-2.044461</td>\n",
       "      <td>1.402663</td>\n",
       "      <td>0.318511</td>\n",
       "      <td>0.035127</td>\n",
       "      <td>-2.219517</td>\n",
       "      <td>-0.107684</td>\n",
       "      <td>...</td>\n",
       "      <td>1.362002e-01</td>\n",
       "      <td>0.099363</td>\n",
       "      <td>-0.086855</td>\n",
       "      <td>0.096653</td>\n",
       "      <td>0.213400</td>\n",
       "      <td>0.018479</td>\n",
       "      <td>-0.073323</td>\n",
       "      <td>0.119225</td>\n",
       "      <td>0.065617</td>\n",
       "      <td>0.003810</td>\n",
       "    </tr>\n",
       "    <tr>\n",
       "      <th>66</th>\n",
       "      <td>2.448724</td>\n",
       "      <td>-0.853921</td>\n",
       "      <td>1.777579</td>\n",
       "      <td>-1.934753</td>\n",
       "      <td>1.179254</td>\n",
       "      <td>0.415871</td>\n",
       "      <td>-2.124197</td>\n",
       "      <td>-0.894599</td>\n",
       "      <td>-0.292198</td>\n",
       "      <td>-0.652601</td>\n",
       "      <td>...</td>\n",
       "      <td>2.783228e-02</td>\n",
       "      <td>0.041412</td>\n",
       "      <td>0.042727</td>\n",
       "      <td>-0.041857</td>\n",
       "      <td>0.054148</td>\n",
       "      <td>-0.027433</td>\n",
       "      <td>0.075329</td>\n",
       "      <td>-0.050741</td>\n",
       "      <td>0.005990</td>\n",
       "      <td>0.025225</td>\n",
       "    </tr>\n",
       "    <tr>\n",
       "      <th>67</th>\n",
       "      <td>6.009652</td>\n",
       "      <td>8.608274</td>\n",
       "      <td>-1.805410</td>\n",
       "      <td>0.128852</td>\n",
       "      <td>0.716469</td>\n",
       "      <td>-0.544326</td>\n",
       "      <td>3.931638</td>\n",
       "      <td>-1.237636</td>\n",
       "      <td>-0.419452</td>\n",
       "      <td>0.289135</td>\n",
       "      <td>...</td>\n",
       "      <td>-3.196006e-02</td>\n",
       "      <td>-0.055847</td>\n",
       "      <td>-0.022041</td>\n",
       "      <td>0.010896</td>\n",
       "      <td>-0.006722</td>\n",
       "      <td>0.037375</td>\n",
       "      <td>-0.063369</td>\n",
       "      <td>0.003133</td>\n",
       "      <td>0.054599</td>\n",
       "      <td>-0.020174</td>\n",
       "    </tr>\n",
       "  </tbody>\n",
       "</table>\n",
       "<p>74948 rows × 1041 columns</p>\n",
       "</div>"
      ],
      "text/plain": [
       "    Место работы_pca0  Место работы_pca1  Место работы_pca2  \\\n",
       "0            2.097736          -3.141485           1.527721   \n",
       "1            0.222175          -0.859347          -3.323832   \n",
       "2            0.781419          -2.411698          -2.199100   \n",
       "3            1.070110          -1.512653           0.373576   \n",
       "4            0.241400          -1.658811          -2.121963   \n",
       "..                ...                ...                ...   \n",
       "63           1.222379          -0.497969          -3.743077   \n",
       "64          -7.782558           1.794498           0.291758   \n",
       "65           0.131947          -0.368252          -0.530883   \n",
       "66           2.448724          -0.853921           1.777579   \n",
       "67           6.009652           8.608274          -1.805410   \n",
       "\n",
       "    Место работы_pca3  Место работы_pca4  Место работы_pca5  \\\n",
       "0            1.018539           1.976734          -1.089206   \n",
       "1           -3.663850           0.180166          -0.509260   \n",
       "2            3.189834           1.698199           0.588629   \n",
       "3            2.835340          -2.106735           1.078496   \n",
       "4            1.843289          -1.701971          -0.365184   \n",
       "..                ...                ...                ...   \n",
       "63          -2.996310           0.689848           0.671857   \n",
       "64           0.416464           0.043214          -0.294673   \n",
       "65          -1.380032          -2.044461           1.402663   \n",
       "66          -1.934753           1.179254           0.415871   \n",
       "67           0.128852           0.716469          -0.544326   \n",
       "\n",
       "    Место работы_pca6  Место работы_pca7  Место работы_pca8  \\\n",
       "0            0.934090          -2.057390           3.104365   \n",
       "1           -0.044608           0.438273          -0.642275   \n",
       "2           -1.758165           0.853915           1.144396   \n",
       "3           -3.034760           0.889164          -0.656621   \n",
       "4           -0.229579           0.467023          -0.753979   \n",
       "..                ...                ...                ...   \n",
       "63          -0.670229           1.664109           1.307766   \n",
       "64           0.109744          -0.168612           0.203005   \n",
       "65           0.318511           0.035127          -2.219517   \n",
       "66          -2.124197          -0.894599          -0.292198   \n",
       "67           3.931638          -1.237636          -0.419452   \n",
       "\n",
       "    Место работы_pca9  ...  Наименование текущей должности_pca462  \\\n",
       "0            0.511841  ...                           2.565220e-03   \n",
       "1            1.562712  ...                           3.187087e-02   \n",
       "2           -0.115299  ...                           1.051459e-02   \n",
       "3           -3.324300  ...                          -1.063966e-01   \n",
       "4            1.357713  ...                           2.882788e-02   \n",
       "..                ...  ...                                    ...   \n",
       "63           0.250299  ...                           6.795681e-02   \n",
       "64           0.086867  ...                          -4.619360e-07   \n",
       "65          -0.107684  ...                           1.362002e-01   \n",
       "66          -0.652601  ...                           2.783228e-02   \n",
       "67           0.289135  ...                          -3.196006e-02   \n",
       "\n",
       "    Наименование текущей должности_pca463  \\\n",
       "0                               -0.085155   \n",
       "1                                0.036001   \n",
       "2                               -0.018537   \n",
       "3                                0.072076   \n",
       "4                               -0.175820   \n",
       "..                                    ...   \n",
       "63                               0.064866   \n",
       "64                               0.000257   \n",
       "65                               0.099363   \n",
       "66                               0.041412   \n",
       "67                              -0.055847   \n",
       "\n",
       "    Наименование текущей должности_pca464  \\\n",
       "0                               -0.032947   \n",
       "1                               -0.024376   \n",
       "2                               -0.001714   \n",
       "3                                0.148913   \n",
       "4                               -0.072203   \n",
       "..                                    ...   \n",
       "63                              -0.114190   \n",
       "64                              -0.000028   \n",
       "65                              -0.086855   \n",
       "66                               0.042727   \n",
       "67                              -0.022041   \n",
       "\n",
       "    Наименование текущей должности_pca465  \\\n",
       "0                                0.086071   \n",
       "1                                0.026279   \n",
       "2                                0.004085   \n",
       "3                               -0.013042   \n",
       "4                                0.139563   \n",
       "..                                    ...   \n",
       "63                               0.006871   \n",
       "64                              -0.000026   \n",
       "65                               0.096653   \n",
       "66                              -0.041857   \n",
       "67                               0.010896   \n",
       "\n",
       "    Наименование текущей должности_pca466  \\\n",
       "0                               -0.076292   \n",
       "1                               -0.014563   \n",
       "2                                0.000992   \n",
       "3                                0.091138   \n",
       "4                                0.191949   \n",
       "..                                    ...   \n",
       "63                              -0.006297   \n",
       "64                               0.000088   \n",
       "65                               0.213400   \n",
       "66                               0.054148   \n",
       "67                              -0.006722   \n",
       "\n",
       "    Наименование текущей должности_pca467  \\\n",
       "0                               -0.124164   \n",
       "1                                0.082933   \n",
       "2                               -0.000766   \n",
       "3                               -0.090596   \n",
       "4                               -0.031141   \n",
       "..                                    ...   \n",
       "63                              -0.042330   \n",
       "64                               0.000443   \n",
       "65                               0.018479   \n",
       "66                              -0.027433   \n",
       "67                               0.037375   \n",
       "\n",
       "    Наименование текущей должности_pca468  \\\n",
       "0                               -0.067223   \n",
       "1                               -0.019822   \n",
       "2                                0.005405   \n",
       "3                                0.018906   \n",
       "4                               -0.091465   \n",
       "..                                    ...   \n",
       "63                              -0.019813   \n",
       "64                              -0.000074   \n",
       "65                              -0.073323   \n",
       "66                               0.075329   \n",
       "67                              -0.063369   \n",
       "\n",
       "    Наименование текущей должности_pca469  \\\n",
       "0                                0.092124   \n",
       "1                               -0.033334   \n",
       "2                               -0.006325   \n",
       "3                                0.033153   \n",
       "4                               -0.027943   \n",
       "..                                    ...   \n",
       "63                              -0.037809   \n",
       "64                               0.000054   \n",
       "65                               0.119225   \n",
       "66                              -0.050741   \n",
       "67                               0.003133   \n",
       "\n",
       "    Наименование текущей должности_pca470  \\\n",
       "0                                0.023502   \n",
       "1                                0.027458   \n",
       "2                               -0.015052   \n",
       "3                               -0.078529   \n",
       "4                               -0.094560   \n",
       "..                                    ...   \n",
       "63                              -0.019691   \n",
       "64                              -0.000552   \n",
       "65                               0.065617   \n",
       "66                               0.005990   \n",
       "67                               0.054599   \n",
       "\n",
       "    Наименование текущей должности_pca471  \n",
       "0                               -0.080124  \n",
       "1                                0.073622  \n",
       "2                                0.016595  \n",
       "3                               -0.217869  \n",
       "4                                0.031220  \n",
       "..                                    ...  \n",
       "63                               0.017120  \n",
       "64                              -0.000056  \n",
       "65                               0.003810  \n",
       "66                               0.025225  \n",
       "67                              -0.020174  \n",
       "\n",
       "[74948 rows x 1041 columns]"
      ]
     },
     "execution_count": 173,
     "metadata": {},
     "output_type": "execute_result"
    }
   ],
   "source": [
    "%%time\n",
    "be.fit_transform(df_train[text_cols])"
   ]
  },
  {
   "cell_type": "markdown",
   "metadata": {},
   "source": [
    "## Обучим пайплайн"
   ]
  },
  {
   "cell_type": "code",
   "execution_count": 174,
   "metadata": {},
   "outputs": [],
   "source": [
    "from sklearn.ensemble import ExtraTreesClassifier\n",
    "from sklearn.impute import SimpleImputer"
   ]
  },
  {
   "cell_type": "code",
   "execution_count": 175,
   "metadata": {},
   "outputs": [],
   "source": [
    "data_transformer =  ColumnTransformer([\n",
    "    ('cat_encoder', OrdinalEncoder(handle_unknown='use_encoded_value', unknown_value=-1), cat_cols),\n",
    "    ('text_encoder', BERTEmbExtractor(tokenizer, model, batch_size=32), text_cols)\n",
    "    ], remainder='drop', verbose_feature_names_out=True)\n",
    "\n",
    "data_prepare = Pipeline([\n",
    "    ('preproc', data_transformer),\n",
    "    ('imputer', SimpleImputer()),\n",
    "    ])\n",
    "\n",
    "pipe = Pipeline([\n",
    "    ('model', ExtraTreesClassifier(class_weight='balanced_subsample', oob_score=True, bootstrap=True, n_jobs=5))\n",
    "    ])"
   ]
  },
  {
   "cell_type": "code",
   "execution_count": 176,
   "metadata": {},
   "outputs": [
    {
     "name": "stderr",
     "output_type": "stream",
     "text": [
      "  0%|          | 0/2343 [00:00<?, ?it/s]/tmp/ipykernel_45921/2898017953.py:29: UserWarning: To copy construct from a tensor, it is recommended to use sourceTensor.clone().detach() or sourceTensor.clone().detach().requires_grad_(True), rather than torch.tensor(sourceTensor).\n",
      "  column_tokens = {k: torch.tensor(v).to(device) for k, v in tokenized.items()}\n",
      " 31%|███       | 719/2343 [00:12<00:29, 55.74it/s]"
     ]
    },
    {
     "name": "stderr",
     "output_type": "stream",
     "text": [
      "100%|██████████| 2343/2343 [00:43<00:00, 54.10it/s]\n",
      "  0%|          | 0/2343 [00:00<?, ?it/s]/tmp/ipykernel_45921/2898017953.py:29: UserWarning: To copy construct from a tensor, it is recommended to use sourceTensor.clone().detach() or sourceTensor.clone().detach().requires_grad_(True), rather than torch.tensor(sourceTensor).\n",
      "  column_tokens = {k: torch.tensor(v).to(device) for k, v in tokenized.items()}\n",
      "100%|██████████| 2343/2343 [00:33<00:00, 69.17it/s]\n",
      "  0%|          | 0/2343 [00:00<?, ?it/s]/tmp/ipykernel_45921/2898017953.py:29: UserWarning: To copy construct from a tensor, it is recommended to use sourceTensor.clone().detach() or sourceTensor.clone().detach().requires_grad_(True), rather than torch.tensor(sourceTensor).\n",
      "  column_tokens = {k: torch.tensor(v).to(device) for k, v in tokenized.items()}\n",
      "100%|██████████| 2343/2343 [00:43<00:00, 54.46it/s]\n",
      "  0%|          | 0/2343 [00:00<?, ?it/s]/tmp/ipykernel_45921/2898017953.py:29: UserWarning: To copy construct from a tensor, it is recommended to use sourceTensor.clone().detach() or sourceTensor.clone().detach().requires_grad_(True), rather than torch.tensor(sourceTensor).\n",
      "  column_tokens = {k: torch.tensor(v).to(device) for k, v in tokenized.items()}\n",
      "100%|██████████| 2343/2343 [00:34<00:00, 68.45it/s]\n",
      "  0%|          | 0/10 [00:00<?, ?it/s]/tmp/ipykernel_45921/2898017953.py:29: UserWarning: To copy construct from a tensor, it is recommended to use sourceTensor.clone().detach() or sourceTensor.clone().detach().requires_grad_(True), rather than torch.tensor(sourceTensor).\n",
      "  column_tokens = {k: torch.tensor(v).to(device) for k, v in tokenized.items()}\n",
      "100%|██████████| 10/10 [00:00<00:00, 66.41it/s]\n",
      "  0%|          | 0/10 [00:00<?, ?it/s]/tmp/ipykernel_45921/2898017953.py:29: UserWarning: To copy construct from a tensor, it is recommended to use sourceTensor.clone().detach() or sourceTensor.clone().detach().requires_grad_(True), rather than torch.tensor(sourceTensor).\n",
      "  column_tokens = {k: torch.tensor(v).to(device) for k, v in tokenized.items()}\n",
      "100%|██████████| 10/10 [00:00<00:00, 56.64it/s]"
     ]
    },
    {
     "name": "stdout",
     "output_type": "stream",
     "text": [
      "CPU times: user 6min 55s, sys: 11min 12s, total: 18min 8s\n",
      "Wall time: 3min 34s\n"
     ]
    },
    {
     "name": "stderr",
     "output_type": "stream",
     "text": [
      "\n"
     ]
    }
   ],
   "source": [
    "%%time\n",
    "\n",
    "X_train = data_prepare.fit_transform(df_train)\n",
    "X_val = data_prepare.transform(df_val)"
   ]
  },
  {
   "cell_type": "code",
   "execution_count": 177,
   "metadata": {},
   "outputs": [
    {
     "name": "stdout",
     "output_type": "stream",
     "text": [
      "CPU times: user 55.1 s, sys: 779 ms, total: 55.9 s\n",
      "Wall time: 14.1 s\n"
     ]
    },
    {
     "data": {
      "text/plain": [
       "0.16151202749140894"
      ]
     },
     "execution_count": 177,
     "metadata": {},
     "output_type": "execute_result"
    }
   ],
   "source": [
    "%%time \n",
    "\n",
    "pipe.fit(X_train, y_train)\n",
    "pipe.score(X_val, y_val)"
   ]
  },
  {
   "cell_type": "markdown",
   "metadata": {},
   "source": [
    "## Cross Val"
   ]
  },
  {
   "cell_type": "code",
   "execution_count": 178,
   "metadata": {},
   "outputs": [
    {
     "data": {
      "text/plain": [
       "(74948, 1046)"
      ]
     },
     "execution_count": 178,
     "metadata": {},
     "output_type": "execute_result"
    }
   ],
   "source": [
    "X_train.shape"
   ]
  },
  {
   "cell_type": "code",
   "execution_count": 179,
   "metadata": {},
   "outputs": [
    {
     "name": "stdout",
     "output_type": "stream",
     "text": [
      "CPU times: user 3min 25s, sys: 29.3 ms, total: 3min 25s\n",
      "Wall time: 53.1 s\n"
     ]
    },
    {
     "data": {
      "text/plain": [
       "array([0.34629753, 0.36837892, 0.35977318, 0.35506038, 0.36239909])"
      ]
     },
     "execution_count": 179,
     "metadata": {},
     "output_type": "execute_result"
    }
   ],
   "source": [
    "%%time\n",
    "cross_val_score(pipe, X_train, y_train, n_jobs=1)"
   ]
  },
  {
   "cell_type": "markdown",
   "metadata": {},
   "source": [
    "Попробуем регуляризацию и прунинг"
   ]
  },
  {
   "cell_type": "code",
   "execution_count": 180,
   "metadata": {},
   "outputs": [],
   "source": [
    "from sklearn.tree import DecisionTreeClassifier"
   ]
  },
  {
   "cell_type": "code",
   "execution_count": 190,
   "metadata": {},
   "outputs": [
    {
     "name": "stdout",
     "output_type": "stream",
     "text": [
      "CPU times: user 1min 39s, sys: 0 ns, total: 1min 39s\n",
      "Wall time: 1min 39s\n"
     ]
    }
   ],
   "source": [
    "%%time\n",
    "clf = DecisionTreeClassifier(random_state=0)\n",
    "path = clf.cost_complexity_pruning_path(X_train, y_train)\n",
    "ccp_alphas, impurities = path.ccp_alphas, path.impurities"
   ]
  },
  {
   "cell_type": "code",
   "execution_count": null,
   "metadata": {},
   "outputs": [],
   "source": [
    "import matplotlib.pyplot as plt\n"
   ]
  },
  {
   "cell_type": "code",
   "execution_count": 191,
   "metadata": {},
   "outputs": [
    {
     "data": {
      "text/plain": [
       "Text(0.5, 1.0, 'Total Impurity vs effective alpha for training set')"
      ]
     },
     "execution_count": 191,
     "metadata": {},
     "output_type": "execute_result"
    },
    {
     "data": {
      "image/png": "[encoded data removed]",
      "text/plain": [
       "<Figure size 640x480 with 1 Axes>"
      ]
     },
     "metadata": {},
     "output_type": "display_data"
    }
   ],
   "source": [
    "fig, ax = plt.subplots()\n",
    "ax.plot(ccp_alphas[:-1], impurities[:-1], marker=\"o\", drawstyle=\"steps-post\")\n",
    "ax.set_xlabel(\"effective alpha\")\n",
    "ax.set_ylabel(\"total impurity of leaves\")\n",
    "ax.set_title(\"Total Impurity vs effective alpha for training set\")"
   ]
  },
  {
   "cell_type": "code",
   "execution_count": 192,
   "metadata": {},
   "outputs": [
    {
     "data": {
      "text/plain": [
       "array([0.42500079])"
      ]
     },
     "execution_count": 192,
     "metadata": {},
     "output_type": "execute_result"
    }
   ],
   "source": [
    "impurities[abs(impurities -  0.425) < 0.0001]"
   ]
  },
  {
   "cell_type": "code",
   "execution_count": 197,
   "metadata": {},
   "outputs": [
    {
     "data": {
      "text/plain": [
       "array([0.74434007, 0.74522757, 0.74611548, 0.74711511, 0.74833562,\n",
       "       0.7495586 , 0.75081533, 0.75209938, 0.75348668, 0.75506212,\n",
       "       0.75689624, 0.75976539, 0.77087404, 0.78328016, 0.81358954])"
      ]
     },
     "execution_count": 197,
     "metadata": {},
     "output_type": "execute_result"
    }
   ],
   "source": [
    "impurities[-15:]"
   ]
  },
  {
   "cell_type": "code",
   "execution_count": 214,
   "metadata": {},
   "outputs": [
    {
     "data": {
      "text/plain": [
       "array([9.68656472e-05])"
      ]
     },
     "execution_count": 214,
     "metadata": {},
     "output_type": "execute_result"
    }
   ],
   "source": [
    "ccp_alphas[abs(impurities - 0.705) < 0.0001]"
   ]
  },
  {
   "cell_type": "code",
   "execution_count": 215,
   "metadata": {},
   "outputs": [],
   "source": [
    "ccp_alphas = [ccp_alphas[abs(impurities - thr) < 0.0001].min() for thr in [0.02, 0.1, 0.2, 0.3, 0.4, 0.51, 0.6, 0.705]] + ccp_alphas[-15:].tolist()\n",
    "\n",
    "# ccp_alphas = [ccp_alphas[abs(impurities - thr) < 0.0001].min() for thr in [0.01, 0.1, 0.2, 0.3, 0.4, 0.425]] + ccp_alphas[-14:].tolist()\n"
   ]
  },
  {
   "cell_type": "code",
   "execution_count": 216,
   "metadata": {},
   "outputs": [
    {
     "data": {
      "text/plain": [
       "[1.207186188773423e-05,\n",
       " 1.75546548875194e-05,\n",
       " 2.4906157157851665e-05,\n",
       " 3.77593748061033e-05,\n",
       " 5.187190447395574e-05,\n",
       " 6.328498430848816e-05,\n",
       " 7.254957579156123e-05,\n",
       " 9.686564719934686e-05,\n",
       " 0.0006128459471302083,\n",
       " 0.0008875053257529492,\n",
       " 0.0008879126389170211,\n",
       " 0.0009996247960981641,\n",
       " 0.001220511140405306,\n",
       " 0.0012229794052464743,\n",
       " 0.0012567262454916406,\n",
       " 0.0012840509943528276,\n",
       " 0.001387306949584069,\n",
       " 0.0015754317808848728,\n",
       " 0.001834125607684256,\n",
       " 0.0028691501485132442,\n",
       " 0.005554323878597445,\n",
       " 0.012406120899525919,\n",
       " 0.030309375432683305]"
      ]
     },
     "execution_count": 216,
     "metadata": {},
     "output_type": "execute_result"
    }
   ],
   "source": [
    "ccp_alphas"
   ]
  },
  {
   "cell_type": "code",
   "execution_count": 217,
   "metadata": {},
   "outputs": [
    {
     "name": "stderr",
     "output_type": "stream",
     "text": [
      "100%|██████████| 23/23 [23:21<00:00, 60.94s/it]\n"
     ]
    }
   ],
   "source": [
    "clfs = []\n",
    "for ccp_alpha in tqdm(ccp_alphas):\n",
    "    clf = ExtraTreesClassifier(class_weight='balanced_subsample', oob_score=True, bootstrap=True, n_jobs=5, random_state=0, ccp_alpha=ccp_alpha)\n",
    "    clf.fit(X_train, y_train)\n",
    "    clfs.append(clf)"
   ]
  },
  {
   "cell_type": "markdown",
   "metadata": {},
   "source": [
    "Карьерная ступень по Классификатору ФОИР"
   ]
  },
  {
   "cell_type": "code",
   "execution_count": 218,
   "metadata": {},
   "outputs": [
    {
     "data": {
      "image/png": "[encoded data removed]",
      "text/plain": [
       "<Figure size 640x480 with 1 Axes>"
      ]
     },
     "metadata": {},
     "output_type": "display_data"
    }
   ],
   "source": [
    "train_scores = [clf.score(X_train, y_train) for clf in clfs]\n",
    "test_scores = [clf.score(X_val, y_val) for clf in clfs]\n",
    "\n",
    "fig, ax = plt.subplots()\n",
    "ax.set_xlabel(\"alpha\")\n",
    "ax.set_ylabel(\"accuracy\")\n",
    "ax.set_title(\"Accuracy vs alpha for training and testing sets\")\n",
    "ax.plot(ccp_alphas, train_scores, marker=\"o\", label=\"train\", drawstyle=\"steps-post\")\n",
    "ax.plot(ccp_alphas, test_scores, marker=\"o\", label=\"test\", drawstyle=\"steps-post\")\n",
    "ax.legend()\n",
    "plt.show()"
   ]
  },
  {
   "cell_type": "code",
   "execution_count": 227,
   "metadata": {},
   "outputs": [
    {
     "data": {
      "text/plain": [
       "0.1718213058419244"
      ]
     },
     "execution_count": 227,
     "metadata": {},
     "output_type": "execute_result"
    }
   ],
   "source": [
    "test_scores[7]"
   ]
  },
  {
   "cell_type": "code",
   "execution_count": 228,
   "metadata": {},
   "outputs": [
    {
     "data": {
      "text/html": [
       "<style>#sk-container-id-7 {color: black;}#sk-container-id-7 pre{padding: 0;}#sk-container-id-7 div.sk-toggleable {background-color: white;}#sk-container-id-7 label.sk-toggleable__label {cursor: pointer;display: block;width: 100%;margin-bottom: 0;padding: 0.3em;box-sizing: border-box;text-align: center;}#sk-container-id-7 label.sk-toggleable__label-arrow:before {content: \"▸\";float: left;margin-right: 0.25em;color: #696969;}#sk-container-id-7 label.sk-toggleable__label-arrow:hover:before {color: black;}#sk-container-id-7 div.sk-estimator:hover label.sk-toggleable__label-arrow:before {color: black;}#sk-container-id-7 div.sk-toggleable__content {max-height: 0;max-width: 0;overflow: hidden;text-align: left;background-color: #f0f8ff;}#sk-container-id-7 div.sk-toggleable__content pre {margin: 0.2em;color: black;border-radius: 0.25em;background-color: #f0f8ff;}#sk-container-id-7 input.sk-toggleable__control:checked~div.sk-toggleable__content {max-height: 200px;max-width: 100%;overflow: auto;}#sk-container-id-7 input.sk-toggleable__control:checked~label.sk-toggleable__label-arrow:before {content: \"▾\";}#sk-container-id-7 div.sk-estimator input.sk-toggleable__control:checked~label.sk-toggleable__label {background-color: #d4ebff;}#sk-container-id-7 div.sk-label input.sk-toggleable__control:checked~label.sk-toggleable__label {background-color: #d4ebff;}#sk-container-id-7 input.sk-hidden--visually {border: 0;clip: rect(1px 1px 1px 1px);clip: rect(1px, 1px, 1px, 1px);height: 1px;margin: -1px;overflow: hidden;padding: 0;position: absolute;width: 1px;}#sk-container-id-7 div.sk-estimator {font-family: monospace;background-color: #f0f8ff;border: 1px dotted black;border-radius: 0.25em;box-sizing: border-box;margin-bottom: 0.5em;}#sk-container-id-7 div.sk-estimator:hover {background-color: #d4ebff;}#sk-container-id-7 div.sk-parallel-item::after {content: \"\";width: 100%;border-bottom: 1px solid gray;flex-grow: 1;}#sk-container-id-7 div.sk-label:hover label.sk-toggleable__label {background-color: #d4ebff;}#sk-container-id-7 div.sk-serial::before {content: \"\";position: absolute;border-left: 1px solid gray;box-sizing: border-box;top: 0;bottom: 0;left: 50%;z-index: 0;}#sk-container-id-7 div.sk-serial {display: flex;flex-direction: column;align-items: center;background-color: white;padding-right: 0.2em;padding-left: 0.2em;position: relative;}#sk-container-id-7 div.sk-item {position: relative;z-index: 1;}#sk-container-id-7 div.sk-parallel {display: flex;align-items: stretch;justify-content: center;background-color: white;position: relative;}#sk-container-id-7 div.sk-item::before, #sk-container-id-7 div.sk-parallel-item::before {content: \"\";position: absolute;border-left: 1px solid gray;box-sizing: border-box;top: 0;bottom: 0;left: 50%;z-index: -1;}#sk-container-id-7 div.sk-parallel-item {display: flex;flex-direction: column;z-index: 1;position: relative;background-color: white;}#sk-container-id-7 div.sk-parallel-item:first-child::after {align-self: flex-end;width: 50%;}#sk-container-id-7 div.sk-parallel-item:last-child::after {align-self: flex-start;width: 50%;}#sk-container-id-7 div.sk-parallel-item:only-child::after {width: 0;}#sk-container-id-7 div.sk-dashed-wrapped {border: 1px dashed gray;margin: 0 0.4em 0.5em 0.4em;box-sizing: border-box;padding-bottom: 0.4em;background-color: white;}#sk-container-id-7 div.sk-label label {font-family: monospace;font-weight: bold;display: inline-block;line-height: 1.2em;}#sk-container-id-7 div.sk-label-container {text-align: center;}#sk-container-id-7 div.sk-container {/* jupyter's `normalize.less` sets `[hidden] { display: none; }` but bootstrap.min.css set `[hidden] { display: none !important; }` so we also need the `!important` here to be able to override the default hidden behavior on the sphinx rendered scikit-learn.org. See: https://github.com/scikit-learn/scikit-learn/issues/21755 */display: inline-block !important;position: relative;}#sk-container-id-7 div.sk-text-repr-fallback {display: none;}</style><div id=\"sk-container-id-7\" class=\"sk-top-container\"><div class=\"sk-text-repr-fallback\"><pre>ExtraTreesClassifier(bootstrap=True, ccp_alpha=9.686564719934686e-05,\n",
       "                     class_weight=&#x27;balanced_subsample&#x27;, n_jobs=5,\n",
       "                     oob_score=True, random_state=0)</pre><b>In a Jupyter environment, please rerun this cell to show the HTML representation or trust the notebook. <br />On GitHub, the HTML representation is unable to render, please try loading this page with nbviewer.org.</b></div><div class=\"sk-container\" hidden><div class=\"sk-item\"><div class=\"sk-estimator sk-toggleable\"><input class=\"sk-toggleable__control sk-hidden--visually\" id=\"sk-estimator-id-24\" type=\"checkbox\" checked><label for=\"sk-estimator-id-24\" class=\"sk-toggleable__label sk-toggleable__label-arrow\">ExtraTreesClassifier</label><div class=\"sk-toggleable__content\"><pre>ExtraTreesClassifier(bootstrap=True, ccp_alpha=9.686564719934686e-05,\n",
       "                     class_weight=&#x27;balanced_subsample&#x27;, n_jobs=5,\n",
       "                     oob_score=True, random_state=0)</pre></div></div></div></div></div>"
      ],
      "text/plain": [
       "ExtraTreesClassifier(bootstrap=True, ccp_alpha=9.686564719934686e-05,\n",
       "                     class_weight='balanced_subsample', n_jobs=5,\n",
       "                     oob_score=True, random_state=0)"
      ]
     },
     "execution_count": 228,
     "metadata": {},
     "output_type": "execute_result"
    }
   ],
   "source": [
    "clfs[7]"
   ]
  },
  {
   "cell_type": "markdown",
   "metadata": {},
   "source": [
    "ccp_alpha=9.686564719934686e-05"
   ]
  },
  {
   "cell_type": "markdown",
   "metadata": {},
   "source": [
    "Сфера деятельности по Классификатору ФОИР"
   ]
  },
  {
   "cell_type": "code",
   "execution_count": 135,
   "metadata": {},
   "outputs": [
    {
     "data": {
      "image/png": "[encoded data removed]",
      "text/plain": [
       "<Figure size 640x480 with 1 Axes>"
      ]
     },
     "metadata": {},
     "output_type": "display_data"
    }
   ],
   "source": [
    "train_scores = [clf.score(X_train, y_train) for clf in clfs]\n",
    "test_scores = [clf.score(X_val, y_val) for clf in clfs]\n",
    "\n",
    "fig, ax = plt.subplots()\n",
    "ax.set_xlabel(\"alpha\")\n",
    "ax.set_ylabel(\"accuracy\")\n",
    "ax.set_title(\"Accuracy vs alpha for training and testing sets\")\n",
    "ax.plot(ccp_alphas, train_scores, marker=\"o\", label=\"train\", drawstyle=\"steps-post\")\n",
    "ax.plot(ccp_alphas, test_scores, marker=\"o\", label=\"test\", drawstyle=\"steps-post\")\n",
    "ax.legend()\n",
    "plt.show()"
   ]
  },
  {
   "cell_type": "code",
   "execution_count": 140,
   "metadata": {},
   "outputs": [
    {
     "data": {
      "text/plain": [
       "0.7835051546391752"
      ]
     },
     "execution_count": 140,
     "metadata": {},
     "output_type": "execute_result"
    }
   ],
   "source": [
    "test_scores[4]"
   ]
  },
  {
   "cell_type": "code",
   "execution_count": 141,
   "metadata": {},
   "outputs": [
    {
     "data": {
      "text/html": [
       "<style>#sk-container-id-5 {color: black;}#sk-container-id-5 pre{padding: 0;}#sk-container-id-5 div.sk-toggleable {background-color: white;}#sk-container-id-5 label.sk-toggleable__label {cursor: pointer;display: block;width: 100%;margin-bottom: 0;padding: 0.3em;box-sizing: border-box;text-align: center;}#sk-container-id-5 label.sk-toggleable__label-arrow:before {content: \"▸\";float: left;margin-right: 0.25em;color: #696969;}#sk-container-id-5 label.sk-toggleable__label-arrow:hover:before {color: black;}#sk-container-id-5 div.sk-estimator:hover label.sk-toggleable__label-arrow:before {color: black;}#sk-container-id-5 div.sk-toggleable__content {max-height: 0;max-width: 0;overflow: hidden;text-align: left;background-color: #f0f8ff;}#sk-container-id-5 div.sk-toggleable__content pre {margin: 0.2em;color: black;border-radius: 0.25em;background-color: #f0f8ff;}#sk-container-id-5 input.sk-toggleable__control:checked~div.sk-toggleable__content {max-height: 200px;max-width: 100%;overflow: auto;}#sk-container-id-5 input.sk-toggleable__control:checked~label.sk-toggleable__label-arrow:before {content: \"▾\";}#sk-container-id-5 div.sk-estimator input.sk-toggleable__control:checked~label.sk-toggleable__label {background-color: #d4ebff;}#sk-container-id-5 div.sk-label input.sk-toggleable__control:checked~label.sk-toggleable__label {background-color: #d4ebff;}#sk-container-id-5 input.sk-hidden--visually {border: 0;clip: rect(1px 1px 1px 1px);clip: rect(1px, 1px, 1px, 1px);height: 1px;margin: -1px;overflow: hidden;padding: 0;position: absolute;width: 1px;}#sk-container-id-5 div.sk-estimator {font-family: monospace;background-color: #f0f8ff;border: 1px dotted black;border-radius: 0.25em;box-sizing: border-box;margin-bottom: 0.5em;}#sk-container-id-5 div.sk-estimator:hover {background-color: #d4ebff;}#sk-container-id-5 div.sk-parallel-item::after {content: \"\";width: 100%;border-bottom: 1px solid gray;flex-grow: 1;}#sk-container-id-5 div.sk-label:hover label.sk-toggleable__label {background-color: #d4ebff;}#sk-container-id-5 div.sk-serial::before {content: \"\";position: absolute;border-left: 1px solid gray;box-sizing: border-box;top: 0;bottom: 0;left: 50%;z-index: 0;}#sk-container-id-5 div.sk-serial {display: flex;flex-direction: column;align-items: center;background-color: white;padding-right: 0.2em;padding-left: 0.2em;position: relative;}#sk-container-id-5 div.sk-item {position: relative;z-index: 1;}#sk-container-id-5 div.sk-parallel {display: flex;align-items: stretch;justify-content: center;background-color: white;position: relative;}#sk-container-id-5 div.sk-item::before, #sk-container-id-5 div.sk-parallel-item::before {content: \"\";position: absolute;border-left: 1px solid gray;box-sizing: border-box;top: 0;bottom: 0;left: 50%;z-index: -1;}#sk-container-id-5 div.sk-parallel-item {display: flex;flex-direction: column;z-index: 1;position: relative;background-color: white;}#sk-container-id-5 div.sk-parallel-item:first-child::after {align-self: flex-end;width: 50%;}#sk-container-id-5 div.sk-parallel-item:last-child::after {align-self: flex-start;width: 50%;}#sk-container-id-5 div.sk-parallel-item:only-child::after {width: 0;}#sk-container-id-5 div.sk-dashed-wrapped {border: 1px dashed gray;margin: 0 0.4em 0.5em 0.4em;box-sizing: border-box;padding-bottom: 0.4em;background-color: white;}#sk-container-id-5 div.sk-label label {font-family: monospace;font-weight: bold;display: inline-block;line-height: 1.2em;}#sk-container-id-5 div.sk-label-container {text-align: center;}#sk-container-id-5 div.sk-container {/* jupyter's `normalize.less` sets `[hidden] { display: none; }` but bootstrap.min.css set `[hidden] { display: none !important; }` so we also need the `!important` here to be able to override the default hidden behavior on the sphinx rendered scikit-learn.org. See: https://github.com/scikit-learn/scikit-learn/issues/21755 */display: inline-block !important;position: relative;}#sk-container-id-5 div.sk-text-repr-fallback {display: none;}</style><div id=\"sk-container-id-5\" class=\"sk-top-container\"><div class=\"sk-text-repr-fallback\"><pre>ExtraTreesClassifier(bootstrap=True, ccp_alpha=0.00016355852637635468,\n",
       "                     class_weight=&#x27;balanced_subsample&#x27;, n_jobs=5,\n",
       "                     oob_score=True, random_state=0)</pre><b>In a Jupyter environment, please rerun this cell to show the HTML representation or trust the notebook. <br />On GitHub, the HTML representation is unable to render, please try loading this page with nbviewer.org.</b></div><div class=\"sk-container\" hidden><div class=\"sk-item\"><div class=\"sk-estimator sk-toggleable\"><input class=\"sk-toggleable__control sk-hidden--visually\" id=\"sk-estimator-id-18\" type=\"checkbox\" checked><label for=\"sk-estimator-id-18\" class=\"sk-toggleable__label sk-toggleable__label-arrow\">ExtraTreesClassifier</label><div class=\"sk-toggleable__content\"><pre>ExtraTreesClassifier(bootstrap=True, ccp_alpha=0.00016355852637635468,\n",
       "                     class_weight=&#x27;balanced_subsample&#x27;, n_jobs=5,\n",
       "                     oob_score=True, random_state=0)</pre></div></div></div></div></div>"
      ],
      "text/plain": [
       "ExtraTreesClassifier(bootstrap=True, ccp_alpha=0.00016355852637635468,\n",
       "                     class_weight='balanced_subsample', n_jobs=5,\n",
       "                     oob_score=True, random_state=0)"
      ]
     },
     "execution_count": 141,
     "metadata": {},
     "output_type": "execute_result"
    }
   ],
   "source": [
    "clfs[4]"
   ]
  },
  {
   "cell_type": "markdown",
   "metadata": {},
   "source": [
    "Лучший коэф для прунинга 0.00016355852637635468"
   ]
  },
  {
   "cell_type": "code",
   "execution_count": 229,
   "metadata": {},
   "outputs": [],
   "source": [
    "pipe = Pipeline([\n",
    "    ('model', ExtraTreesClassifier(class_weight='balanced_subsample', oob_score=True, bootstrap=True, n_jobs=5, ccp_alpha=9.686564719934686e-05))\n",
    "    ])"
   ]
  },
  {
   "cell_type": "markdown",
   "metadata": {},
   "source": []
  },
  {
   "cell_type": "code",
   "execution_count": 230,
   "metadata": {},
   "outputs": [
    {
     "data": {
      "text/plain": [
       "array([0.32488326, 0.32741828, 0.33382255, 0.32830743, 0.33070919])"
      ]
     },
     "execution_count": 230,
     "metadata": {},
     "output_type": "execute_result"
    }
   ],
   "source": [
    "cross_val_score(pipe, X_train, y_train, n_jobs=1)"
   ]
  },
  {
   "cell_type": "code",
   "execution_count": 231,
   "metadata": {},
   "outputs": [
    {
     "data": {
      "text/html": [
       "<style>#sk-container-id-8 {color: black;}#sk-container-id-8 pre{padding: 0;}#sk-container-id-8 div.sk-toggleable {background-color: white;}#sk-container-id-8 label.sk-toggleable__label {cursor: pointer;display: block;width: 100%;margin-bottom: 0;padding: 0.3em;box-sizing: border-box;text-align: center;}#sk-container-id-8 label.sk-toggleable__label-arrow:before {content: \"▸\";float: left;margin-right: 0.25em;color: #696969;}#sk-container-id-8 label.sk-toggleable__label-arrow:hover:before {color: black;}#sk-container-id-8 div.sk-estimator:hover label.sk-toggleable__label-arrow:before {color: black;}#sk-container-id-8 div.sk-toggleable__content {max-height: 0;max-width: 0;overflow: hidden;text-align: left;background-color: #f0f8ff;}#sk-container-id-8 div.sk-toggleable__content pre {margin: 0.2em;color: black;border-radius: 0.25em;background-color: #f0f8ff;}#sk-container-id-8 input.sk-toggleable__control:checked~div.sk-toggleable__content {max-height: 200px;max-width: 100%;overflow: auto;}#sk-container-id-8 input.sk-toggleable__control:checked~label.sk-toggleable__label-arrow:before {content: \"▾\";}#sk-container-id-8 div.sk-estimator input.sk-toggleable__control:checked~label.sk-toggleable__label {background-color: #d4ebff;}#sk-container-id-8 div.sk-label input.sk-toggleable__control:checked~label.sk-toggleable__label {background-color: #d4ebff;}#sk-container-id-8 input.sk-hidden--visually {border: 0;clip: rect(1px 1px 1px 1px);clip: rect(1px, 1px, 1px, 1px);height: 1px;margin: -1px;overflow: hidden;padding: 0;position: absolute;width: 1px;}#sk-container-id-8 div.sk-estimator {font-family: monospace;background-color: #f0f8ff;border: 1px dotted black;border-radius: 0.25em;box-sizing: border-box;margin-bottom: 0.5em;}#sk-container-id-8 div.sk-estimator:hover {background-color: #d4ebff;}#sk-container-id-8 div.sk-parallel-item::after {content: \"\";width: 100%;border-bottom: 1px solid gray;flex-grow: 1;}#sk-container-id-8 div.sk-label:hover label.sk-toggleable__label {background-color: #d4ebff;}#sk-container-id-8 div.sk-serial::before {content: \"\";position: absolute;border-left: 1px solid gray;box-sizing: border-box;top: 0;bottom: 0;left: 50%;z-index: 0;}#sk-container-id-8 div.sk-serial {display: flex;flex-direction: column;align-items: center;background-color: white;padding-right: 0.2em;padding-left: 0.2em;position: relative;}#sk-container-id-8 div.sk-item {position: relative;z-index: 1;}#sk-container-id-8 div.sk-parallel {display: flex;align-items: stretch;justify-content: center;background-color: white;position: relative;}#sk-container-id-8 div.sk-item::before, #sk-container-id-8 div.sk-parallel-item::before {content: \"\";position: absolute;border-left: 1px solid gray;box-sizing: border-box;top: 0;bottom: 0;left: 50%;z-index: -1;}#sk-container-id-8 div.sk-parallel-item {display: flex;flex-direction: column;z-index: 1;position: relative;background-color: white;}#sk-container-id-8 div.sk-parallel-item:first-child::after {align-self: flex-end;width: 50%;}#sk-container-id-8 div.sk-parallel-item:last-child::after {align-self: flex-start;width: 50%;}#sk-container-id-8 div.sk-parallel-item:only-child::after {width: 0;}#sk-container-id-8 div.sk-dashed-wrapped {border: 1px dashed gray;margin: 0 0.4em 0.5em 0.4em;box-sizing: border-box;padding-bottom: 0.4em;background-color: white;}#sk-container-id-8 div.sk-label label {font-family: monospace;font-weight: bold;display: inline-block;line-height: 1.2em;}#sk-container-id-8 div.sk-label-container {text-align: center;}#sk-container-id-8 div.sk-container {/* jupyter's `normalize.less` sets `[hidden] { display: none; }` but bootstrap.min.css set `[hidden] { display: none !important; }` so we also need the `!important` here to be able to override the default hidden behavior on the sphinx rendered scikit-learn.org. See: https://github.com/scikit-learn/scikit-learn/issues/21755 */display: inline-block !important;position: relative;}#sk-container-id-8 div.sk-text-repr-fallback {display: none;}</style><div id=\"sk-container-id-8\" class=\"sk-top-container\"><div class=\"sk-text-repr-fallback\"><pre>Pipeline(steps=[(&#x27;model&#x27;,\n",
       "                 ExtraTreesClassifier(bootstrap=True,\n",
       "                                      ccp_alpha=9.686564719934686e-05,\n",
       "                                      class_weight=&#x27;balanced_subsample&#x27;,\n",
       "                                      n_jobs=5, oob_score=True))])</pre><b>In a Jupyter environment, please rerun this cell to show the HTML representation or trust the notebook. <br />On GitHub, the HTML representation is unable to render, please try loading this page with nbviewer.org.</b></div><div class=\"sk-container\" hidden><div class=\"sk-item sk-dashed-wrapped\"><div class=\"sk-label-container\"><div class=\"sk-label sk-toggleable\"><input class=\"sk-toggleable__control sk-hidden--visually\" id=\"sk-estimator-id-25\" type=\"checkbox\" ><label for=\"sk-estimator-id-25\" class=\"sk-toggleable__label sk-toggleable__label-arrow\">Pipeline</label><div class=\"sk-toggleable__content\"><pre>Pipeline(steps=[(&#x27;model&#x27;,\n",
       "                 ExtraTreesClassifier(bootstrap=True,\n",
       "                                      ccp_alpha=9.686564719934686e-05,\n",
       "                                      class_weight=&#x27;balanced_subsample&#x27;,\n",
       "                                      n_jobs=5, oob_score=True))])</pre></div></div></div><div class=\"sk-serial\"><div class=\"sk-item\"><div class=\"sk-estimator sk-toggleable\"><input class=\"sk-toggleable__control sk-hidden--visually\" id=\"sk-estimator-id-26\" type=\"checkbox\" ><label for=\"sk-estimator-id-26\" class=\"sk-toggleable__label sk-toggleable__label-arrow\">ExtraTreesClassifier</label><div class=\"sk-toggleable__content\"><pre>ExtraTreesClassifier(bootstrap=True, ccp_alpha=9.686564719934686e-05,\n",
       "                     class_weight=&#x27;balanced_subsample&#x27;, n_jobs=5,\n",
       "                     oob_score=True)</pre></div></div></div></div></div></div></div>"
      ],
      "text/plain": [
       "Pipeline(steps=[('model',\n",
       "                 ExtraTreesClassifier(bootstrap=True,\n",
       "                                      ccp_alpha=9.686564719934686e-05,\n",
       "                                      class_weight='balanced_subsample',\n",
       "                                      n_jobs=5, oob_score=True))])"
      ]
     },
     "execution_count": 231,
     "metadata": {},
     "output_type": "execute_result"
    }
   ],
   "source": [
    "pipe.fit(X_train, y_train)"
   ]
  },
  {
   "cell_type": "code",
   "execution_count": 232,
   "metadata": {},
   "outputs": [],
   "source": [
    "y_pred = pipe.predict(X_val)"
   ]
  },
  {
   "cell_type": "markdown",
   "metadata": {},
   "source": [
    "## Метрики для - Сфера деятельности по Классификатору ФОИР"
   ]
  },
  {
   "cell_type": "code",
   "execution_count": 145,
   "metadata": {},
   "outputs": [
    {
     "name": "stdout",
     "output_type": "stream",
     "text": [
      "              precision    recall  f1-score   support\n",
      "\n",
      "           0       0.43      0.75      0.55         8\n",
      "           1       0.00      0.00      0.00         0\n",
      "           2       0.00      0.00      0.00         0\n",
      "           3       0.40      0.29      0.33         7\n",
      "           4       0.90      0.90      0.90        39\n",
      "           5       0.31      0.33      0.32        12\n",
      "           6       0.87      0.82      0.85        97\n",
      "           7       0.93      0.84      0.89       128\n",
      "\n",
      "    accuracy                           0.81       291\n",
      "   macro avg       0.48      0.49      0.48       291\n",
      "weighted avg       0.85      0.81      0.83       291\n",
      "\n"
     ]
    },
    {
     "name": "stderr",
     "output_type": "stream",
     "text": [
      "/home/admin01/vadim/classifier/.venv/lib/python3.10/site-packages/sklearn/metrics/_classification.py:1469: UndefinedMetricWarning: Recall and F-score are ill-defined and being set to 0.0 in labels with no true samples. Use `zero_division` parameter to control this behavior.\n",
      "  _warn_prf(average, modifier, msg_start, len(result))\n",
      "/home/admin01/vadim/classifier/.venv/lib/python3.10/site-packages/sklearn/metrics/_classification.py:1469: UndefinedMetricWarning: Recall and F-score are ill-defined and being set to 0.0 in labels with no true samples. Use `zero_division` parameter to control this behavior.\n",
      "  _warn_prf(average, modifier, msg_start, len(result))\n",
      "/home/admin01/vadim/classifier/.venv/lib/python3.10/site-packages/sklearn/metrics/_classification.py:1469: UndefinedMetricWarning: Recall and F-score are ill-defined and being set to 0.0 in labels with no true samples. Use `zero_division` parameter to control this behavior.\n",
      "  _warn_prf(average, modifier, msg_start, len(result))\n"
     ]
    }
   ],
   "source": [
    "print(classification_report(y_val, y_pred,))"
   ]
  },
  {
   "cell_type": "code",
   "execution_count": 146,
   "metadata": {},
   "outputs": [
    {
     "data": {
      "text/plain": [
       "array(['Государственные корпорации и Институты развития',\n",
       "       'Коммерческие компании, государственные/муниципальные предприятия',\n",
       "       'Не работаю',\n",
       "       'Общественные/общественно-политические организации и НКО ',\n",
       "       'Органы местного самоуправления (ОМСУ)',\n",
       "       'Подведомственные органам власти (государственные/муниципальные) организации',\n",
       "       'Региональные органы государственной власти, в т.ч. гражданская служба субъектов РФ',\n",
       "       'Федеральные государственные органы, в т.ч. федеральная государственная служба'],\n",
       "      dtype=object)"
      ]
     },
     "execution_count": 146,
     "metadata": {},
     "output_type": "execute_result"
    }
   ],
   "source": [
    "LE.classes_"
   ]
  },
  {
   "cell_type": "code",
   "execution_count": 147,
   "metadata": {},
   "outputs": [
    {
     "data": {
      "text/plain": [
       "<sklearn.metrics._plot.confusion_matrix.ConfusionMatrixDisplay at 0x7f879e699b40>"
      ]
     },
     "execution_count": 147,
     "metadata": {},
     "output_type": "execute_result"
    },
    {
     "data": {
      "image/png": "[encoded data removed]",
      "text/plain": [
       "<Figure size 640x480 with 2 Axes>"
      ]
     },
     "metadata": {},
     "output_type": "display_data"
    }
   ],
   "source": [
    "ConfusionMatrixDisplay.from_estimator(\n",
    "    pipe, X_val, y_val, display_labels=LE.classes_[:], xticks_rotation=\"vertical\"\n",
    ")"
   ]
  },
  {
   "cell_type": "markdown",
   "metadata": {},
   "source": [
    "## Метрики для - Карьерная ступень по Классификатору ФОИР"
   ]
  },
  {
   "cell_type": "code",
   "execution_count": 233,
   "metadata": {},
   "outputs": [
    {
     "name": "stdout",
     "output_type": "stream",
     "text": [
      "              precision    recall  f1-score   support\n",
      "\n",
      "           0       0.29      0.12      0.17        16\n",
      "           1       0.17      0.02      0.04        46\n",
      "           2       0.21      0.35      0.26        34\n",
      "           3       0.19      0.89      0.31        38\n",
      "           4       0.00      0.00      0.00        38\n",
      "           5       0.12      0.07      0.09        15\n",
      "           6       0.14      0.11      0.12         9\n",
      "           7       1.00      0.02      0.03        57\n",
      "           8       0.00      0.00      0.00        18\n",
      "           9       0.00      0.00      0.00        16\n",
      "          10       0.00      0.00      0.00         4\n",
      "          11       0.00      0.00      0.00         0\n",
      "\n",
      "    accuracy                           0.18       291\n",
      "   macro avg       0.18      0.13      0.09       291\n",
      "weighted avg       0.30      0.18      0.10       291\n",
      "\n"
     ]
    },
    {
     "name": "stderr",
     "output_type": "stream",
     "text": [
      "/home/admin01/vadim/classifier/.venv/lib/python3.10/site-packages/sklearn/metrics/_classification.py:1469: UndefinedMetricWarning: Precision and F-score are ill-defined and being set to 0.0 in labels with no predicted samples. Use `zero_division` parameter to control this behavior.\n",
      "  _warn_prf(average, modifier, msg_start, len(result))\n",
      "/home/admin01/vadim/classifier/.venv/lib/python3.10/site-packages/sklearn/metrics/_classification.py:1469: UndefinedMetricWarning: Recall and F-score are ill-defined and being set to 0.0 in labels with no true samples. Use `zero_division` parameter to control this behavior.\n",
      "  _warn_prf(average, modifier, msg_start, len(result))\n",
      "/home/admin01/vadim/classifier/.venv/lib/python3.10/site-packages/sklearn/metrics/_classification.py:1469: UndefinedMetricWarning: Precision and F-score are ill-defined and being set to 0.0 in labels with no predicted samples. Use `zero_division` parameter to control this behavior.\n",
      "  _warn_prf(average, modifier, msg_start, len(result))\n",
      "/home/admin01/vadim/classifier/.venv/lib/python3.10/site-packages/sklearn/metrics/_classification.py:1469: UndefinedMetricWarning: Recall and F-score are ill-defined and being set to 0.0 in labels with no true samples. Use `zero_division` parameter to control this behavior.\n",
      "  _warn_prf(average, modifier, msg_start, len(result))\n",
      "/home/admin01/vadim/classifier/.venv/lib/python3.10/site-packages/sklearn/metrics/_classification.py:1469: UndefinedMetricWarning: Precision and F-score are ill-defined and being set to 0.0 in labels with no predicted samples. Use `zero_division` parameter to control this behavior.\n",
      "  _warn_prf(average, modifier, msg_start, len(result))\n",
      "/home/admin01/vadim/classifier/.venv/lib/python3.10/site-packages/sklearn/metrics/_classification.py:1469: UndefinedMetricWarning: Recall and F-score are ill-defined and being set to 0.0 in labels with no true samples. Use `zero_division` parameter to control this behavior.\n",
      "  _warn_prf(average, modifier, msg_start, len(result))\n"
     ]
    }
   ],
   "source": [
    "print(classification_report(y_val, y_pred,))"
   ]
  },
  {
   "cell_type": "code",
   "execution_count": 234,
   "metadata": {},
   "outputs": [
    {
     "data": {
      "text/plain": [
       "array([ 1,  2,  3,  4,  5,  6,  7,  8,  9, 10, 11, 12])"
      ]
     },
     "execution_count": 234,
     "metadata": {},
     "output_type": "execute_result"
    }
   ],
   "source": [
    "LE.classes_"
   ]
  },
  {
   "cell_type": "code",
   "execution_count": 236,
   "metadata": {},
   "outputs": [
    {
     "data": {
      "text/plain": [
       "<sklearn.metrics._plot.confusion_matrix.ConfusionMatrixDisplay at 0x7f8760fe8310>"
      ]
     },
     "execution_count": 236,
     "metadata": {},
     "output_type": "execute_result"
    },
    {
     "data": {
      "image/png": "[encoded data removed]",
      "text/plain": [
       "<Figure size 640x480 with 2 Axes>"
      ]
     },
     "metadata": {},
     "output_type": "display_data"
    }
   ],
   "source": [
    "ConfusionMatrixDisplay.from_estimator(\n",
    "    pipe, X_val, y_val, display_labels=LE.classes_[:], xticks_rotation=\"vertical\"\n",
    ")"
   ]
  },
  {
   "cell_type": "code",
   "execution_count": null,
   "metadata": {},
   "outputs": [],
   "source": []
  }
 ],
 "metadata": {
  "kernelspec": {
   "display_name": ".venv",
   "language": "python",
   "name": "python3"
  },
  "language_info": {
   "codemirror_mode": {
    "name": "ipython",
    "version": 3
   },
   "file_extension": ".py",
   "mimetype": "text/x-python",
   "name": "python",
   "nbconvert_exporter": "python",
   "pygments_lexer": "ipython3",
   "version": "3.10.12"
  },
  "orig_nbformat": 4
 },
 "nbformat": 4,
 "nbformat_minor": 2
}
